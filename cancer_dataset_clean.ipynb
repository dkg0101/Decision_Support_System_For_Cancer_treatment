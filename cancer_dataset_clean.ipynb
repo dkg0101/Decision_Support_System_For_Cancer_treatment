{
 "cells": [
  {
   "cell_type": "code",
   "execution_count": 1,
   "id": "264418a8",
   "metadata": {},
   "outputs": [],
   "source": [
    "import pandas as pd\n",
    "import numpy as np"
   ]
  },
  {
   "cell_type": "code",
   "execution_count": 2,
   "id": "3ee07dbf",
   "metadata": {},
   "outputs": [
    {
     "data": {
      "text/html": [
       "<div>\n",
       "<style scoped>\n",
       "    .dataframe tbody tr th:only-of-type {\n",
       "        vertical-align: middle;\n",
       "    }\n",
       "\n",
       "    .dataframe tbody tr th {\n",
       "        vertical-align: top;\n",
       "    }\n",
       "\n",
       "    .dataframe thead th {\n",
       "        text-align: right;\n",
       "    }\n",
       "</style>\n",
       "<table border=\"1\" class=\"dataframe\">\n",
       "  <thead>\n",
       "    <tr style=\"text-align: right;\">\n",
       "      <th></th>\n",
       "      <th>Patient_ID</th>\n",
       "      <th>Age</th>\n",
       "      <th>Gender</th>\n",
       "      <th>Cancer_Stage</th>\n",
       "      <th>PD-L1_Level</th>\n",
       "      <th>EGFR_Mutation_Count</th>\n",
       "      <th>Tumor_Size</th>\n",
       "      <th>Treatment_Type</th>\n",
       "      <th>Smoking_Status</th>\n",
       "      <th>Response</th>\n",
       "    </tr>\n",
       "  </thead>\n",
       "  <tbody>\n",
       "    <tr>\n",
       "      <th>0</th>\n",
       "      <td>1</td>\n",
       "      <td>62</td>\n",
       "      <td>Male</td>\n",
       "      <td>Stage III</td>\n",
       "      <td>99</td>\n",
       "      <td>8</td>\n",
       "      <td>9.100000</td>\n",
       "      <td>Chemotherapy</td>\n",
       "      <td>Current</td>\n",
       "      <td>Non-Responder</td>\n",
       "    </tr>\n",
       "    <tr>\n",
       "      <th>1</th>\n",
       "      <td>2</td>\n",
       "      <td>71</td>\n",
       "      <td>Female</td>\n",
       "      <td>Stage II</td>\n",
       "      <td>92</td>\n",
       "      <td>11</td>\n",
       "      <td>7.800000</td>\n",
       "      <td>Chemotherapy</td>\n",
       "      <td>Never</td>\n",
       "      <td>Responder</td>\n",
       "    </tr>\n",
       "    <tr>\n",
       "      <th>2</th>\n",
       "      <td>3</td>\n",
       "      <td>56</td>\n",
       "      <td>NaN</td>\n",
       "      <td>Stage IV</td>\n",
       "      <td>22</td>\n",
       "      <td>8</td>\n",
       "      <td>8.500000</td>\n",
       "      <td>Immunotherapy</td>\n",
       "      <td>Former</td>\n",
       "      <td>Responder</td>\n",
       "    </tr>\n",
       "    <tr>\n",
       "      <th>3</th>\n",
       "      <td>4</td>\n",
       "      <td>79</td>\n",
       "      <td>Female</td>\n",
       "      <td>Stage IV</td>\n",
       "      <td>31</td>\n",
       "      <td>3</td>\n",
       "      <td>8.000000</td>\n",
       "      <td>Chemotherapy</td>\n",
       "      <td>Former</td>\n",
       "      <td>Non-Responder</td>\n",
       "    </tr>\n",
       "    <tr>\n",
       "      <th>4</th>\n",
       "      <td>5</td>\n",
       "      <td>59</td>\n",
       "      <td>Male</td>\n",
       "      <td>Stage II</td>\n",
       "      <td>10</td>\n",
       "      <td>14</td>\n",
       "      <td>9.800000</td>\n",
       "      <td>Chemotherapy</td>\n",
       "      <td>NaN</td>\n",
       "      <td>Non-Responder</td>\n",
       "    </tr>\n",
       "    <tr>\n",
       "      <th>5</th>\n",
       "      <td>6</td>\n",
       "      <td>69</td>\n",
       "      <td>Female</td>\n",
       "      <td>Stage II</td>\n",
       "      <td>65</td>\n",
       "      <td>4</td>\n",
       "      <td>7.800000</td>\n",
       "      <td>Immunotherapy</td>\n",
       "      <td>Former</td>\n",
       "      <td>Non-Responder</td>\n",
       "    </tr>\n",
       "    <tr>\n",
       "      <th>6</th>\n",
       "      <td>7</td>\n",
       "      <td>67</td>\n",
       "      <td>Male</td>\n",
       "      <td>Stage IV</td>\n",
       "      <td>95</td>\n",
       "      <td>9</td>\n",
       "      <td>2.900000</td>\n",
       "      <td>Chemotherapy</td>\n",
       "      <td>Former</td>\n",
       "      <td>Responder</td>\n",
       "    </tr>\n",
       "    <tr>\n",
       "      <th>7</th>\n",
       "      <td>8</td>\n",
       "      <td>86</td>\n",
       "      <td>Female</td>\n",
       "      <td>Stage IV</td>\n",
       "      <td>4</td>\n",
       "      <td>6</td>\n",
       "      <td>8.100000</td>\n",
       "      <td>Chemotherapy</td>\n",
       "      <td>Current</td>\n",
       "      <td>Responder</td>\n",
       "    </tr>\n",
       "    <tr>\n",
       "      <th>8</th>\n",
       "      <td>9</td>\n",
       "      <td>112</td>\n",
       "      <td>Male</td>\n",
       "      <td>Stage II</td>\n",
       "      <td>94</td>\n",
       "      <td>5</td>\n",
       "      <td>8.658840</td>\n",
       "      <td>Immunotherapy</td>\n",
       "      <td>Former</td>\n",
       "      <td>Non-Responder</td>\n",
       "    </tr>\n",
       "    <tr>\n",
       "      <th>9</th>\n",
       "      <td>10</td>\n",
       "      <td>90</td>\n",
       "      <td>Male</td>\n",
       "      <td>Stage IV</td>\n",
       "      <td>12</td>\n",
       "      <td>14</td>\n",
       "      <td>22.202153</td>\n",
       "      <td>Chemotherapy</td>\n",
       "      <td>NaN</td>\n",
       "      <td>Responder</td>\n",
       "    </tr>\n",
       "  </tbody>\n",
       "</table>\n",
       "</div>"
      ],
      "text/plain": [
       "   Patient_ID  Age  Gender Cancer_Stage  PD-L1_Level  EGFR_Mutation_Count  \\\n",
       "0           1   62    Male    Stage III           99                    8   \n",
       "1           2   71  Female     Stage II           92                   11   \n",
       "2           3   56     NaN     Stage IV           22                    8   \n",
       "3           4   79  Female     Stage IV           31                    3   \n",
       "4           5   59    Male     Stage II           10                   14   \n",
       "5           6   69  Female     Stage II           65                    4   \n",
       "6           7   67    Male     Stage IV           95                    9   \n",
       "7           8   86  Female     Stage IV            4                    6   \n",
       "8           9  112    Male     Stage II           94                    5   \n",
       "9          10   90    Male     Stage IV           12                   14   \n",
       "\n",
       "   Tumor_Size Treatment_Type Smoking_Status       Response  \n",
       "0    9.100000   Chemotherapy        Current  Non-Responder  \n",
       "1    7.800000   Chemotherapy          Never      Responder  \n",
       "2    8.500000  Immunotherapy         Former      Responder  \n",
       "3    8.000000   Chemotherapy         Former  Non-Responder  \n",
       "4    9.800000   Chemotherapy            NaN  Non-Responder  \n",
       "5    7.800000  Immunotherapy         Former  Non-Responder  \n",
       "6    2.900000   Chemotherapy         Former      Responder  \n",
       "7    8.100000   Chemotherapy        Current      Responder  \n",
       "8    8.658840  Immunotherapy         Former  Non-Responder  \n",
       "9   22.202153   Chemotherapy            NaN      Responder  "
      ]
     },
     "execution_count": 2,
     "metadata": {},
     "output_type": "execute_result"
    }
   ],
   "source": [
    "#Import dataset\n",
    "\n",
    "data= pd.read_csv(\"cancer_treatment_data.csv\")\n",
    "data.head(10)"
   ]
  },
  {
   "cell_type": "code",
   "execution_count": 3,
   "id": "f10afb96",
   "metadata": {},
   "outputs": [],
   "source": [
    "#Renaming the field\n",
    "data.rename(columns={'PD-L1_Level': 'PD-L1_Level(%)'}, inplace=True)\n"
   ]
  },
  {
   "cell_type": "markdown",
   "id": "0002bb84",
   "metadata": {},
   "source": [
    "# Inspect data Structure"
   ]
  },
  {
   "cell_type": "code",
   "execution_count": 4,
   "id": "a1a1850f",
   "metadata": {},
   "outputs": [
    {
     "data": {
      "text/plain": [
       "(3000, 10)"
      ]
     },
     "execution_count": 4,
     "metadata": {},
     "output_type": "execute_result"
    }
   ],
   "source": [
    "#Check the shape of data\n",
    "data.shape"
   ]
  },
  {
   "cell_type": "markdown",
   "id": "9a149b19",
   "metadata": {},
   "source": [
    "The dataset consists of 3000 rows and 10 columns."
   ]
  },
  {
   "cell_type": "code",
   "execution_count": 5,
   "id": "e2135f50",
   "metadata": {},
   "outputs": [
    {
     "data": {
      "text/plain": [
       "Patient_ID               int64\n",
       "Age                      int64\n",
       "Gender                  object\n",
       "Cancer_Stage            object\n",
       "PD-L1_Level(%)           int64\n",
       "EGFR_Mutation_Count      int64\n",
       "Tumor_Size             float64\n",
       "Treatment_Type          object\n",
       "Smoking_Status          object\n",
       "Response                object\n",
       "dtype: object"
      ]
     },
     "execution_count": 5,
     "metadata": {},
     "output_type": "execute_result"
    }
   ],
   "source": [
    "#Column names and data types\n",
    "data.dtypes"
   ]
  },
  {
   "cell_type": "code",
   "execution_count": 6,
   "id": "c1edee30",
   "metadata": {},
   "outputs": [],
   "source": [
    "# Convert the text columns to the string data type\n",
    "data['Gender'] = data['Gender'].astype(\"string\")\n",
    "data['Cancer_Stage']= data['Cancer_Stage'].astype(\"string\")\n",
    "data['Treatment_Type']=data['Treatment_Type'].astype(\"string\")\n",
    "data['Smoking_Status']=data['Smoking_Status'].astype(\"string\")\n",
    "data['Response']=data['Response'].astype(\"string\")"
   ]
  },
  {
   "cell_type": "code",
   "execution_count": 7,
   "id": "2e2cb38b",
   "metadata": {},
   "outputs": [
    {
     "data": {
      "text/plain": [
       "Patient_ID               int64\n",
       "Age                      int64\n",
       "Gender                  string\n",
       "Cancer_Stage            string\n",
       "PD-L1_Level(%)           int64\n",
       "EGFR_Mutation_Count      int64\n",
       "Tumor_Size             float64\n",
       "Treatment_Type          string\n",
       "Smoking_Status          string\n",
       "Response                string\n",
       "dtype: object"
      ]
     },
     "execution_count": 7,
     "metadata": {},
     "output_type": "execute_result"
    }
   ],
   "source": [
    "data.dtypes"
   ]
  },
  {
   "cell_type": "code",
   "execution_count": 8,
   "id": "ff097929",
   "metadata": {},
   "outputs": [],
   "source": [
    "#Round decimals in Tumor_Size to 1 decimal\n",
    "data['Tumor_Size']=data['Tumor_Size'].round(1)"
   ]
  },
  {
   "cell_type": "code",
   "execution_count": 9,
   "id": "90ab7845",
   "metadata": {},
   "outputs": [
    {
     "data": {
      "text/html": [
       "<div>\n",
       "<style scoped>\n",
       "    .dataframe tbody tr th:only-of-type {\n",
       "        vertical-align: middle;\n",
       "    }\n",
       "\n",
       "    .dataframe tbody tr th {\n",
       "        vertical-align: top;\n",
       "    }\n",
       "\n",
       "    .dataframe thead th {\n",
       "        text-align: right;\n",
       "    }\n",
       "</style>\n",
       "<table border=\"1\" class=\"dataframe\">\n",
       "  <thead>\n",
       "    <tr style=\"text-align: right;\">\n",
       "      <th></th>\n",
       "      <th>Patient_ID</th>\n",
       "      <th>Age</th>\n",
       "      <th>Gender</th>\n",
       "      <th>Cancer_Stage</th>\n",
       "      <th>PD-L1_Level(%)</th>\n",
       "      <th>EGFR_Mutation_Count</th>\n",
       "      <th>Tumor_Size</th>\n",
       "      <th>Treatment_Type</th>\n",
       "      <th>Smoking_Status</th>\n",
       "      <th>Response</th>\n",
       "    </tr>\n",
       "  </thead>\n",
       "  <tbody>\n",
       "    <tr>\n",
       "      <th>0</th>\n",
       "      <td>1</td>\n",
       "      <td>62</td>\n",
       "      <td>Male</td>\n",
       "      <td>Stage III</td>\n",
       "      <td>99</td>\n",
       "      <td>8</td>\n",
       "      <td>9.1</td>\n",
       "      <td>Chemotherapy</td>\n",
       "      <td>Current</td>\n",
       "      <td>Non-Responder</td>\n",
       "    </tr>\n",
       "    <tr>\n",
       "      <th>1</th>\n",
       "      <td>2</td>\n",
       "      <td>71</td>\n",
       "      <td>Female</td>\n",
       "      <td>Stage II</td>\n",
       "      <td>92</td>\n",
       "      <td>11</td>\n",
       "      <td>7.8</td>\n",
       "      <td>Chemotherapy</td>\n",
       "      <td>Never</td>\n",
       "      <td>Responder</td>\n",
       "    </tr>\n",
       "    <tr>\n",
       "      <th>2</th>\n",
       "      <td>3</td>\n",
       "      <td>56</td>\n",
       "      <td>&lt;NA&gt;</td>\n",
       "      <td>Stage IV</td>\n",
       "      <td>22</td>\n",
       "      <td>8</td>\n",
       "      <td>8.5</td>\n",
       "      <td>Immunotherapy</td>\n",
       "      <td>Former</td>\n",
       "      <td>Responder</td>\n",
       "    </tr>\n",
       "    <tr>\n",
       "      <th>3</th>\n",
       "      <td>4</td>\n",
       "      <td>79</td>\n",
       "      <td>Female</td>\n",
       "      <td>Stage IV</td>\n",
       "      <td>31</td>\n",
       "      <td>3</td>\n",
       "      <td>8.0</td>\n",
       "      <td>Chemotherapy</td>\n",
       "      <td>Former</td>\n",
       "      <td>Non-Responder</td>\n",
       "    </tr>\n",
       "    <tr>\n",
       "      <th>4</th>\n",
       "      <td>5</td>\n",
       "      <td>59</td>\n",
       "      <td>Male</td>\n",
       "      <td>Stage II</td>\n",
       "      <td>10</td>\n",
       "      <td>14</td>\n",
       "      <td>9.8</td>\n",
       "      <td>Chemotherapy</td>\n",
       "      <td>&lt;NA&gt;</td>\n",
       "      <td>Non-Responder</td>\n",
       "    </tr>\n",
       "  </tbody>\n",
       "</table>\n",
       "</div>"
      ],
      "text/plain": [
       "   Patient_ID  Age  Gender Cancer_Stage  PD-L1_Level(%)  EGFR_Mutation_Count  \\\n",
       "0           1   62    Male    Stage III              99                    8   \n",
       "1           2   71  Female     Stage II              92                   11   \n",
       "2           3   56    <NA>     Stage IV              22                    8   \n",
       "3           4   79  Female     Stage IV              31                    3   \n",
       "4           5   59    Male     Stage II              10                   14   \n",
       "\n",
       "   Tumor_Size Treatment_Type Smoking_Status       Response  \n",
       "0         9.1   Chemotherapy        Current  Non-Responder  \n",
       "1         7.8   Chemotherapy          Never      Responder  \n",
       "2         8.5  Immunotherapy         Former      Responder  \n",
       "3         8.0   Chemotherapy         Former  Non-Responder  \n",
       "4         9.8   Chemotherapy           <NA>  Non-Responder  "
      ]
     },
     "execution_count": 9,
     "metadata": {},
     "output_type": "execute_result"
    }
   ],
   "source": [
    "data.head(5)"
   ]
  },
  {
   "cell_type": "code",
   "execution_count": 10,
   "id": "7ea05dda",
   "metadata": {},
   "outputs": [
    {
     "name": "stdout",
     "output_type": "stream",
     "text": [
      "<class 'pandas.core.frame.DataFrame'>\n",
      "RangeIndex: 3000 entries, 0 to 2999\n",
      "Data columns (total 10 columns):\n",
      " #   Column               Non-Null Count  Dtype  \n",
      "---  ------               --------------  -----  \n",
      " 0   Patient_ID           3000 non-null   int64  \n",
      " 1   Age                  3000 non-null   int64  \n",
      " 2   Gender               2700 non-null   string \n",
      " 3   Cancer_Stage         3000 non-null   string \n",
      " 4   PD-L1_Level(%)       3000 non-null   int64  \n",
      " 5   EGFR_Mutation_Count  3000 non-null   int64  \n",
      " 6   Tumor_Size           3000 non-null   float64\n",
      " 7   Treatment_Type       3000 non-null   string \n",
      " 8   Smoking_Status       2700 non-null   string \n",
      " 9   Response             3000 non-null   string \n",
      "dtypes: float64(1), int64(4), string(5)\n",
      "memory usage: 234.5 KB\n"
     ]
    }
   ],
   "source": [
    "#To get summary of the data\n",
    "data.info()"
   ]
  },
  {
   "cell_type": "markdown",
   "id": "e3af3d3f",
   "metadata": {},
   "source": [
    "# Check For Missing Values"
   ]
  },
  {
   "cell_type": "code",
   "execution_count": 11,
   "id": "94b34636",
   "metadata": {},
   "outputs": [
    {
     "data": {
      "text/plain": [
       "Patient_ID               0\n",
       "Age                      0\n",
       "Gender                 300\n",
       "Cancer_Stage             0\n",
       "PD-L1_Level(%)           0\n",
       "EGFR_Mutation_Count      0\n",
       "Tumor_Size               0\n",
       "Treatment_Type           0\n",
       "Smoking_Status         300\n",
       "Response                 0\n",
       "dtype: int64"
      ]
     },
     "execution_count": 11,
     "metadata": {},
     "output_type": "execute_result"
    }
   ],
   "source": [
    "#To count missing values in each column\n",
    "data.isnull().sum()"
   ]
  },
  {
   "cell_type": "code",
   "execution_count": 12,
   "id": "ae214bd0",
   "metadata": {},
   "outputs": [
    {
     "data": {
      "text/plain": [
       "Patient_ID              0.0\n",
       "Age                     0.0\n",
       "Gender                 10.0\n",
       "Cancer_Stage            0.0\n",
       "PD-L1_Level(%)          0.0\n",
       "EGFR_Mutation_Count     0.0\n",
       "Tumor_Size              0.0\n",
       "Treatment_Type          0.0\n",
       "Smoking_Status         10.0\n",
       "Response                0.0\n",
       "dtype: float64"
      ]
     },
     "execution_count": 12,
     "metadata": {},
     "output_type": "execute_result"
    }
   ],
   "source": [
    "# Calculate the percentage of missing values for each column\n",
    "missing_percentage = (data.isnull().mean() * 100).round(2)\n",
    "missing_percentage"
   ]
  },
  {
   "cell_type": "markdown",
   "id": "e1a8be0b",
   "metadata": {},
   "source": [
    "Here the columns Gender and Smoking_Status have 10% missing values and are important features, we can handle the missing values by filling them with appropriate values."
   ]
  },
  {
   "cell_type": "code",
   "execution_count": 13,
   "id": "cc45c248",
   "metadata": {},
   "outputs": [
    {
     "data": {
      "text/plain": [
       "<StringArray>\n",
       "['Male', 'Female', <NA>]\n",
       "Length: 3, dtype: string"
      ]
     },
     "execution_count": 13,
     "metadata": {},
     "output_type": "execute_result"
    }
   ],
   "source": [
    "data.Gender.unique()"
   ]
  },
  {
   "cell_type": "code",
   "execution_count": 14,
   "id": "615a2e85",
   "metadata": {},
   "outputs": [
    {
     "data": {
      "text/plain": [
       "Female    1380\n",
       "Male      1320\n",
       "Name: Gender, dtype: Int64"
      ]
     },
     "execution_count": 14,
     "metadata": {},
     "output_type": "execute_result"
    }
   ],
   "source": [
    "data.Gender.value_counts()"
   ]
  },
  {
   "cell_type": "code",
   "execution_count": 15,
   "id": "065df89a",
   "metadata": {},
   "outputs": [],
   "source": [
    "#Fill missing values in Gender by Unknown as there’s no identifiable pattern,\n",
    "data['Gender'] = data['Gender'].fillna(data['Gender'].mode()[0])\n"
   ]
  },
  {
   "cell_type": "code",
   "execution_count": 16,
   "id": "658dc77d",
   "metadata": {},
   "outputs": [
    {
     "data": {
      "text/html": [
       "<div>\n",
       "<style scoped>\n",
       "    .dataframe tbody tr th:only-of-type {\n",
       "        vertical-align: middle;\n",
       "    }\n",
       "\n",
       "    .dataframe tbody tr th {\n",
       "        vertical-align: top;\n",
       "    }\n",
       "\n",
       "    .dataframe thead th {\n",
       "        text-align: right;\n",
       "    }\n",
       "</style>\n",
       "<table border=\"1\" class=\"dataframe\">\n",
       "  <thead>\n",
       "    <tr style=\"text-align: right;\">\n",
       "      <th></th>\n",
       "      <th>Patient_ID</th>\n",
       "      <th>Age</th>\n",
       "      <th>Gender</th>\n",
       "      <th>Cancer_Stage</th>\n",
       "      <th>PD-L1_Level(%)</th>\n",
       "      <th>EGFR_Mutation_Count</th>\n",
       "      <th>Tumor_Size</th>\n",
       "      <th>Treatment_Type</th>\n",
       "      <th>Smoking_Status</th>\n",
       "      <th>Response</th>\n",
       "    </tr>\n",
       "  </thead>\n",
       "  <tbody>\n",
       "    <tr>\n",
       "      <th>0</th>\n",
       "      <td>1</td>\n",
       "      <td>62</td>\n",
       "      <td>Male</td>\n",
       "      <td>Stage III</td>\n",
       "      <td>99</td>\n",
       "      <td>8</td>\n",
       "      <td>9.1</td>\n",
       "      <td>Chemotherapy</td>\n",
       "      <td>Current</td>\n",
       "      <td>Non-Responder</td>\n",
       "    </tr>\n",
       "    <tr>\n",
       "      <th>1</th>\n",
       "      <td>2</td>\n",
       "      <td>71</td>\n",
       "      <td>Female</td>\n",
       "      <td>Stage II</td>\n",
       "      <td>92</td>\n",
       "      <td>11</td>\n",
       "      <td>7.8</td>\n",
       "      <td>Chemotherapy</td>\n",
       "      <td>Never</td>\n",
       "      <td>Responder</td>\n",
       "    </tr>\n",
       "    <tr>\n",
       "      <th>2</th>\n",
       "      <td>3</td>\n",
       "      <td>56</td>\n",
       "      <td>Female</td>\n",
       "      <td>Stage IV</td>\n",
       "      <td>22</td>\n",
       "      <td>8</td>\n",
       "      <td>8.5</td>\n",
       "      <td>Immunotherapy</td>\n",
       "      <td>Former</td>\n",
       "      <td>Responder</td>\n",
       "    </tr>\n",
       "    <tr>\n",
       "      <th>3</th>\n",
       "      <td>4</td>\n",
       "      <td>79</td>\n",
       "      <td>Female</td>\n",
       "      <td>Stage IV</td>\n",
       "      <td>31</td>\n",
       "      <td>3</td>\n",
       "      <td>8.0</td>\n",
       "      <td>Chemotherapy</td>\n",
       "      <td>Former</td>\n",
       "      <td>Non-Responder</td>\n",
       "    </tr>\n",
       "    <tr>\n",
       "      <th>4</th>\n",
       "      <td>5</td>\n",
       "      <td>59</td>\n",
       "      <td>Male</td>\n",
       "      <td>Stage II</td>\n",
       "      <td>10</td>\n",
       "      <td>14</td>\n",
       "      <td>9.8</td>\n",
       "      <td>Chemotherapy</td>\n",
       "      <td>&lt;NA&gt;</td>\n",
       "      <td>Non-Responder</td>\n",
       "    </tr>\n",
       "  </tbody>\n",
       "</table>\n",
       "</div>"
      ],
      "text/plain": [
       "   Patient_ID  Age  Gender Cancer_Stage  PD-L1_Level(%)  EGFR_Mutation_Count  \\\n",
       "0           1   62    Male    Stage III              99                    8   \n",
       "1           2   71  Female     Stage II              92                   11   \n",
       "2           3   56  Female     Stage IV              22                    8   \n",
       "3           4   79  Female     Stage IV              31                    3   \n",
       "4           5   59    Male     Stage II              10                   14   \n",
       "\n",
       "   Tumor_Size Treatment_Type Smoking_Status       Response  \n",
       "0         9.1   Chemotherapy        Current  Non-Responder  \n",
       "1         7.8   Chemotherapy          Never      Responder  \n",
       "2         8.5  Immunotherapy         Former      Responder  \n",
       "3         8.0   Chemotherapy         Former  Non-Responder  \n",
       "4         9.8   Chemotherapy           <NA>  Non-Responder  "
      ]
     },
     "execution_count": 16,
     "metadata": {},
     "output_type": "execute_result"
    }
   ],
   "source": [
    "data.head()"
   ]
  },
  {
   "cell_type": "code",
   "execution_count": 17,
   "id": "f474c6ee",
   "metadata": {},
   "outputs": [
    {
     "data": {
      "text/plain": [
       "Patient_ID               0\n",
       "Age                      0\n",
       "Gender                   0\n",
       "Cancer_Stage             0\n",
       "PD-L1_Level(%)           0\n",
       "EGFR_Mutation_Count      0\n",
       "Tumor_Size               0\n",
       "Treatment_Type           0\n",
       "Smoking_Status         300\n",
       "Response                 0\n",
       "dtype: int64"
      ]
     },
     "execution_count": 17,
     "metadata": {},
     "output_type": "execute_result"
    }
   ],
   "source": [
    "data.isna().sum()"
   ]
  },
  {
   "cell_type": "code",
   "execution_count": 18,
   "id": "0505a90a",
   "metadata": {},
   "outputs": [],
   "source": [
    "#Fill missing values in Smoking_Status by \"Not Specified\" as the data was not provided\n",
    "\n",
    "data['Smoking_Status']= data['Smoking_Status'].fillna('Not Specified')"
   ]
  },
  {
   "cell_type": "code",
   "execution_count": 19,
   "id": "14fbc24f",
   "metadata": {},
   "outputs": [
    {
     "data": {
      "text/plain": [
       "Patient_ID             0\n",
       "Age                    0\n",
       "Gender                 0\n",
       "Cancer_Stage           0\n",
       "PD-L1_Level(%)         0\n",
       "EGFR_Mutation_Count    0\n",
       "Tumor_Size             0\n",
       "Treatment_Type         0\n",
       "Smoking_Status         0\n",
       "Response               0\n",
       "dtype: int64"
      ]
     },
     "execution_count": 19,
     "metadata": {},
     "output_type": "execute_result"
    }
   ],
   "source": [
    "#To check the count of missing values after filling it\n",
    "\n",
    "data.isnull().sum()"
   ]
  },
  {
   "cell_type": "markdown",
   "id": "645cf1c5",
   "metadata": {},
   "source": [
    "Now there are no any missing values present in the dataset. "
   ]
  },
  {
   "cell_type": "code",
   "execution_count": 20,
   "id": "8154d1ab",
   "metadata": {},
   "outputs": [
    {
     "data": {
      "text/plain": [
       "0"
      ]
     },
     "execution_count": 20,
     "metadata": {},
     "output_type": "execute_result"
    }
   ],
   "source": [
    "#To check duplicate values\n",
    "\n",
    "duplicates= data.duplicated().sum()\n",
    "duplicates"
   ]
  },
  {
   "cell_type": "markdown",
   "id": "348c40d5",
   "metadata": {},
   "source": [
    "There are no any duplicate values in the dataset."
   ]
  },
  {
   "cell_type": "markdown",
   "id": "2e36b8c9",
   "metadata": {},
   "source": [
    "# Summarize the data"
   ]
  },
  {
   "cell_type": "code",
   "execution_count": 21,
   "id": "a46ccff5",
   "metadata": {},
   "outputs": [
    {
     "data": {
      "text/html": [
       "<div>\n",
       "<style scoped>\n",
       "    .dataframe tbody tr th:only-of-type {\n",
       "        vertical-align: middle;\n",
       "    }\n",
       "\n",
       "    .dataframe tbody tr th {\n",
       "        vertical-align: top;\n",
       "    }\n",
       "\n",
       "    .dataframe thead th {\n",
       "        text-align: right;\n",
       "    }\n",
       "</style>\n",
       "<table border=\"1\" class=\"dataframe\">\n",
       "  <thead>\n",
       "    <tr style=\"text-align: right;\">\n",
       "      <th></th>\n",
       "      <th>Patient_ID</th>\n",
       "      <th>Age</th>\n",
       "      <th>PD-L1_Level(%)</th>\n",
       "      <th>EGFR_Mutation_Count</th>\n",
       "      <th>Tumor_Size</th>\n",
       "    </tr>\n",
       "  </thead>\n",
       "  <tbody>\n",
       "    <tr>\n",
       "      <th>count</th>\n",
       "      <td>3000.000000</td>\n",
       "      <td>3000.000000</td>\n",
       "      <td>3000.000000</td>\n",
       "      <td>3000.000000</td>\n",
       "      <td>3000.000000</td>\n",
       "    </tr>\n",
       "    <tr>\n",
       "      <th>mean</th>\n",
       "      <td>1500.500000</td>\n",
       "      <td>65.819000</td>\n",
       "      <td>49.366333</td>\n",
       "      <td>6.860333</td>\n",
       "      <td>5.805000</td>\n",
       "    </tr>\n",
       "    <tr>\n",
       "      <th>std</th>\n",
       "      <td>866.169729</td>\n",
       "      <td>15.704472</td>\n",
       "      <td>29.326862</td>\n",
       "      <td>4.234714</td>\n",
       "      <td>3.270907</td>\n",
       "    </tr>\n",
       "    <tr>\n",
       "      <th>min</th>\n",
       "      <td>1.000000</td>\n",
       "      <td>40.000000</td>\n",
       "      <td>0.000000</td>\n",
       "      <td>0.000000</td>\n",
       "      <td>1.000000</td>\n",
       "    </tr>\n",
       "    <tr>\n",
       "      <th>25%</th>\n",
       "      <td>750.750000</td>\n",
       "      <td>52.000000</td>\n",
       "      <td>23.000000</td>\n",
       "      <td>3.000000</td>\n",
       "      <td>3.300000</td>\n",
       "    </tr>\n",
       "    <tr>\n",
       "      <th>50%</th>\n",
       "      <td>1500.500000</td>\n",
       "      <td>66.000000</td>\n",
       "      <td>49.000000</td>\n",
       "      <td>7.000000</td>\n",
       "      <td>5.600000</td>\n",
       "    </tr>\n",
       "    <tr>\n",
       "      <th>75%</th>\n",
       "      <td>2250.250000</td>\n",
       "      <td>79.000000</td>\n",
       "      <td>76.000000</td>\n",
       "      <td>10.000000</td>\n",
       "      <td>7.900000</td>\n",
       "    </tr>\n",
       "    <tr>\n",
       "      <th>max</th>\n",
       "      <td>3000.000000</td>\n",
       "      <td>117.000000</td>\n",
       "      <td>99.000000</td>\n",
       "      <td>14.000000</td>\n",
       "      <td>22.200000</td>\n",
       "    </tr>\n",
       "  </tbody>\n",
       "</table>\n",
       "</div>"
      ],
      "text/plain": [
       "        Patient_ID          Age  PD-L1_Level(%)  EGFR_Mutation_Count  \\\n",
       "count  3000.000000  3000.000000     3000.000000          3000.000000   \n",
       "mean   1500.500000    65.819000       49.366333             6.860333   \n",
       "std     866.169729    15.704472       29.326862             4.234714   \n",
       "min       1.000000    40.000000        0.000000             0.000000   \n",
       "25%     750.750000    52.000000       23.000000             3.000000   \n",
       "50%    1500.500000    66.000000       49.000000             7.000000   \n",
       "75%    2250.250000    79.000000       76.000000            10.000000   \n",
       "max    3000.000000   117.000000       99.000000            14.000000   \n",
       "\n",
       "        Tumor_Size  \n",
       "count  3000.000000  \n",
       "mean      5.805000  \n",
       "std       3.270907  \n",
       "min       1.000000  \n",
       "25%       3.300000  \n",
       "50%       5.600000  \n",
       "75%       7.900000  \n",
       "max      22.200000  "
      ]
     },
     "execution_count": 21,
     "metadata": {},
     "output_type": "execute_result"
    }
   ],
   "source": [
    "#To summarize the numerical data\n",
    "\n",
    "data.describe()"
   ]
  },
  {
   "cell_type": "code",
   "execution_count": 22,
   "id": "e87cee9b",
   "metadata": {},
   "outputs": [
    {
     "data": {
      "text/html": [
       "<div>\n",
       "<style scoped>\n",
       "    .dataframe tbody tr th:only-of-type {\n",
       "        vertical-align: middle;\n",
       "    }\n",
       "\n",
       "    .dataframe tbody tr th {\n",
       "        vertical-align: top;\n",
       "    }\n",
       "\n",
       "    .dataframe thead th {\n",
       "        text-align: right;\n",
       "    }\n",
       "</style>\n",
       "<table border=\"1\" class=\"dataframe\">\n",
       "  <thead>\n",
       "    <tr style=\"text-align: right;\">\n",
       "      <th></th>\n",
       "      <th>Gender</th>\n",
       "      <th>Cancer_Stage</th>\n",
       "      <th>Treatment_Type</th>\n",
       "      <th>Smoking_Status</th>\n",
       "      <th>Response</th>\n",
       "    </tr>\n",
       "  </thead>\n",
       "  <tbody>\n",
       "    <tr>\n",
       "      <th>count</th>\n",
       "      <td>3000</td>\n",
       "      <td>3000</td>\n",
       "      <td>3000</td>\n",
       "      <td>3000</td>\n",
       "      <td>3000</td>\n",
       "    </tr>\n",
       "    <tr>\n",
       "      <th>unique</th>\n",
       "      <td>2</td>\n",
       "      <td>3</td>\n",
       "      <td>2</td>\n",
       "      <td>4</td>\n",
       "      <td>2</td>\n",
       "    </tr>\n",
       "    <tr>\n",
       "      <th>top</th>\n",
       "      <td>Female</td>\n",
       "      <td>Stage III</td>\n",
       "      <td>Chemotherapy</td>\n",
       "      <td>Current</td>\n",
       "      <td>Non-Responder</td>\n",
       "    </tr>\n",
       "    <tr>\n",
       "      <th>freq</th>\n",
       "      <td>1680</td>\n",
       "      <td>1023</td>\n",
       "      <td>1517</td>\n",
       "      <td>919</td>\n",
       "      <td>1521</td>\n",
       "    </tr>\n",
       "  </tbody>\n",
       "</table>\n",
       "</div>"
      ],
      "text/plain": [
       "        Gender Cancer_Stage Treatment_Type Smoking_Status       Response\n",
       "count     3000         3000           3000           3000           3000\n",
       "unique       2            3              2              4              2\n",
       "top     Female    Stage III   Chemotherapy        Current  Non-Responder\n",
       "freq      1680         1023           1517            919           1521"
      ]
     },
     "execution_count": 22,
     "metadata": {},
     "output_type": "execute_result"
    }
   ],
   "source": [
    "data.describe(include='string')"
   ]
  },
  {
   "cell_type": "markdown",
   "id": "4ae728a5",
   "metadata": {},
   "source": [
    "# Detection of Outliers"
   ]
  },
  {
   "cell_type": "code",
   "execution_count": 23,
   "id": "0ef23192",
   "metadata": {},
   "outputs": [
    {
     "data": {
      "image/png": "[encoded data removed]",
      "text/plain": [
       "<Figure size 432x288 with 1 Axes>"
      ]
     },
     "metadata": {
      "needs_background": "light"
     },
     "output_type": "display_data"
    }
   ],
   "source": [
    "#To check normality of data\n",
    "\n",
    "import matplotlib.pyplot as plt\n",
    "\n",
    "plt.hist(data['Age'], bins=10, edgecolor='black')\n",
    "plt.title('Histogram of Age')\n",
    "plt.xlabel('Age')\n",
    "plt.ylabel('Patient_Count')\n",
    "plt.show()"
   ]
  },
  {
   "cell_type": "markdown",
   "id": "4f350126",
   "metadata": {},
   "source": [
    "Since age is not normally distributed, using methods like the Z-score may not be appropriate. Instead, the Interquartile Range (IQR) method is a robust approach for detecting outliers, especially with skewed data."
   ]
  },
  {
   "cell_type": "code",
   "execution_count": 24,
   "id": "3d94f067",
   "metadata": {},
   "outputs": [
    {
     "name": "stdout",
     "output_type": "stream",
     "text": [
      "52.0 79.0 27.0\n"
     ]
    }
   ],
   "source": [
    "#To calculate quartiles and IQR\n",
    "\n",
    "Q1 = data['Age'].quantile(0.25)\n",
    "Q3 = data['Age'].quantile(0.75)\n",
    "IQR = Q3 - Q1\n",
    "\n",
    "print(Q1,Q3,IQR)"
   ]
  },
  {
   "cell_type": "code",
   "execution_count": 25,
   "id": "27e95c05",
   "metadata": {},
   "outputs": [
    {
     "name": "stdout",
     "output_type": "stream",
     "text": [
      "11.5 119.5\n"
     ]
    }
   ],
   "source": [
    "# Step 2: Define outlier boundaries\n",
    "lower_bound = Q1 - 1.5 * IQR\n",
    "upper_bound = Q3 + 1.5 * IQR\n",
    "\n",
    "print(lower_bound, upper_bound)"
   ]
  },
  {
   "cell_type": "code",
   "execution_count": 26,
   "id": "8593d5f7",
   "metadata": {},
   "outputs": [
    {
     "name": "stdout",
     "output_type": "stream",
     "text": [
      "No outliers detected in Age.\n"
     ]
    }
   ],
   "source": [
    "#Identify outliers\n",
    "outliers = data[(data['Age'] < lower_bound) | (data['Age'] > upper_bound)]\n",
    "\n",
    "# Display outliers\n",
    "if not outliers.empty:\n",
    "    print(\"Outliers in Age:\")\n",
    "    print(outliers)\n",
    "else:\n",
    "    print(\"No outliers detected in Age.\")"
   ]
  },
  {
   "cell_type": "markdown",
   "id": "3a8792a0",
   "metadata": {},
   "source": [
    "Even though a box plot might not show obvious outliers based on statistical methods (like IQR), certain age values in the 117-year-old range may still be considered outliers from a clinical perspective because they fall outside of a typical age range for lung cancer patients.Capping the Age field to a maximum of 95 or 100 reflects a more realistic and medically appropriate range, based on what is commonly observed in this type of dataset."
   ]
  },
  {
   "cell_type": "code",
   "execution_count": 27,
   "id": "5801d965",
   "metadata": {},
   "outputs": [],
   "source": [
    "# Cap the age to a maximum value of 95 or 100\n",
    "data['Age'] = np.where(data['Age'] > 95, 95, data['Age'])"
   ]
  },
  {
   "cell_type": "code",
   "execution_count": 28,
   "id": "0715e32b",
   "metadata": {},
   "outputs": [
    {
     "data": {
      "image/png": "[encoded data removed]",
      "text/plain": [
       "<Figure size 432x288 with 1 Axes>"
      ]
     },
     "metadata": {
      "needs_background": "light"
     },
     "output_type": "display_data"
    },
    {
     "data": {
      "image/png": "[encoded data removed]",
      "text/plain": [
       "<Figure size 432x288 with 1 Axes>"
      ]
     },
     "metadata": {
      "needs_background": "light"
     },
     "output_type": "display_data"
    }
   ],
   "source": [
    "import matplotlib.pyplot as plt\n",
    "import seaborn as sns\n",
    "\n",
    "# Plot age distribution after capping\n",
    "sns.boxplot(x=data['Age'])\n",
    "plt.title('Age Distribution After Capping')\n",
    "plt.show()\n",
    "\n",
    "sns.histplot(data['Age'], kde=True)\n",
    "plt.title('Age Distribution Histogram After Capping')\n",
    "plt.show()"
   ]
  },
  {
   "cell_type": "markdown",
   "id": "24fda24e",
   "metadata": {},
   "source": [
    "The age data was capped at 95 years, as values above this threshold were deemed unrealistic in the context of the dataset. "
   ]
  },
  {
   "cell_type": "code",
   "execution_count": 29,
   "id": "55e0d020",
   "metadata": {},
   "outputs": [
    {
     "data": {
      "image/png": "[encoded data removed]",
      "text/plain": [
       "<Figure size 432x288 with 1 Axes>"
      ]
     },
     "metadata": {
      "needs_background": "light"
     },
     "output_type": "display_data"
    }
   ],
   "source": [
    "#To check normality of data, PD-L1_Level\n",
    "\n",
    "import matplotlib.pyplot as plt\n",
    "\n",
    "plt.hist(data['PD-L1_Level(%)'], bins=10, edgecolor='black')\n",
    "plt.title('Histogram of PD-L1_Level(%)')\n",
    "plt.xlabel('PD-L1_Levels(%)')\n",
    "plt.ylabel('Count_Patient')\n",
    "plt.show()"
   ]
  },
  {
   "cell_type": "code",
   "execution_count": 30,
   "id": "151c9c38",
   "metadata": {},
   "outputs": [
    {
     "data": {
      "image/png": "[encoded data removed]",
      "text/plain": [
       "<Figure size 432x288 with 1 Axes>"
      ]
     },
     "metadata": {
      "needs_background": "light"
     },
     "output_type": "display_data"
    }
   ],
   "source": [
    "import matplotlib.pyplot as plt\n",
    "\n",
    "plt.boxplot(data['PD-L1_Level(%)'])\n",
    "plt.title('Box Plot of PD-L1_Level(%)')\n",
    "plt.ylabel('PD-L1_Level(%)')\n",
    "plt.show()\n"
   ]
  },
  {
   "cell_type": "markdown",
   "id": "84a30693",
   "metadata": {},
   "source": [
    "Here PD-L1_Level field has no any outliers."
   ]
  },
  {
   "cell_type": "code",
   "execution_count": 31,
   "id": "ecc73fbb",
   "metadata": {},
   "outputs": [
    {
     "data": {
      "image/png": "[encoded data removed]",
      "text/plain": [
       "<Figure size 432x288 with 1 Axes>"
      ]
     },
     "metadata": {
      "needs_background": "light"
     },
     "output_type": "display_data"
    }
   ],
   "source": [
    "#To check normality of data EGFR_Mutation_Count\n",
    "\n",
    "import matplotlib.pyplot as plt\n",
    "\n",
    "plt.hist(data['EGFR_Mutation_Count'], bins=10, edgecolor='black')\n",
    "plt.title('Histogram of EGFR_Mutation_Count')\n",
    "plt.xlabel('EGFR_Mutation_Count')\n",
    "plt.ylabel('Count_Patient')\n",
    "plt.show()"
   ]
  },
  {
   "cell_type": "code",
   "execution_count": 32,
   "id": "661a9c92",
   "metadata": {},
   "outputs": [
    {
     "data": {
      "image/png": "[encoded data removed]",
      "text/plain": [
       "<Figure size 432x288 with 1 Axes>"
      ]
     },
     "metadata": {
      "needs_background": "light"
     },
     "output_type": "display_data"
    }
   ],
   "source": [
    "import matplotlib.pyplot as plt\n",
    "\n",
    "plt.boxplot(data['EGFR_Mutation_Count'])\n",
    "plt.title('Box Plot of EGFR_Mutation_Count')\n",
    "plt.ylabel('EGFR_Mutation_Count')\n",
    "plt.show()"
   ]
  },
  {
   "cell_type": "markdown",
   "id": "241852b0",
   "metadata": {},
   "source": [
    "No any outliers detected in EGFR_Mutation_Count."
   ]
  },
  {
   "cell_type": "code",
   "execution_count": 33,
   "id": "085c63e0",
   "metadata": {},
   "outputs": [
    {
     "data": {
      "image/png": "[encoded data removed]",
      "text/plain": [
       "<Figure size 432x288 with 1 Axes>"
      ]
     },
     "metadata": {
      "needs_background": "light"
     },
     "output_type": "display_data"
    }
   ],
   "source": [
    "#To check normality of data Tumor_Size\n",
    "\n",
    "import matplotlib.pyplot as plt\n",
    "\n",
    "plt.hist(data['Tumor_Size'], bins=10, edgecolor='black')\n",
    "plt.title('Histogram of Tumor_Size')\n",
    "plt.xlabel('Tumor_Size')\n",
    "plt.ylabel('Count_Patient')\n",
    "plt.show()"
   ]
  },
  {
   "cell_type": "markdown",
   "id": "6bfdb6d2",
   "metadata": {},
   "source": [
    "It is observed that the values are positively skewed."
   ]
  },
  {
   "cell_type": "code",
   "execution_count": 34,
   "id": "e3132fef",
   "metadata": {},
   "outputs": [
    {
     "data": {
      "image/png": "[encoded data removed]",
      "text/plain": [
       "<Figure size 432x288 with 1 Axes>"
      ]
     },
     "metadata": {
      "needs_background": "light"
     },
     "output_type": "display_data"
    }
   ],
   "source": [
    "\n",
    "plt.boxplot(data['Tumor_Size'])\n",
    "plt.title('Box Plot of Tumor_Size')\n",
    "plt.ylabel('Tumor_Size')\n",
    "plt.show()"
   ]
  },
  {
   "cell_type": "markdown",
   "id": "4aa08e89",
   "metadata": {},
   "source": [
    "Here their are outliers detected and as from the histogram it is positively skewed data.For reference, in NSCLC, tumors greater than 10 cm are usually considered large and might correspond to later stages (III or IV) of cancer, or could be a rare case.Stage IV cancers (advanced) may involve tumors that are larger than 5 cm, and in some rare cases, the tumor can grow larger than 10 cm.So we cap the values above 10cm."
   ]
  },
  {
   "cell_type": "code",
   "execution_count": 35,
   "id": "06d4dc90",
   "metadata": {},
   "outputs": [],
   "source": [
    "#Capping the tumor size\n",
    "\n",
    "data['Tumor_Size'] = np.where(data['Tumor_Size'] > 10, 10, data['Tumor_Size'])\n"
   ]
  },
  {
   "cell_type": "code",
   "execution_count": 36,
   "id": "0facf96a",
   "metadata": {},
   "outputs": [
    {
     "data": {
      "image/png": "[encoded data removed]",
      "text/plain": [
       "<Figure size 432x288 with 1 Axes>"
      ]
     },
     "metadata": {
      "needs_background": "light"
     },
     "output_type": "display_data"
    }
   ],
   "source": [
    "\n",
    "# Plot age distribution after capping\n",
    "sns.boxplot(x=data['Tumor_Size'])\n",
    "plt.title('Tumor_Size Distribution After Capping')\n",
    "plt.show()\n"
   ]
  },
  {
   "cell_type": "markdown",
   "id": "cde51b12",
   "metadata": {},
   "source": [
    "# Univariate Analysis"
   ]
  },
  {
   "cell_type": "code",
   "execution_count": 37,
   "id": "7b863c15",
   "metadata": {},
   "outputs": [
    {
     "data": {
      "image/png": "[encoded data removed]",
      "text/plain": [
       "<Figure size 432x288 with 1 Axes>"
      ]
     },
     "metadata": {
      "needs_background": "light"
     },
     "output_type": "display_data"
    }
   ],
   "source": [
    "import seaborn as sns\n",
    "import matplotlib.pyplot as plt\n",
    "\n",
    "# Histogram for Tumor Size after capping.\n",
    "sns.histplot(data['Tumor_Size'], kde=True)\n",
    "plt.title('Tumor Size Distribution After Capping')\n",
    "plt.show()\n",
    "\n",
    "\n",
    "\n"
   ]
  },
  {
   "cell_type": "markdown",
   "id": "c908925f",
   "metadata": {},
   "source": [
    "After capping, the distribution of Tumor_Size remains right-skewed,  indicating that the majority of tumor sizes are smaller with a few extreme large tumor sizes. . This skewness can affect the logistic regression model, potentially leading to biased or less reliable predictions. Transforming Tumor_Size using a suitable transformation and standardizing it can make the data more symmetric and improve model performance."
   ]
  },
  {
   "cell_type": "code",
   "execution_count": 38,
   "id": "cc08a897",
   "metadata": {},
   "outputs": [
    {
     "data": {
      "image/png": "[encoded data removed]",
      "text/plain": [
       "<Figure size 432x288 with 1 Axes>"
      ]
     },
     "metadata": {
      "needs_background": "light"
     },
     "output_type": "display_data"
    }
   ],
   "source": [
    "import scipy.stats as stats\n",
    "import matplotlib.pyplot as plt\n",
    "\n",
    "# Q-Q plot for PD-L1 Level\n",
    "stats.probplot(data['PD-L1_Level(%)'], dist=\"norm\", plot=plt)\n",
    "plt.title(\"Q-Q Plot of PD-L1 Level(%)\")\n",
    "plt.show()\n"
   ]
  },
  {
   "cell_type": "markdown",
   "id": "1d57207f",
   "metadata": {},
   "source": [
    "The Q-Q plot is indicating right skewness in the variable, which can impact logistic regression by introducing bias and reducing model interpretability. To address this,need to apply a log or power transformation to reduce skewness, followed by standardization to ensure consistent scaling. This will help meet logistic regression assumptions, improving the model's accuracy and interpretability."
   ]
  },
  {
   "cell_type": "code",
   "execution_count": 39,
   "id": "49217c7a",
   "metadata": {},
   "outputs": [
    {
     "data": {
      "image/png": "[encoded data removed]",
      "text/plain": [
       "<Figure size 432x288 with 1 Axes>"
      ]
     },
     "metadata": {
      "needs_background": "light"
     },
     "output_type": "display_data"
    }
   ],
   "source": [
    "import scipy.stats as stats\n",
    "import matplotlib.pyplot as plt\n",
    "\n",
    "# Q-Q plot for PD-L1 Level\n",
    "stats.probplot(data['Age'], dist=\"norm\", plot=plt)\n",
    "plt.title(\"Q-Q Plot of Age\")\n",
    "plt.show()\n"
   ]
  },
  {
   "cell_type": "markdown",
   "id": "f0875c3c",
   "metadata": {},
   "source": [
    "The distribution of Age remains right-skewed, with most individuals being younger and fewer individuals in the older age groups. This skewness can negatively impact the logistic regression model, potentially causing biased predictions or underrepresentation of older individuals. Applying a transformation (such as a logarithmic or square root transformation) and standardizing the data can help normalize the distribution and improve model performance."
   ]
  },
  {
   "cell_type": "code",
   "execution_count": 40,
   "id": "e7f56bb6",
   "metadata": {},
   "outputs": [
    {
     "data": {
      "image/png": "[encoded data removed]",
      "text/plain": [
       "<Figure size 432x288 with 1 Axes>"
      ]
     },
     "metadata": {
      "needs_background": "light"
     },
     "output_type": "display_data"
    }
   ],
   "source": [
    "import scipy.stats as stats\n",
    "import matplotlib.pyplot as plt\n",
    "\n",
    "# Q-Q plot for EGFR_Mutation_Count\n",
    "stats.probplot(data['EGFR_Mutation_Count'], dist=\"norm\", plot=plt)\n",
    "plt.title('Q-Q Plot for EGFR_Mutation_Count')\n",
    "plt.show()\n"
   ]
  },
  {
   "cell_type": "markdown",
   "id": "308d4304",
   "metadata": {},
   "source": [
    "The distribution of EGFR Mutation Count is also right-skewed, with the majority of individuals having low mutation counts and a few having a higher mutation count. This skewness may lead to potential issues in the logistic regression model, as the data may not represent the full spectrum of mutation counts properly. A transformation such as a logarithmic transformation can make the data more symmetric, reducing the effect of outliers and enhancing model predictions."
   ]
  },
  {
   "cell_type": "code",
   "execution_count": 41,
   "id": "0da72b19",
   "metadata": {},
   "outputs": [
    {
     "name": "stdout",
     "output_type": "stream",
     "text": [
      "Shapiro-Wilk Test for Age: Statistic = 0.960286021232605, P-value = 6.449254715657623e-28\n",
      "Shapiro-Wilk Test for Tumor Size: Statistic = 0.9535884857177734, P-value = 7.193068480591282e-30\n",
      "Shapiro-Wilk Test for EGFR Mutation Count: Statistic = 0.9499408006668091, P-value = 7.653265209022949e-31\n"
     ]
    }
   ],
   "source": [
    "from scipy.stats import shapiro\n",
    "\n",
    "# Shapiro-Wilk Test for Normality on Age, PD_L1_Level, Tumor_Size, and EGFR_Mutation_Count\n",
    "stat_age, p_value_age = shapiro(data['Age'])\n",
    "\n",
    "stat_tumorsize, p_value_tumorsize = shapiro(data['Tumor_Size'])\n",
    "stat_egfr, p_value_egfr = shapiro(data['EGFR_Mutation_Count'])\n",
    "\n",
    "# Output the results\n",
    "print(f\"Shapiro-Wilk Test for Age: Statistic = {stat_age}, P-value = {p_value_age}\")\n",
    "\n",
    "print(f\"Shapiro-Wilk Test for Tumor Size: Statistic = {stat_tumorsize}, P-value = {p_value_tumorsize}\")\n",
    "print(f\"Shapiro-Wilk Test for EGFR Mutation Count: Statistic = {stat_egfr}, P-value = {p_value_egfr}\")\n"
   ]
  },
  {
   "cell_type": "code",
   "execution_count": 42,
   "id": "9f841f86",
   "metadata": {},
   "outputs": [
    {
     "name": "stdout",
     "output_type": "stream",
     "text": [
      "Female    1680\n",
      "Male      1320\n",
      "Name: Gender, dtype: Int64\n",
      "Stage III    1023\n",
      "Stage II      996\n",
      "Stage IV      981\n",
      "Name: Cancer_Stage, dtype: Int64\n"
     ]
    },
    {
     "data": {
      "image/png": "[encoded data removed]",
      "text/plain": [
       "<Figure size 432x288 with 1 Axes>"
      ]
     },
     "metadata": {
      "needs_background": "light"
     },
     "output_type": "display_data"
    },
    {
     "data": {
      "image/png": "[encoded data removed]",
      "text/plain": [
       "<Figure size 432x288 with 1 Axes>"
      ]
     },
     "metadata": {
      "needs_background": "light"
     },
     "output_type": "display_data"
    }
   ],
   "source": [
    "# Frequency count for categorical features\n",
    "print(data['Gender'].value_counts())\n",
    "print(data['Cancer_Stage'].value_counts())\n",
    "\n",
    "# Bar Plot for Cancer Stage\n",
    "sns.countplot(data=data, x='Gender')\n",
    "plt.title(\"Gender Distribution\")\n",
    "plt.show()\n",
    "\n",
    "\n",
    "\n",
    "# Bar Plot for Cancer Stage\n",
    "sns.countplot(data=data, x='Cancer_Stage')\n",
    "plt.title(\"Cancer Stage Distribution\")\n",
    "plt.show()\n"
   ]
  },
  {
   "cell_type": "markdown",
   "id": "f3bb64bc",
   "metadata": {},
   "source": [
    "Gender: \n",
    "The Gender distribution shows a balanced dataset, with 1680 females and 1320 males. There is no significant imbalance between the categories, which is good for logistic regression, as it ensures that the model doesn't favor one category over the other. It can be be encoded into a binary form (e.g., Female = 0, Male = 1) for logistic regression, ensuring the model interprets it correctly."
   ]
  },
  {
   "cell_type": "markdown",
   "id": "b8028892",
   "metadata": {},
   "source": [
    "Cancer Stage: \n",
    "    The Cancer Stage distribution shows relatively balanced categories across Stage II, III, and IV, with Stage III being slightly more frequent. This balance is generally positive for logistic regression as no category is overly dominant. Need to be properly encoded (e.g., one-hot encoding or ordinal encoding) to ensure the logistic regression model correctly interprets the categories.\n"
   ]
  },
  {
   "cell_type": "code",
   "execution_count": 43,
   "id": "bb10b137",
   "metadata": {},
   "outputs": [
    {
     "name": "stdout",
     "output_type": "stream",
     "text": [
      "Current          919\n",
      "Former           901\n",
      "Never            880\n",
      "Not Specified    300\n",
      "Name: Smoking_Status, dtype: Int64\n",
      "Chemotherapy     1517\n",
      "Immunotherapy    1483\n",
      "Name: Treatment_Type, dtype: Int64\n"
     ]
    },
    {
     "data": {
      "image/png": "[encoded data removed]",
      "text/plain": [
       "<Figure size 432x288 with 1 Axes>"
      ]
     },
     "metadata": {
      "needs_background": "light"
     },
     "output_type": "display_data"
    },
    {
     "data": {
      "image/png": "[encoded data removed]",
      "text/plain": [
       "<Figure size 432x288 with 1 Axes>"
      ]
     },
     "metadata": {
      "needs_background": "light"
     },
     "output_type": "display_data"
    }
   ],
   "source": [
    "# Frequency count for categorical features\n",
    "print(data['Smoking_Status'].value_counts())\n",
    "\n",
    "print(data['Treatment_Type'].value_counts())\n",
    "\n",
    "# Bar Plot for Smoking Status\n",
    "sns.countplot(data=data, x='Smoking_Status')\n",
    "plt.title(\"Smoking Status Distribution\")\n",
    "plt.show()\n",
    "\n",
    "sns.countplot(data=data, x='Treatment_Type')\n",
    "plt.title(\"Treatment_Type Distribution\")\n",
    "plt.show()"
   ]
  },
  {
   "cell_type": "markdown",
   "id": "31db8d48",
   "metadata": {},
   "source": [
    "Smoking Status:\n",
    "    The Smoking Status distribution is slightly imbalanced, with Not Specified being less frequent, but overall, the categories (Current, Former, Never) are relatively balanced. This distribution may require attention to avoid the \"Not Specified\" category from becoming an issue during modeling."
   ]
  },
  {
   "cell_type": "markdown",
   "id": "eda99dc6",
   "metadata": {},
   "source": [
    "Treatment Type: The Treatment_Type distribution is balanced with almost equal counts of Chemotherapy (1517) and Immunotherapy (1483). This is positive for logistic regression as no treatment type will dominate the model’s learning process, helping to avoid biased predictions."
   ]
  },
  {
   "cell_type": "markdown",
   "id": "ad9c142f",
   "metadata": {},
   "source": [
    "# Bivariate Analysis"
   ]
  },
  {
   "cell_type": "code",
   "execution_count": 44,
   "id": "7e9773ac",
   "metadata": {},
   "outputs": [
    {
     "data": {
      "image/png": "[encoded data removed]",
      "text/plain": [
       "<Figure size 432x288 with 2 Axes>"
      ]
     },
     "metadata": {
      "needs_background": "light"
     },
     "output_type": "display_data"
    }
   ],
   "source": [
    "\n",
    "# Correlation matrix for numerical features\n",
    "corr_matrix = data[['Age', 'Tumor_Size', 'PD-L1_Level(%)', 'EGFR_Mutation_Count']].corr()\n",
    "sns.heatmap(corr_matrix, annot=True, cmap='coolwarm')\n",
    "plt.title(\"Correlation Matrix\")\n",
    "plt.show()\n"
   ]
  },
  {
   "cell_type": "markdown",
   "id": "996b2c1f",
   "metadata": {},
   "source": [
    "The correlation between Age, Tumor Size, PD-L1 Level(%), and EGFR Mutation Count is very weak, meaning these variables don't strongly influence each other. This is good for logistic regression as it reduces the risk of multicollinearity, allowing each feature to contribute independently to the model."
   ]
  },
  {
   "cell_type": "code",
   "execution_count": 45,
   "id": "84849621",
   "metadata": {},
   "outputs": [
    {
     "data": {
      "image/png": "[encoded data removed]",
      "text/plain": [
       "<Figure size 432x288 with 1 Axes>"
      ]
     },
     "metadata": {
      "needs_background": "light"
     },
     "output_type": "display_data"
    },
    {
     "data": {
      "image/png": "[encoded data removed]",
      "text/plain": [
       "<Figure size 432x288 with 1 Axes>"
      ]
     },
     "metadata": {
      "needs_background": "light"
     },
     "output_type": "display_data"
    },
    {
     "data": {
      "image/png": "[encoded data removed]",
      "text/plain": [
       "<Figure size 432x288 with 1 Axes>"
      ]
     },
     "metadata": {
      "needs_background": "light"
     },
     "output_type": "display_data"
    },
    {
     "data": {
      "image/png": "[encoded data removed]",
      "text/plain": [
       "<Figure size 432x288 with 1 Axes>"
      ]
     },
     "metadata": {
      "needs_background": "light"
     },
     "output_type": "display_data"
    }
   ],
   "source": [
    "# For Treatment_Type vs Response\n",
    "sns.countplot(data=data, x='Cancer_Stage', hue='Response')\n",
    "plt.title(\"Cancer Stage vs Response\")\n",
    "plt.show()\n",
    "\n",
    "# For Treatment_Type vs Response\n",
    "sns.countplot(data=data, x='Treatment_Type', hue='Response')\n",
    "plt.title(\"Treatment Type vs Response\")\n",
    "plt.show()\n",
    "\n",
    "# For Smoking_Status vs Response\n",
    "sns.countplot(data=data, x='Smoking_Status', hue='Response')\n",
    "plt.title(\"Smoking Status vs Response\")\n",
    "plt.show()\n",
    "\n",
    "# For Gender vs Response\n",
    "sns.countplot(data=data, x='Gender', hue='Response')\n",
    "plt.title(\"Gender vs Response\")\n",
    "plt.show()\n"
   ]
  },
  {
   "cell_type": "markdown",
   "id": "7068991e",
   "metadata": {},
   "source": [
    "Smoking Status vs Response:\n",
    "    Smoking Status may not be a strong standalone predictor of response, as the distribution of responses is fairly even across the different smoking categories. However, it could still provide some predictive value when combined with other factors such as Cancer Stage or Tumor Size in the logistic regression model."
   ]
  },
  {
   "cell_type": "markdown",
   "id": "882c9478",
   "metadata": {},
   "source": [
    "Gender vs Resoponse:\n",
    "slightly better response rate in females compared to males, although the overall difference in response rates is not drastic. While Gender appears to have some potential impact on the response, it may not be the most powerful standalone predictor in a logistic regression model. It could be more informative when combined with other variables like Cancer Stage, Tumor Size, or Treatment Type for more accurate predictions."
   ]
  },
  {
   "cell_type": "markdown",
   "id": "ee0c7bd8",
   "metadata": {},
   "source": [
    "### Feature Engineering"
   ]
  },
  {
   "cell_type": "code",
   "execution_count": 46,
   "id": "35a32b90",
   "metadata": {},
   "outputs": [
    {
     "data": {
      "text/html": [
       "<div>\n",
       "<style scoped>\n",
       "    .dataframe tbody tr th:only-of-type {\n",
       "        vertical-align: middle;\n",
       "    }\n",
       "\n",
       "    .dataframe tbody tr th {\n",
       "        vertical-align: top;\n",
       "    }\n",
       "\n",
       "    .dataframe thead th {\n",
       "        text-align: right;\n",
       "    }\n",
       "</style>\n",
       "<table border=\"1\" class=\"dataframe\">\n",
       "  <thead>\n",
       "    <tr style=\"text-align: right;\">\n",
       "      <th></th>\n",
       "      <th>Patient_ID</th>\n",
       "      <th>Age</th>\n",
       "      <th>Gender</th>\n",
       "      <th>Cancer_Stage</th>\n",
       "      <th>PD-L1_Level(%)</th>\n",
       "      <th>EGFR_Mutation_Count</th>\n",
       "      <th>Tumor_Size</th>\n",
       "      <th>Treatment_Type</th>\n",
       "      <th>Smoking_Status</th>\n",
       "      <th>Response</th>\n",
       "    </tr>\n",
       "  </thead>\n",
       "  <tbody>\n",
       "    <tr>\n",
       "      <th>0</th>\n",
       "      <td>1</td>\n",
       "      <td>0.400000</td>\n",
       "      <td>Male</td>\n",
       "      <td>Stage III</td>\n",
       "      <td>1.000000</td>\n",
       "      <td>0.571429</td>\n",
       "      <td>0.900000</td>\n",
       "      <td>Chemotherapy</td>\n",
       "      <td>Current</td>\n",
       "      <td>Non-Responder</td>\n",
       "    </tr>\n",
       "    <tr>\n",
       "      <th>1</th>\n",
       "      <td>2</td>\n",
       "      <td>0.563636</td>\n",
       "      <td>Female</td>\n",
       "      <td>Stage II</td>\n",
       "      <td>0.929293</td>\n",
       "      <td>0.785714</td>\n",
       "      <td>0.755556</td>\n",
       "      <td>Chemotherapy</td>\n",
       "      <td>Never</td>\n",
       "      <td>Responder</td>\n",
       "    </tr>\n",
       "    <tr>\n",
       "      <th>2</th>\n",
       "      <td>3</td>\n",
       "      <td>0.290909</td>\n",
       "      <td>Female</td>\n",
       "      <td>Stage IV</td>\n",
       "      <td>0.222222</td>\n",
       "      <td>0.571429</td>\n",
       "      <td>0.833333</td>\n",
       "      <td>Immunotherapy</td>\n",
       "      <td>Former</td>\n",
       "      <td>Responder</td>\n",
       "    </tr>\n",
       "    <tr>\n",
       "      <th>3</th>\n",
       "      <td>4</td>\n",
       "      <td>0.709091</td>\n",
       "      <td>Female</td>\n",
       "      <td>Stage IV</td>\n",
       "      <td>0.313131</td>\n",
       "      <td>0.214286</td>\n",
       "      <td>0.777778</td>\n",
       "      <td>Chemotherapy</td>\n",
       "      <td>Former</td>\n",
       "      <td>Non-Responder</td>\n",
       "    </tr>\n",
       "    <tr>\n",
       "      <th>4</th>\n",
       "      <td>5</td>\n",
       "      <td>0.345455</td>\n",
       "      <td>Male</td>\n",
       "      <td>Stage II</td>\n",
       "      <td>0.101010</td>\n",
       "      <td>1.000000</td>\n",
       "      <td>0.977778</td>\n",
       "      <td>Chemotherapy</td>\n",
       "      <td>Not Specified</td>\n",
       "      <td>Non-Responder</td>\n",
       "    </tr>\n",
       "  </tbody>\n",
       "</table>\n",
       "</div>"
      ],
      "text/plain": [
       "   Patient_ID       Age  Gender Cancer_Stage  PD-L1_Level(%)  \\\n",
       "0           1  0.400000    Male    Stage III        1.000000   \n",
       "1           2  0.563636  Female     Stage II        0.929293   \n",
       "2           3  0.290909  Female     Stage IV        0.222222   \n",
       "3           4  0.709091  Female     Stage IV        0.313131   \n",
       "4           5  0.345455    Male     Stage II        0.101010   \n",
       "\n",
       "   EGFR_Mutation_Count  Tumor_Size Treatment_Type Smoking_Status  \\\n",
       "0             0.571429    0.900000   Chemotherapy        Current   \n",
       "1             0.785714    0.755556   Chemotherapy          Never   \n",
       "2             0.571429    0.833333  Immunotherapy         Former   \n",
       "3             0.214286    0.777778   Chemotherapy         Former   \n",
       "4             1.000000    0.977778   Chemotherapy  Not Specified   \n",
       "\n",
       "        Response  \n",
       "0  Non-Responder  \n",
       "1      Responder  \n",
       "2      Responder  \n",
       "3  Non-Responder  \n",
       "4  Non-Responder  "
      ]
     },
     "execution_count": 46,
     "metadata": {},
     "output_type": "execute_result"
    }
   ],
   "source": [
    "#import MinMaxScalar\n",
    "from sklearn.preprocessing import MinMaxScaler\n",
    "\n",
    "# seprate numerical columns\n",
    "numerical_columns = [\"Age\", \"PD-L1_Level(%)\", \"EGFR_Mutation_Count\", \"Tumor_Size\"]\n",
    "\n",
    "scaler = MinMaxScaler()\n",
    "\n",
    "# Apply MinMaxScaler\n",
    "data[numerical_columns] = scaler.fit_transform(data[numerical_columns])\n",
    "\n",
    "data.head()\n",
    "\n"
   ]
  },
  {
   "cell_type": "markdown",
   "id": "5fc0b885",
   "metadata": {},
   "source": [
    "Min-Max scaling was applied to normalize the values of numerical features, bringing them into a range of 0 to 1. This transformation helps ensure that each feature contributes equally to the model\n",
    "Min-Max scaling preserves the relative distribution of values within a feature, making it ideal for cases where you want to retain the relationships between values without introducing negative numbers or changing the data distribution's shape."
   ]
  },
  {
   "cell_type": "markdown",
   "id": "36b14b08",
   "metadata": {},
   "source": [
    "### One Hot Encoding "
   ]
  },
  {
   "cell_type": "code",
   "execution_count": 47,
   "id": "cee4e23d",
   "metadata": {},
   "outputs": [
    {
     "data": {
      "text/html": [
       "<div>\n",
       "<style scoped>\n",
       "    .dataframe tbody tr th:only-of-type {\n",
       "        vertical-align: middle;\n",
       "    }\n",
       "\n",
       "    .dataframe tbody tr th {\n",
       "        vertical-align: top;\n",
       "    }\n",
       "\n",
       "    .dataframe thead th {\n",
       "        text-align: right;\n",
       "    }\n",
       "</style>\n",
       "<table border=\"1\" class=\"dataframe\">\n",
       "  <thead>\n",
       "    <tr style=\"text-align: right;\">\n",
       "      <th></th>\n",
       "      <th>Patient_ID</th>\n",
       "      <th>Age</th>\n",
       "      <th>Cancer_Stage</th>\n",
       "      <th>PD-L1_Level(%)</th>\n",
       "      <th>EGFR_Mutation_Count</th>\n",
       "      <th>Tumor_Size</th>\n",
       "      <th>Response</th>\n",
       "      <th>Gender_Male</th>\n",
       "      <th>Treatment_Type_Immunotherapy</th>\n",
       "      <th>Smoking_Status_Former</th>\n",
       "      <th>Smoking_Status_Never</th>\n",
       "      <th>Smoking_Status_Not Specified</th>\n",
       "    </tr>\n",
       "  </thead>\n",
       "  <tbody>\n",
       "    <tr>\n",
       "      <th>0</th>\n",
       "      <td>1</td>\n",
       "      <td>0.400000</td>\n",
       "      <td>Stage III</td>\n",
       "      <td>1.000000</td>\n",
       "      <td>0.571429</td>\n",
       "      <td>0.900000</td>\n",
       "      <td>Non-Responder</td>\n",
       "      <td>1</td>\n",
       "      <td>0</td>\n",
       "      <td>0</td>\n",
       "      <td>0</td>\n",
       "      <td>0</td>\n",
       "    </tr>\n",
       "    <tr>\n",
       "      <th>1</th>\n",
       "      <td>2</td>\n",
       "      <td>0.563636</td>\n",
       "      <td>Stage II</td>\n",
       "      <td>0.929293</td>\n",
       "      <td>0.785714</td>\n",
       "      <td>0.755556</td>\n",
       "      <td>Responder</td>\n",
       "      <td>0</td>\n",
       "      <td>0</td>\n",
       "      <td>0</td>\n",
       "      <td>1</td>\n",
       "      <td>0</td>\n",
       "    </tr>\n",
       "    <tr>\n",
       "      <th>2</th>\n",
       "      <td>3</td>\n",
       "      <td>0.290909</td>\n",
       "      <td>Stage IV</td>\n",
       "      <td>0.222222</td>\n",
       "      <td>0.571429</td>\n",
       "      <td>0.833333</td>\n",
       "      <td>Responder</td>\n",
       "      <td>0</td>\n",
       "      <td>1</td>\n",
       "      <td>1</td>\n",
       "      <td>0</td>\n",
       "      <td>0</td>\n",
       "    </tr>\n",
       "    <tr>\n",
       "      <th>3</th>\n",
       "      <td>4</td>\n",
       "      <td>0.709091</td>\n",
       "      <td>Stage IV</td>\n",
       "      <td>0.313131</td>\n",
       "      <td>0.214286</td>\n",
       "      <td>0.777778</td>\n",
       "      <td>Non-Responder</td>\n",
       "      <td>0</td>\n",
       "      <td>0</td>\n",
       "      <td>1</td>\n",
       "      <td>0</td>\n",
       "      <td>0</td>\n",
       "    </tr>\n",
       "    <tr>\n",
       "      <th>4</th>\n",
       "      <td>5</td>\n",
       "      <td>0.345455</td>\n",
       "      <td>Stage II</td>\n",
       "      <td>0.101010</td>\n",
       "      <td>1.000000</td>\n",
       "      <td>0.977778</td>\n",
       "      <td>Non-Responder</td>\n",
       "      <td>1</td>\n",
       "      <td>0</td>\n",
       "      <td>0</td>\n",
       "      <td>0</td>\n",
       "      <td>1</td>\n",
       "    </tr>\n",
       "  </tbody>\n",
       "</table>\n",
       "</div>"
      ],
      "text/plain": [
       "   Patient_ID       Age Cancer_Stage  PD-L1_Level(%)  EGFR_Mutation_Count  \\\n",
       "0           1  0.400000    Stage III        1.000000             0.571429   \n",
       "1           2  0.563636     Stage II        0.929293             0.785714   \n",
       "2           3  0.290909     Stage IV        0.222222             0.571429   \n",
       "3           4  0.709091     Stage IV        0.313131             0.214286   \n",
       "4           5  0.345455     Stage II        0.101010             1.000000   \n",
       "\n",
       "   Tumor_Size       Response  Gender_Male  Treatment_Type_Immunotherapy  \\\n",
       "0    0.900000  Non-Responder            1                             0   \n",
       "1    0.755556      Responder            0                             0   \n",
       "2    0.833333      Responder            0                             1   \n",
       "3    0.777778  Non-Responder            0                             0   \n",
       "4    0.977778  Non-Responder            1                             0   \n",
       "\n",
       "   Smoking_Status_Former  Smoking_Status_Never  Smoking_Status_Not Specified  \n",
       "0                      0                     0                             0  \n",
       "1                      0                     1                             0  \n",
       "2                      1                     0                             0  \n",
       "3                      1                     0                             0  \n",
       "4                      0                     0                             1  "
      ]
     },
     "execution_count": 47,
     "metadata": {},
     "output_type": "execute_result"
    }
   ],
   "source": [
    "# one-hot encoding to nominal columns\n",
    "data1 = pd.get_dummies(data, columns=['Gender', 'Treatment_Type', 'Smoking_Status'], drop_first=True)\n",
    "\n",
    "for col in data1.columns:\n",
    "    if col not in ['Patient_ID', 'Age', 'Cancer_Stage', 'PD-L1_Level(%)', 'EGFR_Mutation_Count', 'Tumor_Size', 'Response']:\n",
    "        data1[col] = data1[col].astype(int)\n",
    "\n",
    "data1.head()\n"
   ]
  },
  {
   "cell_type": "markdown",
   "id": "c26bd865",
   "metadata": {},
   "source": [
    "In the code above, one-hot encoding is applied to columns like Gender, Treatment_Type, and Smoking_Status because these columns are nominal, meaning their categories represent distinct groups without any meaningful order."
   ]
  },
  {
   "cell_type": "markdown",
   "id": "3e86dd45",
   "metadata": {},
   "source": [
    "### Label Encoding - Using Maping"
   ]
  },
  {
   "cell_type": "code",
   "execution_count": 48,
   "id": "47b192f1",
   "metadata": {},
   "outputs": [
    {
     "data": {
      "text/plain": [
       "<StringArray>\n",
       "['Stage III', 'Stage II', 'Stage IV']\n",
       "Length: 3, dtype: string"
      ]
     },
     "execution_count": 48,
     "metadata": {},
     "output_type": "execute_result"
    }
   ],
   "source": [
    "data1['Cancer_Stage'].unique()"
   ]
  },
  {
   "cell_type": "code",
   "execution_count": 49,
   "id": "d2d9e0e5",
   "metadata": {},
   "outputs": [
    {
     "data": {
      "text/html": [
       "<div>\n",
       "<style scoped>\n",
       "    .dataframe tbody tr th:only-of-type {\n",
       "        vertical-align: middle;\n",
       "    }\n",
       "\n",
       "    .dataframe tbody tr th {\n",
       "        vertical-align: top;\n",
       "    }\n",
       "\n",
       "    .dataframe thead th {\n",
       "        text-align: right;\n",
       "    }\n",
       "</style>\n",
       "<table border=\"1\" class=\"dataframe\">\n",
       "  <thead>\n",
       "    <tr style=\"text-align: right;\">\n",
       "      <th></th>\n",
       "      <th>Patient_ID</th>\n",
       "      <th>Age</th>\n",
       "      <th>Cancer_Stage</th>\n",
       "      <th>PD-L1_Level(%)</th>\n",
       "      <th>EGFR_Mutation_Count</th>\n",
       "      <th>Tumor_Size</th>\n",
       "      <th>Response</th>\n",
       "      <th>Gender_Male</th>\n",
       "      <th>Treatment_Type_Immunotherapy</th>\n",
       "      <th>Smoking_Status_Former</th>\n",
       "      <th>Smoking_Status_Never</th>\n",
       "      <th>Smoking_Status_Not Specified</th>\n",
       "    </tr>\n",
       "  </thead>\n",
       "  <tbody>\n",
       "    <tr>\n",
       "      <th>0</th>\n",
       "      <td>1</td>\n",
       "      <td>0.400000</td>\n",
       "      <td>1</td>\n",
       "      <td>1.000000</td>\n",
       "      <td>0.571429</td>\n",
       "      <td>0.900000</td>\n",
       "      <td>Non-Responder</td>\n",
       "      <td>1</td>\n",
       "      <td>0</td>\n",
       "      <td>0</td>\n",
       "      <td>0</td>\n",
       "      <td>0</td>\n",
       "    </tr>\n",
       "    <tr>\n",
       "      <th>1</th>\n",
       "      <td>2</td>\n",
       "      <td>0.563636</td>\n",
       "      <td>0</td>\n",
       "      <td>0.929293</td>\n",
       "      <td>0.785714</td>\n",
       "      <td>0.755556</td>\n",
       "      <td>Responder</td>\n",
       "      <td>0</td>\n",
       "      <td>0</td>\n",
       "      <td>0</td>\n",
       "      <td>1</td>\n",
       "      <td>0</td>\n",
       "    </tr>\n",
       "    <tr>\n",
       "      <th>2</th>\n",
       "      <td>3</td>\n",
       "      <td>0.290909</td>\n",
       "      <td>2</td>\n",
       "      <td>0.222222</td>\n",
       "      <td>0.571429</td>\n",
       "      <td>0.833333</td>\n",
       "      <td>Responder</td>\n",
       "      <td>0</td>\n",
       "      <td>1</td>\n",
       "      <td>1</td>\n",
       "      <td>0</td>\n",
       "      <td>0</td>\n",
       "    </tr>\n",
       "    <tr>\n",
       "      <th>3</th>\n",
       "      <td>4</td>\n",
       "      <td>0.709091</td>\n",
       "      <td>2</td>\n",
       "      <td>0.313131</td>\n",
       "      <td>0.214286</td>\n",
       "      <td>0.777778</td>\n",
       "      <td>Non-Responder</td>\n",
       "      <td>0</td>\n",
       "      <td>0</td>\n",
       "      <td>1</td>\n",
       "      <td>0</td>\n",
       "      <td>0</td>\n",
       "    </tr>\n",
       "    <tr>\n",
       "      <th>4</th>\n",
       "      <td>5</td>\n",
       "      <td>0.345455</td>\n",
       "      <td>0</td>\n",
       "      <td>0.101010</td>\n",
       "      <td>1.000000</td>\n",
       "      <td>0.977778</td>\n",
       "      <td>Non-Responder</td>\n",
       "      <td>1</td>\n",
       "      <td>0</td>\n",
       "      <td>0</td>\n",
       "      <td>0</td>\n",
       "      <td>1</td>\n",
       "    </tr>\n",
       "  </tbody>\n",
       "</table>\n",
       "</div>"
      ],
      "text/plain": [
       "   Patient_ID       Age  Cancer_Stage  PD-L1_Level(%)  EGFR_Mutation_Count  \\\n",
       "0           1  0.400000             1        1.000000             0.571429   \n",
       "1           2  0.563636             0        0.929293             0.785714   \n",
       "2           3  0.290909             2        0.222222             0.571429   \n",
       "3           4  0.709091             2        0.313131             0.214286   \n",
       "4           5  0.345455             0        0.101010             1.000000   \n",
       "\n",
       "   Tumor_Size       Response  Gender_Male  Treatment_Type_Immunotherapy  \\\n",
       "0    0.900000  Non-Responder            1                             0   \n",
       "1    0.755556      Responder            0                             0   \n",
       "2    0.833333      Responder            0                             1   \n",
       "3    0.777778  Non-Responder            0                             0   \n",
       "4    0.977778  Non-Responder            1                             0   \n",
       "\n",
       "   Smoking_Status_Former  Smoking_Status_Never  Smoking_Status_Not Specified  \n",
       "0                      0                     0                             0  \n",
       "1                      0                     1                             0  \n",
       "2                      1                     0                             0  \n",
       "3                      1                     0                             0  \n",
       "4                      0                     0                             1  "
      ]
     },
     "execution_count": 49,
     "metadata": {},
     "output_type": "execute_result"
    }
   ],
   "source": [
    "# By using maping function\n",
    "\n",
    "data1['Cancer_Stage'] = data1[\"Cancer_Stage\"].map({'Stage II':0,'Stage III':1, 'Stage IV':2})\n",
    "data1.head()"
   ]
  },
  {
   "cell_type": "markdown",
   "id": "dec9bb22",
   "metadata": {},
   "source": [
    "To perform label encoding on the Cancer_Stage column using the map function, we can map each stage to a meaningful ordinal value. Since Cancer_Stage is ordinal, encoding it in sequence (e.g., Stage I = 0, Stage II = 1, Stage III = 2) will maintain the meaningful order."
   ]
  },
  {
   "cell_type": "code",
   "execution_count": 50,
   "id": "fc432dc5",
   "metadata": {},
   "outputs": [],
   "source": [
    "# Import LabelEncoder\n",
    "\n",
    "from sklearn.preprocessing import LabelEncoder\n",
    "\n",
    "Encoder = LabelEncoder()"
   ]
  },
  {
   "cell_type": "code",
   "execution_count": 51,
   "id": "1e3ae4f9",
   "metadata": {},
   "outputs": [
    {
     "data": {
      "text/html": [
       "<div>\n",
       "<style scoped>\n",
       "    .dataframe tbody tr th:only-of-type {\n",
       "        vertical-align: middle;\n",
       "    }\n",
       "\n",
       "    .dataframe tbody tr th {\n",
       "        vertical-align: top;\n",
       "    }\n",
       "\n",
       "    .dataframe thead th {\n",
       "        text-align: right;\n",
       "    }\n",
       "</style>\n",
       "<table border=\"1\" class=\"dataframe\">\n",
       "  <thead>\n",
       "    <tr style=\"text-align: right;\">\n",
       "      <th></th>\n",
       "      <th>Patient_ID</th>\n",
       "      <th>Age</th>\n",
       "      <th>Cancer_Stage</th>\n",
       "      <th>PD-L1_Level(%)</th>\n",
       "      <th>EGFR_Mutation_Count</th>\n",
       "      <th>Tumor_Size</th>\n",
       "      <th>Response</th>\n",
       "      <th>Gender_Male</th>\n",
       "      <th>Treatment_Type_Immunotherapy</th>\n",
       "      <th>Smoking_Status_Former</th>\n",
       "      <th>Smoking_Status_Never</th>\n",
       "      <th>Smoking_Status_Not Specified</th>\n",
       "    </tr>\n",
       "  </thead>\n",
       "  <tbody>\n",
       "    <tr>\n",
       "      <th>0</th>\n",
       "      <td>1</td>\n",
       "      <td>0.400000</td>\n",
       "      <td>1</td>\n",
       "      <td>1.000000</td>\n",
       "      <td>0.571429</td>\n",
       "      <td>0.900000</td>\n",
       "      <td>0</td>\n",
       "      <td>1</td>\n",
       "      <td>0</td>\n",
       "      <td>0</td>\n",
       "      <td>0</td>\n",
       "      <td>0</td>\n",
       "    </tr>\n",
       "    <tr>\n",
       "      <th>1</th>\n",
       "      <td>2</td>\n",
       "      <td>0.563636</td>\n",
       "      <td>0</td>\n",
       "      <td>0.929293</td>\n",
       "      <td>0.785714</td>\n",
       "      <td>0.755556</td>\n",
       "      <td>1</td>\n",
       "      <td>0</td>\n",
       "      <td>0</td>\n",
       "      <td>0</td>\n",
       "      <td>1</td>\n",
       "      <td>0</td>\n",
       "    </tr>\n",
       "    <tr>\n",
       "      <th>2</th>\n",
       "      <td>3</td>\n",
       "      <td>0.290909</td>\n",
       "      <td>2</td>\n",
       "      <td>0.222222</td>\n",
       "      <td>0.571429</td>\n",
       "      <td>0.833333</td>\n",
       "      <td>1</td>\n",
       "      <td>0</td>\n",
       "      <td>1</td>\n",
       "      <td>1</td>\n",
       "      <td>0</td>\n",
       "      <td>0</td>\n",
       "    </tr>\n",
       "    <tr>\n",
       "      <th>3</th>\n",
       "      <td>4</td>\n",
       "      <td>0.709091</td>\n",
       "      <td>2</td>\n",
       "      <td>0.313131</td>\n",
       "      <td>0.214286</td>\n",
       "      <td>0.777778</td>\n",
       "      <td>0</td>\n",
       "      <td>0</td>\n",
       "      <td>0</td>\n",
       "      <td>1</td>\n",
       "      <td>0</td>\n",
       "      <td>0</td>\n",
       "    </tr>\n",
       "    <tr>\n",
       "      <th>4</th>\n",
       "      <td>5</td>\n",
       "      <td>0.345455</td>\n",
       "      <td>0</td>\n",
       "      <td>0.101010</td>\n",
       "      <td>1.000000</td>\n",
       "      <td>0.977778</td>\n",
       "      <td>0</td>\n",
       "      <td>1</td>\n",
       "      <td>0</td>\n",
       "      <td>0</td>\n",
       "      <td>0</td>\n",
       "      <td>1</td>\n",
       "    </tr>\n",
       "  </tbody>\n",
       "</table>\n",
       "</div>"
      ],
      "text/plain": [
       "   Patient_ID       Age  Cancer_Stage  PD-L1_Level(%)  EGFR_Mutation_Count  \\\n",
       "0           1  0.400000             1        1.000000             0.571429   \n",
       "1           2  0.563636             0        0.929293             0.785714   \n",
       "2           3  0.290909             2        0.222222             0.571429   \n",
       "3           4  0.709091             2        0.313131             0.214286   \n",
       "4           5  0.345455             0        0.101010             1.000000   \n",
       "\n",
       "   Tumor_Size  Response  Gender_Male  Treatment_Type_Immunotherapy  \\\n",
       "0    0.900000         0            1                             0   \n",
       "1    0.755556         1            0                             0   \n",
       "2    0.833333         1            0                             1   \n",
       "3    0.777778         0            0                             0   \n",
       "4    0.977778         0            1                             0   \n",
       "\n",
       "   Smoking_Status_Former  Smoking_Status_Never  Smoking_Status_Not Specified  \n",
       "0                      0                     0                             0  \n",
       "1                      0                     1                             0  \n",
       "2                      1                     0                             0  \n",
       "3                      1                     0                             0  \n",
       "4                      0                     0                             1  "
      ]
     },
     "execution_count": 51,
     "metadata": {},
     "output_type": "execute_result"
    }
   ],
   "source": [
    "# Convert the target column into numerical\n",
    "\n",
    "data1['Response'] = Encoder.fit_transform(data1['Response'])\n",
    "data1.head()"
   ]
  },
  {
   "cell_type": "code",
   "execution_count": 52,
   "id": "f6cd87d0",
   "metadata": {},
   "outputs": [
    {
     "data": {
      "text/html": [
       "<div>\n",
       "<style scoped>\n",
       "    .dataframe tbody tr th:only-of-type {\n",
       "        vertical-align: middle;\n",
       "    }\n",
       "\n",
       "    .dataframe tbody tr th {\n",
       "        vertical-align: top;\n",
       "    }\n",
       "\n",
       "    .dataframe thead th {\n",
       "        text-align: right;\n",
       "    }\n",
       "</style>\n",
       "<table border=\"1\" class=\"dataframe\">\n",
       "  <thead>\n",
       "    <tr style=\"text-align: right;\">\n",
       "      <th></th>\n",
       "      <th>Patient_ID</th>\n",
       "      <th>Age</th>\n",
       "      <th>Cancer_Stage</th>\n",
       "      <th>PD-L1_Level(%)</th>\n",
       "      <th>EGFR_Mutation_Count</th>\n",
       "      <th>Tumor_Size</th>\n",
       "      <th>Gender_Male</th>\n",
       "      <th>Treatment_Type_Immunotherapy</th>\n",
       "      <th>Smoking_Status_Former</th>\n",
       "      <th>Smoking_Status_Never</th>\n",
       "      <th>Smoking_Status_Not Specified</th>\n",
       "      <th>Response</th>\n",
       "    </tr>\n",
       "  </thead>\n",
       "  <tbody>\n",
       "    <tr>\n",
       "      <th>0</th>\n",
       "      <td>1</td>\n",
       "      <td>0.400000</td>\n",
       "      <td>1</td>\n",
       "      <td>1.000000</td>\n",
       "      <td>0.571429</td>\n",
       "      <td>0.900000</td>\n",
       "      <td>1</td>\n",
       "      <td>0</td>\n",
       "      <td>0</td>\n",
       "      <td>0</td>\n",
       "      <td>0</td>\n",
       "      <td>0</td>\n",
       "    </tr>\n",
       "    <tr>\n",
       "      <th>1</th>\n",
       "      <td>2</td>\n",
       "      <td>0.563636</td>\n",
       "      <td>0</td>\n",
       "      <td>0.929293</td>\n",
       "      <td>0.785714</td>\n",
       "      <td>0.755556</td>\n",
       "      <td>0</td>\n",
       "      <td>0</td>\n",
       "      <td>0</td>\n",
       "      <td>1</td>\n",
       "      <td>0</td>\n",
       "      <td>1</td>\n",
       "    </tr>\n",
       "    <tr>\n",
       "      <th>2</th>\n",
       "      <td>3</td>\n",
       "      <td>0.290909</td>\n",
       "      <td>2</td>\n",
       "      <td>0.222222</td>\n",
       "      <td>0.571429</td>\n",
       "      <td>0.833333</td>\n",
       "      <td>0</td>\n",
       "      <td>1</td>\n",
       "      <td>1</td>\n",
       "      <td>0</td>\n",
       "      <td>0</td>\n",
       "      <td>1</td>\n",
       "    </tr>\n",
       "    <tr>\n",
       "      <th>3</th>\n",
       "      <td>4</td>\n",
       "      <td>0.709091</td>\n",
       "      <td>2</td>\n",
       "      <td>0.313131</td>\n",
       "      <td>0.214286</td>\n",
       "      <td>0.777778</td>\n",
       "      <td>0</td>\n",
       "      <td>0</td>\n",
       "      <td>1</td>\n",
       "      <td>0</td>\n",
       "      <td>0</td>\n",
       "      <td>0</td>\n",
       "    </tr>\n",
       "    <tr>\n",
       "      <th>4</th>\n",
       "      <td>5</td>\n",
       "      <td>0.345455</td>\n",
       "      <td>0</td>\n",
       "      <td>0.101010</td>\n",
       "      <td>1.000000</td>\n",
       "      <td>0.977778</td>\n",
       "      <td>1</td>\n",
       "      <td>0</td>\n",
       "      <td>0</td>\n",
       "      <td>0</td>\n",
       "      <td>1</td>\n",
       "      <td>0</td>\n",
       "    </tr>\n",
       "  </tbody>\n",
       "</table>\n",
       "</div>"
      ],
      "text/plain": [
       "   Patient_ID       Age  Cancer_Stage  PD-L1_Level(%)  EGFR_Mutation_Count  \\\n",
       "0           1  0.400000             1        1.000000             0.571429   \n",
       "1           2  0.563636             0        0.929293             0.785714   \n",
       "2           3  0.290909             2        0.222222             0.571429   \n",
       "3           4  0.709091             2        0.313131             0.214286   \n",
       "4           5  0.345455             0        0.101010             1.000000   \n",
       "\n",
       "   Tumor_Size  Gender_Male  Treatment_Type_Immunotherapy  \\\n",
       "0    0.900000            1                             0   \n",
       "1    0.755556            0                             0   \n",
       "2    0.833333            0                             1   \n",
       "3    0.777778            0                             0   \n",
       "4    0.977778            1                             0   \n",
       "\n",
       "   Smoking_Status_Former  Smoking_Status_Never  Smoking_Status_Not Specified  \\\n",
       "0                      0                     0                             0   \n",
       "1                      0                     1                             0   \n",
       "2                      1                     0                             0   \n",
       "3                      1                     0                             0   \n",
       "4                      0                     0                             1   \n",
       "\n",
       "   Response  \n",
       "0         0  \n",
       "1         1  \n",
       "2         1  \n",
       "3         0  \n",
       "4         0  "
      ]
     },
     "execution_count": 52,
     "metadata": {},
     "output_type": "execute_result"
    }
   ],
   "source": [
    "# Rearrange the target column\n",
    "\n",
    "# Empty list for columns\n",
    "columns = []\n",
    "\n",
    "# adding all columns except \"Response\" col\n",
    "for i in data1.columns:\n",
    "    if i != \"Response\":\n",
    "        columns.append(i)\n",
    "\n",
    "# append response column at the end         \n",
    "columns.append('Response')\n",
    "\n",
    "new_df = data1[columns]\n",
    "\n",
    "new_df.head()"
   ]
  },
  {
   "cell_type": "code",
   "execution_count": null,
   "id": "d50b4f1c",
   "metadata": {},
   "outputs": [],
   "source": []
  },
  {
   "cell_type": "markdown",
   "id": "af79c015",
   "metadata": {},
   "source": [
    "### Model Building"
   ]
  },
  {
   "cell_type": "code",
   "execution_count": 53,
   "id": "25ed429c",
   "metadata": {},
   "outputs": [],
   "source": [
    "# Inmport required models\n",
    "\n",
    "from sklearn.model_selection import train_test_split, GridSearchCV\n",
    "from sklearn.preprocessing import StandardScaler\n",
    "from sklearn.linear_model import LogisticRegression\n",
    "from sklearn.metrics import recall_score, accuracy_score, precision_score, f1_score, classification_report\n"
   ]
  },
  {
   "cell_type": "code",
   "execution_count": 54,
   "id": "0c091cb0",
   "metadata": {},
   "outputs": [],
   "source": [
    "# Splitting data\n",
    "\n",
    "X = new_df.drop(columns=['Patient_ID', 'Response'])\n",
    "y = new_df['Response']\n",
    "X_train, X_test, y_train, y_test = train_test_split(X, y, test_size=0.2, random_state=42)\n"
   ]
  },
  {
   "cell_type": "markdown",
   "id": "230339ad",
   "metadata": {},
   "source": [
    "# Logistic Regression"
   ]
  },
  {
   "cell_type": "code",
   "execution_count": 55,
   "id": "d67e19c4",
   "metadata": {},
   "outputs": [
    {
     "name": "stdout",
     "output_type": "stream",
     "text": [
      "Best Logistic Regression Model: LogisticRegression(C=10, solver='liblinear')\n",
      "Recall for Logistic Regression: 0.2891156462585034\n",
      "Accuracy for Logistic Regression: 0.505\n",
      "Precision for Logistic Regression 0.4913294797687861\n",
      "F1 Score for Logistic Regression: 0.36402569593147743\n",
      "Classification Report:\n",
      "               precision    recall  f1-score   support\n",
      "\n",
      "           0       0.51      0.71      0.59       306\n",
      "           1       0.49      0.29      0.36       294\n",
      "\n",
      "    accuracy                           0.51       600\n",
      "   macro avg       0.50      0.50      0.48       600\n",
      "weighted avg       0.50      0.51      0.48       600\n",
      "\n"
     ]
    }
   ],
   "source": [
    "# Logistic Regression\n",
    "\n",
    "param_grid_lr = {'C': [0.01, 0.1, 1, 10],\n",
    "                 'penalty': ['l1', 'l2']}\n",
    "\n",
    "\n",
    "# Grid search for Logistic Regression\n",
    "lr = LogisticRegression(solver='liblinear')\n",
    "grid_search_lr = GridSearchCV(lr, param_grid_lr, cv=5, scoring='recall', n_jobs=-1)\n",
    "grid_search_lr.fit(X_train, y_train)\n",
    "\n",
    "# Evaluate Logistic Regression model\n",
    "best_model_lr = grid_search_lr.best_estimator_\n",
    "y_pred_lr = best_model_lr.predict(X_test)\n",
    "recall_lr = recall_score(y_test, y_pred_lr)\n",
    "accuracy_lr = accuracy_score(y_test, y_pred_lr)\n",
    "precision_lr = precision_score(y_test, y_pred_lr)\n",
    "f1_score_lr = f1_score(y_test, y_pred_lr)\n",
    "\n",
    "print(\"Best Logistic Regression Model:\", best_model_lr)\n",
    "print(\"Recall for Logistic Regression:\", recall_lr)\n",
    "print(\"Accuracy for Logistic Regression:\", accuracy_lr)\n",
    "print(\"Precision for Logistic Regression\", precision_lr)\n",
    "print(\"F1 Score for Logistic Regression:\", f1_score_lr )\n",
    "print(\"Classification Report:\\n\", classification_report(y_test, y_pred_lr))\n"
   ]
  },
  {
   "cell_type": "markdown",
   "id": "eba1a477",
   "metadata": {},
   "source": [
    "# XGBoost"
   ]
  },
  {
   "cell_type": "code",
   "execution_count": 56,
   "id": "45f5af7a",
   "metadata": {},
   "outputs": [
    {
     "name": "stdout",
     "output_type": "stream",
     "text": [
      "Requirement already satisfied: xgboost in c:\\programdata\\anaconda3\\lib\\site-packages (1.7.3)\n",
      "Requirement already satisfied: numpy in c:\\programdata\\anaconda3\\lib\\site-packages (from xgboost) (1.20.3)\n",
      "Requirement already satisfied: scipy in c:\\programdata\\anaconda3\\lib\\site-packages (from xgboost) (1.7.1)\n"
     ]
    },
    {
     "name": "stderr",
     "output_type": "stream",
     "text": [
      "WARNING: Ignoring invalid distribution -blib (c:\\programdata\\anaconda3\\lib\\site-packages)\n",
      "WARNING: Ignoring invalid distribution -umpy (c:\\programdata\\anaconda3\\lib\\site-packages)\n",
      "WARNING: Ignoring invalid distribution -oblib (c:\\programdata\\anaconda3\\lib\\site-packages)\n",
      "WARNING: Ignoring invalid distribution - (c:\\programdata\\anaconda3\\lib\\site-packages)\n",
      "WARNING: Ignoring invalid distribution -blib (c:\\programdata\\anaconda3\\lib\\site-packages)\n",
      "WARNING: Ignoring invalid distribution -blib (c:\\programdata\\anaconda3\\lib\\site-packages)\n",
      "WARNING: Ignoring invalid distribution -umpy (c:\\programdata\\anaconda3\\lib\\site-packages)\n",
      "WARNING: Ignoring invalid distribution -oblib (c:\\programdata\\anaconda3\\lib\\site-packages)\n",
      "WARNING: Ignoring invalid distribution - (c:\\programdata\\anaconda3\\lib\\site-packages)\n",
      "WARNING: Ignoring invalid distribution -blib (c:\\programdata\\anaconda3\\lib\\site-packages)\n",
      "WARNING: Ignoring invalid distribution -blib (c:\\programdata\\anaconda3\\lib\\site-packages)\n",
      "WARNING: Ignoring invalid distribution -umpy (c:\\programdata\\anaconda3\\lib\\site-packages)\n",
      "WARNING: Ignoring invalid distribution -oblib (c:\\programdata\\anaconda3\\lib\\site-packages)\n",
      "WARNING: Ignoring invalid distribution - (c:\\programdata\\anaconda3\\lib\\site-packages)\n",
      "WARNING: Ignoring invalid distribution -blib (c:\\programdata\\anaconda3\\lib\\site-packages)\n",
      "WARNING: Ignoring invalid distribution -blib (c:\\programdata\\anaconda3\\lib\\site-packages)\n",
      "WARNING: Ignoring invalid distribution -umpy (c:\\programdata\\anaconda3\\lib\\site-packages)\n",
      "WARNING: Ignoring invalid distribution -oblib (c:\\programdata\\anaconda3\\lib\\site-packages)\n",
      "WARNING: Ignoring invalid distribution - (c:\\programdata\\anaconda3\\lib\\site-packages)\n",
      "WARNING: Ignoring invalid distribution -blib (c:\\programdata\\anaconda3\\lib\\site-packages)\n",
      "WARNING: Ignoring invalid distribution -blib (c:\\programdata\\anaconda3\\lib\\site-packages)\n",
      "WARNING: Ignoring invalid distribution -umpy (c:\\programdata\\anaconda3\\lib\\site-packages)\n",
      "WARNING: Ignoring invalid distribution -oblib (c:\\programdata\\anaconda3\\lib\\site-packages)\n",
      "WARNING: Ignoring invalid distribution - (c:\\programdata\\anaconda3\\lib\\site-packages)\n",
      "WARNING: Ignoring invalid distribution -blib (c:\\programdata\\anaconda3\\lib\\site-packages)\n",
      "WARNING: Ignoring invalid distribution -blib (c:\\programdata\\anaconda3\\lib\\site-packages)\n",
      "WARNING: Ignoring invalid distribution -umpy (c:\\programdata\\anaconda3\\lib\\site-packages)\n",
      "WARNING: Ignoring invalid distribution -oblib (c:\\programdata\\anaconda3\\lib\\site-packages)\n",
      "WARNING: Ignoring invalid distribution - (c:\\programdata\\anaconda3\\lib\\site-packages)\n",
      "WARNING: Ignoring invalid distribution -blib (c:\\programdata\\anaconda3\\lib\\site-packages)\n"
     ]
    }
   ],
   "source": [
    "# Import the module xgboost\n",
    "\n",
    "! pip install xgboost"
   ]
  },
  {
   "cell_type": "code",
   "execution_count": 57,
   "id": "117b681f",
   "metadata": {},
   "outputs": [
    {
     "name": "stderr",
     "output_type": "stream",
     "text": [
      "c:\\ProgramData\\Anaconda3\\lib\\site-packages\\xgboost\\sklearn.py:1395: UserWarning: `use_label_encoder` is deprecated in 1.7.0.\n",
      "  warnings.warn(\"`use_label_encoder` is deprecated in 1.7.0.\")\n",
      "c:\\ProgramData\\Anaconda3\\lib\\site-packages\\xgboost\\sklearn.py:1395: UserWarning: `use_label_encoder` is deprecated in 1.7.0.\n",
      "  warnings.warn(\"`use_label_encoder` is deprecated in 1.7.0.\")\n",
      "c:\\ProgramData\\Anaconda3\\lib\\site-packages\\xgboost\\sklearn.py:1395: UserWarning: `use_label_encoder` is deprecated in 1.7.0.\n",
      "  warnings.warn(\"`use_label_encoder` is deprecated in 1.7.0.\")\n"
     ]
    },
    {
     "name": "stdout",
     "output_type": "stream",
     "text": [
      "Best XGBoost Model: XGBClassifier(base_score=None, booster=None, callbacks=None,\n",
      "              colsample_bylevel=None, colsample_bynode=None,\n",
      "              colsample_bytree=None, early_stopping_rounds=None,\n",
      "              enable_categorical=False, eval_metric='logloss',\n",
      "              feature_types=None, gamma=None, gpu_id=None, grow_policy=None,\n",
      "              importance_type=None, interaction_constraints=None,\n",
      "              learning_rate=0.01, max_bin=None, max_cat_threshold=None,\n",
      "              max_cat_to_onehot=None, max_delta_step=None, max_depth=7,\n",
      "              max_leaves=None, min_child_weight=None, missing=nan,\n",
      "              monotone_constraints=None, n_estimators=100, n_jobs=None,\n",
      "              num_parallel_tree=None, predictor=None, random_state=42, ...)\n",
      "Recall for XGBoost: 0.4931972789115646\n",
      "Accuracy for XGBoost: 0.4866666666666667\n",
      "Precision for XGBoost: 0.4769736842105263\n",
      "F1 Score for XGB: 0.48494983277591974\n",
      "Classification Report:\n",
      "               precision    recall  f1-score   support\n",
      "\n",
      "           0       0.50      0.48      0.49       306\n",
      "           1       0.48      0.49      0.48       294\n",
      "\n",
      "    accuracy                           0.49       600\n",
      "   macro avg       0.49      0.49      0.49       600\n",
      "weighted avg       0.49      0.49      0.49       600\n",
      "\n"
     ]
    }
   ],
   "source": [
    "import xgboost\n",
    "from xgboost import XGBClassifier\n",
    "\n",
    "# Define parameter grid for XGBoost\n",
    "param_grid_xgb = {'n_estimators': [100, 200, 300],\n",
    "                  'max_depth': [3, 5, 7],\n",
    "                  'learning_rate': [0.01, 0.1, 0.3]}\n",
    "\n",
    "# Grid search for XGBoost\n",
    "xgb = XGBClassifier(use_label_encoder=False, eval_metric='logloss', random_state=42)\n",
    "grid_search_xgb = GridSearchCV(xgb, param_grid_xgb, cv=5, scoring='recall', n_jobs=-1)\n",
    "grid_search_xgb.fit(X_train, y_train)\n",
    "\n",
    "# Evaluate XGBoost model\n",
    "best_model_xgb = grid_search_xgb.best_estimator_\n",
    "y_pred_xgb = best_model_xgb.predict(X_test)\n",
    "recall_xgb = recall_score(y_test, y_pred_xgb)\n",
    "accuracy_xgb = accuracy_score(y_test, y_pred_xgb)\n",
    "precision_xgb = precision_score(y_test, y_pred_xgb)\n",
    "f1_score_xgb = f1_score(y_test, y_pred_xgb)\n",
    "\n",
    "print(\"Best XGBoost Model:\", best_model_xgb)\n",
    "print(\"Recall for XGBoost:\", recall_xgb)\n",
    "print(\"Accuracy for XGBoost:\", accuracy_xgb)\n",
    "print(\"Precision for XGBoost:\", precision_xgb)\n",
    "print(\"F1 Score for XGB:\", f1_score_xgb)\n",
    "print(\"Classification Report:\\n\", classification_report(y_test, y_pred_xgb))"
   ]
  },
  {
   "cell_type": "code",
   "execution_count": null,
   "id": "7672847e",
   "metadata": {},
   "outputs": [],
   "source": []
  },
  {
   "cell_type": "markdown",
   "id": "88386d22",
   "metadata": {},
   "source": [
    "# Support Vector Classifier"
   ]
  },
  {
   "cell_type": "code",
   "execution_count": 58,
   "id": "399e23ee",
   "metadata": {},
   "outputs": [
    {
     "name": "stdout",
     "output_type": "stream",
     "text": [
      "Best Parameters: {'C': 10, 'gamma': 1, 'kernel': 'rbf'}\n",
      "Best Cross-Validation Score: 0.51\n",
      "Test Data Accuracy: 0.52\n",
      "Precision for SVC: 0.5096774193548387\n",
      "recall for SVC: 0.5374149659863946\n",
      "F1 score for SVC: 0.5231788079470199\n",
      "Classification Report:\n",
      "               precision    recall  f1-score   support\n",
      "\n",
      "           0       0.53      0.50      0.52       306\n",
      "           1       0.51      0.54      0.52       294\n",
      "\n",
      "    accuracy                           0.52       600\n",
      "   macro avg       0.52      0.52      0.52       600\n",
      "weighted avg       0.52      0.52      0.52       600\n",
      "\n"
     ]
    }
   ],
   "source": [
    "\n",
    "from sklearn.svm import SVC\n",
    "\n",
    "# Define parameter grid\n",
    "param_grid = {\n",
    "    'C': [0.1, 1, 10],\n",
    "    'gamma': [0.01, 0.1, 1],\n",
    "    'kernel': ['linear', 'poly', 'rbf', 'sigmoid']  # Corrected typo in 'poly'\n",
    "}\n",
    "\n",
    "# Initialize the SVC model\n",
    "svm_model = SVC()\n",
    "\n",
    "# Set up GridSearchCV\n",
    "grid_search = GridSearchCV(svm_model, param_grid, cv=5, scoring='accuracy')\n",
    "grid_search.fit(X_train, y_train)\n",
    "\n",
    "# Output the best parameters and score from grid search\n",
    "print('Best Parameters:', grid_search.best_params_)\n",
    "print('Best Cross-Validation Score:', grid_search.best_score_)\n",
    "\n",
    "# Use the best model to make predictions on the test set\n",
    "best_model = grid_search.best_estimator_\n",
    "y_pred = best_model.predict(X_test)\n",
    "\n",
    "# Calculate and print accuracy on test data\n",
    "test_data_score = accuracy_score(y_test, y_pred)\n",
    "print('Test Data Accuracy:', test_data_score)\n",
    "\n",
    "precision_svc = precision_score(y_test, y_pred)\n",
    "recall_svc = recall_score(y_test, y_pred)\n",
    "f1_score_svc = f1_score(y_test, y_pred)\n",
    "\n",
    "print(\"Precision for SVC:\", precision_svc)\n",
    "print(\"recall for SVC:\", recall_svc)\n",
    "print(\"F1 score for SVC:\", f1_score_svc)\n",
    "print(\"Classification Report:\\n\", classification_report(y_test, y_pred))"
   ]
  },
  {
   "cell_type": "markdown",
   "id": "e51ae62b",
   "metadata": {},
   "source": [
    "# Random Forest"
   ]
  },
  {
   "cell_type": "code",
   "execution_count": 59,
   "id": "249047f4",
   "metadata": {},
   "outputs": [
    {
     "name": "stdout",
     "output_type": "stream",
     "text": [
      "Random Forest Best Parameters: {'max_depth': 20, 'min_samples_split': 10, 'n_estimators': 200}\n",
      "Random Forest Accuracy: 0.4533333333333333\n",
      "Random Forest Precision: 0.4392857142857143\n",
      "Random Forest recall: 0.41836734693877553\n",
      "Random Forest f1_score: 0.4285714285714286\n",
      "Classification Report:\n",
      "               precision    recall  f1-score   support\n",
      "\n",
      "           0       0.47      0.49      0.48       306\n",
      "           1       0.44      0.42      0.43       294\n",
      "\n",
      "    accuracy                           0.45       600\n",
      "   macro avg       0.45      0.45      0.45       600\n",
      "weighted avg       0.45      0.45      0.45       600\n",
      "\n"
     ]
    }
   ],
   "source": [
    "from sklearn.ensemble import RandomForestClassifier\n",
    "\n",
    "# Random Forest Model\n",
    "random_forest = RandomForestClassifier(random_state=42)\n",
    "\n",
    "# Define hyperparameters for random forest\n",
    "param_grid_random_forest = {\n",
    "    'n_estimators': [50, 100, 200],\n",
    "    'max_depth': [None, 10, 20, 30],\n",
    "    'min_samples_split': [2, 5, 10]\n",
    "}\n",
    "\n",
    "# Train with GridSearchCV\n",
    "grid_search_random_forest = GridSearchCV(estimator=random_forest, param_grid=param_grid_random_forest, cv=5, scoring='accuracy', n_jobs=-1)\n",
    "grid_search_random_forest.fit(X_train, y_train)\n",
    "\n",
    "# Best model and evaluation\n",
    "best_random_forest = grid_search_random_forest.best_estimator_\n",
    "y_pred_random_forest = best_random_forest.predict(X_test)\n",
    "accuracy_random_forest = accuracy_score(y_test, y_pred_random_forest)\n",
    "precision_rf = precision_score(y_test, y_pred_random_forest)\n",
    "recall_rf = recall_score(y_test, y_pred_random_forest)\n",
    "f1_score_rf = f1_score(y_test, y_pred_random_forest)\n",
    "\n",
    "print(\"Random Forest Best Parameters:\", grid_search_random_forest.best_params_)\n",
    "print(\"Random Forest Accuracy:\", accuracy_random_forest)\n",
    "print(\"Random Forest Precision:\", precision_rf)\n",
    "print(\"Random Forest recall:\", recall_rf)\n",
    "print(\"Random Forest f1_score:\", f1_score_rf)\n",
    "print(\"Classification Report:\\n\", classification_report(y_test, y_pred_random_forest))"
   ]
  },
  {
   "cell_type": "markdown",
   "id": "1c6d909c",
   "metadata": {},
   "source": [
    "# Decision Tree"
   ]
  },
  {
   "cell_type": "code",
   "execution_count": 60,
   "id": "acea1db5",
   "metadata": {},
   "outputs": [
    {
     "name": "stdout",
     "output_type": "stream",
     "text": [
      "Best Hyperparameters: {'criterion': 'entropy', 'max_depth': None, 'min_samples_leaf': 4, 'min_samples_split': 10}\n",
      "Test Accuracy: 0.49333333333333335\n",
      "Classification Report:\n",
      "               precision    recall  f1-score   support\n",
      "\n",
      "           0       0.50      0.55      0.53       306\n",
      "           1       0.48      0.43      0.46       294\n",
      "\n",
      "    accuracy                           0.49       600\n",
      "   macro avg       0.49      0.49      0.49       600\n",
      "weighted avg       0.49      0.49      0.49       600\n",
      "\n"
     ]
    }
   ],
   "source": [
    "from sklearn.tree import DecisionTreeClassifier\n",
    "from sklearn.metrics import accuracy_score, classification_report\n",
    " \n",
    "# Assuming you have the features and target variables as X and y\n",
    "# Assuming 'new_df' is your DataFrame\n",
    "X = new_df.drop('Response', axis=1)  # Features (all columns except Response)\n",
    "y = new_df['Response']  # Target variable (Response)\n",
    "# Splitting the data (80% for training, 20% for testing)\n",
    "X_train, X_test, y_train, y_test = train_test_split(X, y, test_size=0.2, random_state=42)\n",
    " \n",
    "# Define the model\n",
    "dt_model = DecisionTreeClassifier(random_state=42)\n",
    " \n",
    "# Define hyperparameter grid for tuning\n",
    "param_grid = {\n",
    "    'criterion': ['gini', 'entropy'],           # Measure of split quality\n",
    "    'max_depth': [None, 5, 10, 20],    # Depth of the tree\n",
    "    'min_samples_split': [2, 5, 10],        # Min samples required to split an internal node\n",
    "    'min_samples_leaf': [1, 2, 4]           # Min samples required to be a leaf node\n",
    "}\n",
    " \n",
    "# Set up GridSearchCV with cross-validation\n",
    "grid_search = GridSearchCV(estimator=dt_model, param_grid=param_grid, cv=5, scoring='accuracy', n_jobs=-1)\n",
    " \n",
    "# Fit the model to the training data\n",
    "grid_search.fit(X_train, y_train)\n",
    " \n",
    "# Get the best model from grid search\n",
    "best_dt_model = grid_search.best_estimator_\n",
    " \n",
    "# Evaluate the model on the test data\n",
    "y_pred = best_dt_model.predict(X_test)\n",
    " \n",
    "# Print out the results of the evaluation\n",
    "print(\"Best Hyperparameters:\", grid_search.best_params_)\n",
    "print(\"Test Accuracy:\", accuracy_score(y_test, y_pred))\n",
    "print(\"Classification Report:\\n\", classification_report(y_test, y_pred))"
   ]
  }
 ],
 "metadata": {
  "kernelspec": {
   "display_name": "base",
   "language": "python",
   "name": "python3"
  },
  "language_info": {
   "codemirror_mode": {
    "name": "ipython",
    "version": 3
   },
   "file_extension": ".py",
   "mimetype": "text/x-python",
   "name": "python",
   "nbconvert_exporter": "python",
   "pygments_lexer": "ipython3",
   "version": "3.9.7"
  }
 },
 "nbformat": 4,
 "nbformat_minor": 5
}
