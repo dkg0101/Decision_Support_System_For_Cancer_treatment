{
 "cells": [
  {
   "cell_type": "code",
   "execution_count": 4,
   "id": "264418a8",
   "metadata": {},
   "outputs": [],
   "source": [
    "import pandas as pd\n",
    "import numpy as np"
   ]
  },
  {
   "cell_type": "code",
   "execution_count": 89,
   "id": "3ee07dbf",
   "metadata": {},
   "outputs": [
    {
     "data": {
      "text/html": [
       "<div>\n",
       "<style scoped>\n",
       "    .dataframe tbody tr th:only-of-type {\n",
       "        vertical-align: middle;\n",
       "    }\n",
       "\n",
       "    .dataframe tbody tr th {\n",
       "        vertical-align: top;\n",
       "    }\n",
       "\n",
       "    .dataframe thead th {\n",
       "        text-align: right;\n",
       "    }\n",
       "</style>\n",
       "<table border=\"1\" class=\"dataframe\">\n",
       "  <thead>\n",
       "    <tr style=\"text-align: right;\">\n",
       "      <th></th>\n",
       "      <th>Patient_ID</th>\n",
       "      <th>Age</th>\n",
       "      <th>Gender</th>\n",
       "      <th>Cancer_Stage</th>\n",
       "      <th>PD-L1_Level</th>\n",
       "      <th>EGFR_Mutation_Count</th>\n",
       "      <th>Tumor_Size</th>\n",
       "      <th>Treatment_Type</th>\n",
       "      <th>Smoking_Status</th>\n",
       "      <th>Response</th>\n",
       "    </tr>\n",
       "  </thead>\n",
       "  <tbody>\n",
       "    <tr>\n",
       "      <th>0</th>\n",
       "      <td>1</td>\n",
       "      <td>62</td>\n",
       "      <td>Male</td>\n",
       "      <td>Stage III</td>\n",
       "      <td>99</td>\n",
       "      <td>8</td>\n",
       "      <td>9.100000</td>\n",
       "      <td>Chemotherapy</td>\n",
       "      <td>Current</td>\n",
       "      <td>Non-Responder</td>\n",
       "    </tr>\n",
       "    <tr>\n",
       "      <th>1</th>\n",
       "      <td>2</td>\n",
       "      <td>71</td>\n",
       "      <td>Female</td>\n",
       "      <td>Stage II</td>\n",
       "      <td>92</td>\n",
       "      <td>11</td>\n",
       "      <td>7.800000</td>\n",
       "      <td>Chemotherapy</td>\n",
       "      <td>Never</td>\n",
       "      <td>Responder</td>\n",
       "    </tr>\n",
       "    <tr>\n",
       "      <th>2</th>\n",
       "      <td>3</td>\n",
       "      <td>56</td>\n",
       "      <td>NaN</td>\n",
       "      <td>Stage IV</td>\n",
       "      <td>22</td>\n",
       "      <td>8</td>\n",
       "      <td>8.500000</td>\n",
       "      <td>Immunotherapy</td>\n",
       "      <td>Former</td>\n",
       "      <td>Responder</td>\n",
       "    </tr>\n",
       "    <tr>\n",
       "      <th>3</th>\n",
       "      <td>4</td>\n",
       "      <td>79</td>\n",
       "      <td>Female</td>\n",
       "      <td>Stage IV</td>\n",
       "      <td>31</td>\n",
       "      <td>3</td>\n",
       "      <td>8.000000</td>\n",
       "      <td>Chemotherapy</td>\n",
       "      <td>Former</td>\n",
       "      <td>Non-Responder</td>\n",
       "    </tr>\n",
       "    <tr>\n",
       "      <th>4</th>\n",
       "      <td>5</td>\n",
       "      <td>59</td>\n",
       "      <td>Male</td>\n",
       "      <td>Stage II</td>\n",
       "      <td>10</td>\n",
       "      <td>14</td>\n",
       "      <td>9.800000</td>\n",
       "      <td>Chemotherapy</td>\n",
       "      <td>NaN</td>\n",
       "      <td>Non-Responder</td>\n",
       "    </tr>\n",
       "    <tr>\n",
       "      <th>5</th>\n",
       "      <td>6</td>\n",
       "      <td>69</td>\n",
       "      <td>Female</td>\n",
       "      <td>Stage II</td>\n",
       "      <td>65</td>\n",
       "      <td>4</td>\n",
       "      <td>7.800000</td>\n",
       "      <td>Immunotherapy</td>\n",
       "      <td>Former</td>\n",
       "      <td>Non-Responder</td>\n",
       "    </tr>\n",
       "    <tr>\n",
       "      <th>6</th>\n",
       "      <td>7</td>\n",
       "      <td>67</td>\n",
       "      <td>Male</td>\n",
       "      <td>Stage IV</td>\n",
       "      <td>95</td>\n",
       "      <td>9</td>\n",
       "      <td>2.900000</td>\n",
       "      <td>Chemotherapy</td>\n",
       "      <td>Former</td>\n",
       "      <td>Responder</td>\n",
       "    </tr>\n",
       "    <tr>\n",
       "      <th>7</th>\n",
       "      <td>8</td>\n",
       "      <td>86</td>\n",
       "      <td>Female</td>\n",
       "      <td>Stage IV</td>\n",
       "      <td>4</td>\n",
       "      <td>6</td>\n",
       "      <td>8.100000</td>\n",
       "      <td>Chemotherapy</td>\n",
       "      <td>Current</td>\n",
       "      <td>Responder</td>\n",
       "    </tr>\n",
       "    <tr>\n",
       "      <th>8</th>\n",
       "      <td>9</td>\n",
       "      <td>112</td>\n",
       "      <td>Male</td>\n",
       "      <td>Stage II</td>\n",
       "      <td>94</td>\n",
       "      <td>5</td>\n",
       "      <td>8.658840</td>\n",
       "      <td>Immunotherapy</td>\n",
       "      <td>Former</td>\n",
       "      <td>Non-Responder</td>\n",
       "    </tr>\n",
       "    <tr>\n",
       "      <th>9</th>\n",
       "      <td>10</td>\n",
       "      <td>90</td>\n",
       "      <td>Male</td>\n",
       "      <td>Stage IV</td>\n",
       "      <td>12</td>\n",
       "      <td>14</td>\n",
       "      <td>22.202153</td>\n",
       "      <td>Chemotherapy</td>\n",
       "      <td>NaN</td>\n",
       "      <td>Responder</td>\n",
       "    </tr>\n",
       "  </tbody>\n",
       "</table>\n",
       "</div>"
      ],
      "text/plain": [
       "   Patient_ID  Age  Gender Cancer_Stage  PD-L1_Level  EGFR_Mutation_Count  \\\n",
       "0           1   62    Male    Stage III           99                    8   \n",
       "1           2   71  Female     Stage II           92                   11   \n",
       "2           3   56     NaN     Stage IV           22                    8   \n",
       "3           4   79  Female     Stage IV           31                    3   \n",
       "4           5   59    Male     Stage II           10                   14   \n",
       "5           6   69  Female     Stage II           65                    4   \n",
       "6           7   67    Male     Stage IV           95                    9   \n",
       "7           8   86  Female     Stage IV            4                    6   \n",
       "8           9  112    Male     Stage II           94                    5   \n",
       "9          10   90    Male     Stage IV           12                   14   \n",
       "\n",
       "   Tumor_Size Treatment_Type Smoking_Status       Response  \n",
       "0    9.100000   Chemotherapy        Current  Non-Responder  \n",
       "1    7.800000   Chemotherapy          Never      Responder  \n",
       "2    8.500000  Immunotherapy         Former      Responder  \n",
       "3    8.000000   Chemotherapy         Former  Non-Responder  \n",
       "4    9.800000   Chemotherapy            NaN  Non-Responder  \n",
       "5    7.800000  Immunotherapy         Former  Non-Responder  \n",
       "6    2.900000   Chemotherapy         Former      Responder  \n",
       "7    8.100000   Chemotherapy        Current      Responder  \n",
       "8    8.658840  Immunotherapy         Former  Non-Responder  \n",
       "9   22.202153   Chemotherapy            NaN      Responder  "
      ]
     },
     "execution_count": 89,
     "metadata": {},
     "output_type": "execute_result"
    }
   ],
   "source": [
    "#Import dataset\n",
    "\n",
    "data= pd.read_csv(\"cancer_treatment_data.csv\")\n",
    "data.head(10)"
   ]
  },
  {
   "cell_type": "code",
   "execution_count": 88,
   "id": "f10afb96",
   "metadata": {},
   "outputs": [],
   "source": []
  },
  {
   "cell_type": "markdown",
   "id": "0002bb84",
   "metadata": {},
   "source": [
    "# Inspect data Structure"
   ]
  },
  {
   "cell_type": "code",
   "execution_count": 92,
   "id": "a1a1850f",
   "metadata": {},
   "outputs": [
    {
     "data": {
      "text/plain": [
       "(3000, 10)"
      ]
     },
     "execution_count": 92,
     "metadata": {},
     "output_type": "execute_result"
    }
   ],
   "source": [
    "#Check the shape of data\n",
    "data.shape"
   ]
  },
  {
   "cell_type": "markdown",
   "id": "9a149b19",
   "metadata": {},
   "source": [
    "The dataset consists of 3000 rows and 10 columns."
   ]
  },
  {
   "cell_type": "code",
   "execution_count": 93,
   "id": "e2135f50",
   "metadata": {},
   "outputs": [
    {
     "data": {
      "text/plain": [
       "Patient_ID               int64\n",
       "Age                      int64\n",
       "Gender                  object\n",
       "Cancer_Stage            object\n",
       "PD-L1_Level              int64\n",
       "EGFR_Mutation_Count      int64\n",
       "Tumor_Size             float64\n",
       "Treatment_Type          object\n",
       "Smoking_Status          object\n",
       "Response                object\n",
       "dtype: object"
      ]
     },
     "execution_count": 93,
     "metadata": {},
     "output_type": "execute_result"
    }
   ],
   "source": [
    "#Column names and data types\n",
    "data.dtypes"
   ]
  },
  {
   "cell_type": "code",
   "execution_count": 94,
   "id": "c1edee30",
   "metadata": {},
   "outputs": [],
   "source": [
    "# Convert the text columns to the string data type\n",
    "data['Gender'] = data['Gender'].astype(\"string\")\n",
    "data['Cancer_Stage']= data['Cancer_Stage'].astype(\"string\")\n",
    "data['Treatment_Type']=data['Treatment_Type'].astype(\"string\")\n",
    "data['Smoking_Status']=data['Smoking_Status'].astype(\"string\")\n",
    "data['Response']=data['Response'].astype(\"string\")"
   ]
  },
  {
   "cell_type": "code",
   "execution_count": 95,
   "id": "2e2cb38b",
   "metadata": {},
   "outputs": [
    {
     "data": {
      "text/plain": [
       "Patient_ID               int64\n",
       "Age                      int64\n",
       "Gender                  string\n",
       "Cancer_Stage            string\n",
       "PD-L1_Level              int64\n",
       "EGFR_Mutation_Count      int64\n",
       "Tumor_Size             float64\n",
       "Treatment_Type          string\n",
       "Smoking_Status          string\n",
       "Response                string\n",
       "dtype: object"
      ]
     },
     "execution_count": 95,
     "metadata": {},
     "output_type": "execute_result"
    }
   ],
   "source": [
    "data.dtypes"
   ]
  },
  {
   "cell_type": "code",
   "execution_count": 96,
   "id": "ff097929",
   "metadata": {},
   "outputs": [],
   "source": [
    "#Round decimals in Tumor_Size to 1 decimal\n",
    "data['Tumor_Size']=data['Tumor_Size'].round(1)"
   ]
  },
  {
   "cell_type": "code",
   "execution_count": 97,
   "id": "90ab7845",
   "metadata": {},
   "outputs": [
    {
     "data": {
      "text/html": [
       "<div>\n",
       "<style scoped>\n",
       "    .dataframe tbody tr th:only-of-type {\n",
       "        vertical-align: middle;\n",
       "    }\n",
       "\n",
       "    .dataframe tbody tr th {\n",
       "        vertical-align: top;\n",
       "    }\n",
       "\n",
       "    .dataframe thead th {\n",
       "        text-align: right;\n",
       "    }\n",
       "</style>\n",
       "<table border=\"1\" class=\"dataframe\">\n",
       "  <thead>\n",
       "    <tr style=\"text-align: right;\">\n",
       "      <th></th>\n",
       "      <th>Patient_ID</th>\n",
       "      <th>Age</th>\n",
       "      <th>Gender</th>\n",
       "      <th>Cancer_Stage</th>\n",
       "      <th>PD-L1_Level</th>\n",
       "      <th>EGFR_Mutation_Count</th>\n",
       "      <th>Tumor_Size</th>\n",
       "      <th>Treatment_Type</th>\n",
       "      <th>Smoking_Status</th>\n",
       "      <th>Response</th>\n",
       "    </tr>\n",
       "  </thead>\n",
       "  <tbody>\n",
       "    <tr>\n",
       "      <th>0</th>\n",
       "      <td>1</td>\n",
       "      <td>62</td>\n",
       "      <td>Male</td>\n",
       "      <td>Stage III</td>\n",
       "      <td>99</td>\n",
       "      <td>8</td>\n",
       "      <td>9.1</td>\n",
       "      <td>Chemotherapy</td>\n",
       "      <td>Current</td>\n",
       "      <td>Non-Responder</td>\n",
       "    </tr>\n",
       "    <tr>\n",
       "      <th>1</th>\n",
       "      <td>2</td>\n",
       "      <td>71</td>\n",
       "      <td>Female</td>\n",
       "      <td>Stage II</td>\n",
       "      <td>92</td>\n",
       "      <td>11</td>\n",
       "      <td>7.8</td>\n",
       "      <td>Chemotherapy</td>\n",
       "      <td>Never</td>\n",
       "      <td>Responder</td>\n",
       "    </tr>\n",
       "    <tr>\n",
       "      <th>2</th>\n",
       "      <td>3</td>\n",
       "      <td>56</td>\n",
       "      <td>&lt;NA&gt;</td>\n",
       "      <td>Stage IV</td>\n",
       "      <td>22</td>\n",
       "      <td>8</td>\n",
       "      <td>8.5</td>\n",
       "      <td>Immunotherapy</td>\n",
       "      <td>Former</td>\n",
       "      <td>Responder</td>\n",
       "    </tr>\n",
       "    <tr>\n",
       "      <th>3</th>\n",
       "      <td>4</td>\n",
       "      <td>79</td>\n",
       "      <td>Female</td>\n",
       "      <td>Stage IV</td>\n",
       "      <td>31</td>\n",
       "      <td>3</td>\n",
       "      <td>8.0</td>\n",
       "      <td>Chemotherapy</td>\n",
       "      <td>Former</td>\n",
       "      <td>Non-Responder</td>\n",
       "    </tr>\n",
       "    <tr>\n",
       "      <th>4</th>\n",
       "      <td>5</td>\n",
       "      <td>59</td>\n",
       "      <td>Male</td>\n",
       "      <td>Stage II</td>\n",
       "      <td>10</td>\n",
       "      <td>14</td>\n",
       "      <td>9.8</td>\n",
       "      <td>Chemotherapy</td>\n",
       "      <td>&lt;NA&gt;</td>\n",
       "      <td>Non-Responder</td>\n",
       "    </tr>\n",
       "  </tbody>\n",
       "</table>\n",
       "</div>"
      ],
      "text/plain": [
       "   Patient_ID  Age  Gender Cancer_Stage  PD-L1_Level  EGFR_Mutation_Count  \\\n",
       "0           1   62    Male    Stage III           99                    8   \n",
       "1           2   71  Female     Stage II           92                   11   \n",
       "2           3   56    <NA>     Stage IV           22                    8   \n",
       "3           4   79  Female     Stage IV           31                    3   \n",
       "4           5   59    Male     Stage II           10                   14   \n",
       "\n",
       "   Tumor_Size Treatment_Type Smoking_Status       Response  \n",
       "0         9.1   Chemotherapy        Current  Non-Responder  \n",
       "1         7.8   Chemotherapy          Never      Responder  \n",
       "2         8.5  Immunotherapy         Former      Responder  \n",
       "3         8.0   Chemotherapy         Former  Non-Responder  \n",
       "4         9.8   Chemotherapy           <NA>  Non-Responder  "
      ]
     },
     "execution_count": 97,
     "metadata": {},
     "output_type": "execute_result"
    }
   ],
   "source": [
    "data.head(5)"
   ]
  },
  {
   "cell_type": "code",
   "execution_count": 98,
   "id": "7ea05dda",
   "metadata": {},
   "outputs": [
    {
     "name": "stdout",
     "output_type": "stream",
     "text": [
      "<class 'pandas.core.frame.DataFrame'>\n",
      "RangeIndex: 3000 entries, 0 to 2999\n",
      "Data columns (total 10 columns):\n",
      " #   Column               Non-Null Count  Dtype  \n",
      "---  ------               --------------  -----  \n",
      " 0   Patient_ID           3000 non-null   int64  \n",
      " 1   Age                  3000 non-null   int64  \n",
      " 2   Gender               2700 non-null   string \n",
      " 3   Cancer_Stage         3000 non-null   string \n",
      " 4   PD-L1_Level          3000 non-null   int64  \n",
      " 5   EGFR_Mutation_Count  3000 non-null   int64  \n",
      " 6   Tumor_Size           3000 non-null   float64\n",
      " 7   Treatment_Type       3000 non-null   string \n",
      " 8   Smoking_Status       2700 non-null   string \n",
      " 9   Response             3000 non-null   string \n",
      "dtypes: float64(1), int64(4), string(5)\n",
      "memory usage: 234.5 KB\n"
     ]
    }
   ],
   "source": [
    "#To get summary of the data\n",
    "data.info()"
   ]
  },
  {
   "cell_type": "markdown",
   "id": "e3af3d3f",
   "metadata": {},
   "source": [
    "# Check For Missing Values"
   ]
  },
  {
   "cell_type": "code",
   "execution_count": 99,
   "id": "94b34636",
   "metadata": {},
   "outputs": [
    {
     "data": {
      "text/plain": [
       "Patient_ID               0\n",
       "Age                      0\n",
       "Gender                 300\n",
       "Cancer_Stage             0\n",
       "PD-L1_Level              0\n",
       "EGFR_Mutation_Count      0\n",
       "Tumor_Size               0\n",
       "Treatment_Type           0\n",
       "Smoking_Status         300\n",
       "Response                 0\n",
       "dtype: int64"
      ]
     },
     "execution_count": 99,
     "metadata": {},
     "output_type": "execute_result"
    }
   ],
   "source": [
    "#To count missing values in each column\n",
    "data.isnull().sum()"
   ]
  },
  {
   "cell_type": "code",
   "execution_count": 100,
   "id": "ae214bd0",
   "metadata": {},
   "outputs": [
    {
     "data": {
      "text/plain": [
       "Patient_ID              0.0\n",
       "Age                     0.0\n",
       "Gender                 10.0\n",
       "Cancer_Stage            0.0\n",
       "PD-L1_Level             0.0\n",
       "EGFR_Mutation_Count     0.0\n",
       "Tumor_Size              0.0\n",
       "Treatment_Type          0.0\n",
       "Smoking_Status         10.0\n",
       "Response                0.0\n",
       "dtype: float64"
      ]
     },
     "execution_count": 100,
     "metadata": {},
     "output_type": "execute_result"
    }
   ],
   "source": [
    "# Calculate the percentage of missing values for each column\n",
    "missing_percentage = (data.isnull().mean() * 100).round(2)\n",
    "missing_percentage"
   ]
  },
  {
   "cell_type": "markdown",
   "id": "e1a8be0b",
   "metadata": {},
   "source": [
    "Here the columns Gender and Smoking_Status have 10% missing values and are important features, we can handle the missing values by filling them with appropriate values."
   ]
  },
  {
   "cell_type": "code",
   "execution_count": 101,
   "id": "cc45c248",
   "metadata": {},
   "outputs": [
    {
     "data": {
      "text/plain": [
       "<StringArray>\n",
       "['Male', 'Female', <NA>]\n",
       "Length: 3, dtype: string"
      ]
     },
     "execution_count": 101,
     "metadata": {},
     "output_type": "execute_result"
    }
   ],
   "source": [
    "data.Gender.unique()"
   ]
  },
  {
   "cell_type": "code",
   "execution_count": 102,
   "id": "615a2e85",
   "metadata": {},
   "outputs": [
    {
     "data": {
      "text/plain": [
       "Female    1380\n",
       "Male      1320\n",
       "Name: Gender, dtype: Int64"
      ]
     },
     "execution_count": 102,
     "metadata": {},
     "output_type": "execute_result"
    }
   ],
   "source": [
    "data.Gender.value_counts()"
   ]
  },
  {
   "cell_type": "code",
   "execution_count": 107,
   "id": "065df89a",
   "metadata": {},
   "outputs": [],
   "source": [
    "#Fill missing values in Gender by Unknown as there’s no identifiable pattern,\n",
    "data['Gender'] = data['Gender'].fillna(data['Gender'].mode()[0])\n"
   ]
  },
  {
   "cell_type": "code",
   "execution_count": 108,
   "id": "658dc77d",
   "metadata": {},
   "outputs": [
    {
     "data": {
      "text/html": [
       "<div>\n",
       "<style scoped>\n",
       "    .dataframe tbody tr th:only-of-type {\n",
       "        vertical-align: middle;\n",
       "    }\n",
       "\n",
       "    .dataframe tbody tr th {\n",
       "        vertical-align: top;\n",
       "    }\n",
       "\n",
       "    .dataframe thead th {\n",
       "        text-align: right;\n",
       "    }\n",
       "</style>\n",
       "<table border=\"1\" class=\"dataframe\">\n",
       "  <thead>\n",
       "    <tr style=\"text-align: right;\">\n",
       "      <th></th>\n",
       "      <th>Patient_ID</th>\n",
       "      <th>Age</th>\n",
       "      <th>Gender</th>\n",
       "      <th>Cancer_Stage</th>\n",
       "      <th>PD-L1_Level</th>\n",
       "      <th>EGFR_Mutation_Count</th>\n",
       "      <th>Tumor_Size</th>\n",
       "      <th>Treatment_Type</th>\n",
       "      <th>Smoking_Status</th>\n",
       "      <th>Response</th>\n",
       "    </tr>\n",
       "  </thead>\n",
       "  <tbody>\n",
       "    <tr>\n",
       "      <th>0</th>\n",
       "      <td>1</td>\n",
       "      <td>62</td>\n",
       "      <td>Male</td>\n",
       "      <td>Stage III</td>\n",
       "      <td>99</td>\n",
       "      <td>8</td>\n",
       "      <td>9.1</td>\n",
       "      <td>Chemotherapy</td>\n",
       "      <td>Current</td>\n",
       "      <td>Non-Responder</td>\n",
       "    </tr>\n",
       "    <tr>\n",
       "      <th>1</th>\n",
       "      <td>2</td>\n",
       "      <td>71</td>\n",
       "      <td>Female</td>\n",
       "      <td>Stage II</td>\n",
       "      <td>92</td>\n",
       "      <td>11</td>\n",
       "      <td>7.8</td>\n",
       "      <td>Chemotherapy</td>\n",
       "      <td>Never</td>\n",
       "      <td>Responder</td>\n",
       "    </tr>\n",
       "    <tr>\n",
       "      <th>2</th>\n",
       "      <td>3</td>\n",
       "      <td>56</td>\n",
       "      <td>Female</td>\n",
       "      <td>Stage IV</td>\n",
       "      <td>22</td>\n",
       "      <td>8</td>\n",
       "      <td>8.5</td>\n",
       "      <td>Immunotherapy</td>\n",
       "      <td>Former</td>\n",
       "      <td>Responder</td>\n",
       "    </tr>\n",
       "    <tr>\n",
       "      <th>3</th>\n",
       "      <td>4</td>\n",
       "      <td>79</td>\n",
       "      <td>Female</td>\n",
       "      <td>Stage IV</td>\n",
       "      <td>31</td>\n",
       "      <td>3</td>\n",
       "      <td>8.0</td>\n",
       "      <td>Chemotherapy</td>\n",
       "      <td>Former</td>\n",
       "      <td>Non-Responder</td>\n",
       "    </tr>\n",
       "    <tr>\n",
       "      <th>4</th>\n",
       "      <td>5</td>\n",
       "      <td>59</td>\n",
       "      <td>Male</td>\n",
       "      <td>Stage II</td>\n",
       "      <td>10</td>\n",
       "      <td>14</td>\n",
       "      <td>9.8</td>\n",
       "      <td>Chemotherapy</td>\n",
       "      <td>&lt;NA&gt;</td>\n",
       "      <td>Non-Responder</td>\n",
       "    </tr>\n",
       "  </tbody>\n",
       "</table>\n",
       "</div>"
      ],
      "text/plain": [
       "   Patient_ID  Age  Gender Cancer_Stage  PD-L1_Level  EGFR_Mutation_Count  \\\n",
       "0           1   62    Male    Stage III           99                    8   \n",
       "1           2   71  Female     Stage II           92                   11   \n",
       "2           3   56  Female     Stage IV           22                    8   \n",
       "3           4   79  Female     Stage IV           31                    3   \n",
       "4           5   59    Male     Stage II           10                   14   \n",
       "\n",
       "   Tumor_Size Treatment_Type Smoking_Status       Response  \n",
       "0         9.1   Chemotherapy        Current  Non-Responder  \n",
       "1         7.8   Chemotherapy          Never      Responder  \n",
       "2         8.5  Immunotherapy         Former      Responder  \n",
       "3         8.0   Chemotherapy         Former  Non-Responder  \n",
       "4         9.8   Chemotherapy           <NA>  Non-Responder  "
      ]
     },
     "execution_count": 108,
     "metadata": {},
     "output_type": "execute_result"
    }
   ],
   "source": [
    "data.head()"
   ]
  },
  {
   "cell_type": "code",
   "execution_count": 109,
   "id": "f474c6ee",
   "metadata": {},
   "outputs": [
    {
     "data": {
      "text/plain": [
       "Patient_ID               0\n",
       "Age                      0\n",
       "Gender                   0\n",
       "Cancer_Stage             0\n",
       "PD-L1_Level              0\n",
       "EGFR_Mutation_Count      0\n",
       "Tumor_Size               0\n",
       "Treatment_Type           0\n",
       "Smoking_Status         300\n",
       "Response                 0\n",
       "dtype: int64"
      ]
     },
     "execution_count": 109,
     "metadata": {},
     "output_type": "execute_result"
    }
   ],
   "source": [
    "data.isna().sum()"
   ]
  },
  {
   "cell_type": "code",
   "execution_count": 17,
   "id": "0505a90a",
   "metadata": {},
   "outputs": [],
   "source": [
    "#Fill missing values in Smoking_Status by \"Not Specified\" as the data was not provided\n",
    "\n",
    "data['Smoking_Status']= data['Smoking_Status'].fillna('Not Specified')"
   ]
  },
  {
   "cell_type": "code",
   "execution_count": 18,
   "id": "14fbc24f",
   "metadata": {},
   "outputs": [
    {
     "data": {
      "text/plain": [
       "Patient_ID               0\n",
       "Age                      0\n",
       "Gender                 300\n",
       "Cancer_Stage             0\n",
       "PD-L1_Level              0\n",
       "EGFR_Mutation_Count      0\n",
       "Tumor_Size               0\n",
       "Treatment_Type           0\n",
       "Smoking_Status           0\n",
       "Response                 0\n",
       "dtype: int64"
      ]
     },
     "execution_count": 18,
     "metadata": {},
     "output_type": "execute_result"
    }
   ],
   "source": [
    "#To check the count of missing values after filling it\n",
    "\n",
    "data.isnull().sum()"
   ]
  },
  {
   "cell_type": "markdown",
   "id": "645cf1c5",
   "metadata": {},
   "source": [
    "Now there are no any missing values present in the dataset. "
   ]
  },
  {
   "cell_type": "code",
   "execution_count": 19,
   "id": "8154d1ab",
   "metadata": {},
   "outputs": [
    {
     "data": {
      "text/plain": [
       "0"
      ]
     },
     "execution_count": 19,
     "metadata": {},
     "output_type": "execute_result"
    }
   ],
   "source": [
    "#To check duplicate values\n",
    "\n",
    "duplicates= data.duplicated().sum()\n",
    "duplicates"
   ]
  },
  {
   "cell_type": "markdown",
   "id": "348c40d5",
   "metadata": {},
   "source": [
    "There are no any duplicate values in the dataset."
   ]
  },
  {
   "cell_type": "markdown",
   "id": "2e36b8c9",
   "metadata": {},
   "source": [
    "# Summarize the data"
   ]
  },
  {
   "cell_type": "code",
   "execution_count": 20,
   "id": "a46ccff5",
   "metadata": {},
   "outputs": [
    {
     "data": {
      "text/html": [
       "<div>\n",
       "<style scoped>\n",
       "    .dataframe tbody tr th:only-of-type {\n",
       "        vertical-align: middle;\n",
       "    }\n",
       "\n",
       "    .dataframe tbody tr th {\n",
       "        vertical-align: top;\n",
       "    }\n",
       "\n",
       "    .dataframe thead th {\n",
       "        text-align: right;\n",
       "    }\n",
       "</style>\n",
       "<table border=\"1\" class=\"dataframe\">\n",
       "  <thead>\n",
       "    <tr style=\"text-align: right;\">\n",
       "      <th></th>\n",
       "      <th>Patient_ID</th>\n",
       "      <th>Age</th>\n",
       "      <th>PD-L1_Level</th>\n",
       "      <th>EGFR_Mutation_Count</th>\n",
       "      <th>Tumor_Size</th>\n",
       "    </tr>\n",
       "  </thead>\n",
       "  <tbody>\n",
       "    <tr>\n",
       "      <th>count</th>\n",
       "      <td>3000.000000</td>\n",
       "      <td>3000.000000</td>\n",
       "      <td>3000.000000</td>\n",
       "      <td>3000.000000</td>\n",
       "      <td>3000.000000</td>\n",
       "    </tr>\n",
       "    <tr>\n",
       "      <th>mean</th>\n",
       "      <td>1500.500000</td>\n",
       "      <td>65.819000</td>\n",
       "      <td>49.366333</td>\n",
       "      <td>6.860333</td>\n",
       "      <td>5.805000</td>\n",
       "    </tr>\n",
       "    <tr>\n",
       "      <th>std</th>\n",
       "      <td>866.169729</td>\n",
       "      <td>15.704472</td>\n",
       "      <td>29.326862</td>\n",
       "      <td>4.234714</td>\n",
       "      <td>3.270907</td>\n",
       "    </tr>\n",
       "    <tr>\n",
       "      <th>min</th>\n",
       "      <td>1.000000</td>\n",
       "      <td>40.000000</td>\n",
       "      <td>0.000000</td>\n",
       "      <td>0.000000</td>\n",
       "      <td>1.000000</td>\n",
       "    </tr>\n",
       "    <tr>\n",
       "      <th>25%</th>\n",
       "      <td>750.750000</td>\n",
       "      <td>52.000000</td>\n",
       "      <td>23.000000</td>\n",
       "      <td>3.000000</td>\n",
       "      <td>3.300000</td>\n",
       "    </tr>\n",
       "    <tr>\n",
       "      <th>50%</th>\n",
       "      <td>1500.500000</td>\n",
       "      <td>66.000000</td>\n",
       "      <td>49.000000</td>\n",
       "      <td>7.000000</td>\n",
       "      <td>5.600000</td>\n",
       "    </tr>\n",
       "    <tr>\n",
       "      <th>75%</th>\n",
       "      <td>2250.250000</td>\n",
       "      <td>79.000000</td>\n",
       "      <td>76.000000</td>\n",
       "      <td>10.000000</td>\n",
       "      <td>7.900000</td>\n",
       "    </tr>\n",
       "    <tr>\n",
       "      <th>max</th>\n",
       "      <td>3000.000000</td>\n",
       "      <td>117.000000</td>\n",
       "      <td>99.000000</td>\n",
       "      <td>14.000000</td>\n",
       "      <td>22.200000</td>\n",
       "    </tr>\n",
       "  </tbody>\n",
       "</table>\n",
       "</div>"
      ],
      "text/plain": [
       "        Patient_ID          Age  PD-L1_Level  EGFR_Mutation_Count   Tumor_Size\n",
       "count  3000.000000  3000.000000  3000.000000          3000.000000  3000.000000\n",
       "mean   1500.500000    65.819000    49.366333             6.860333     5.805000\n",
       "std     866.169729    15.704472    29.326862             4.234714     3.270907\n",
       "min       1.000000    40.000000     0.000000             0.000000     1.000000\n",
       "25%     750.750000    52.000000    23.000000             3.000000     3.300000\n",
       "50%    1500.500000    66.000000    49.000000             7.000000     5.600000\n",
       "75%    2250.250000    79.000000    76.000000            10.000000     7.900000\n",
       "max    3000.000000   117.000000    99.000000            14.000000    22.200000"
      ]
     },
     "execution_count": 20,
     "metadata": {},
     "output_type": "execute_result"
    }
   ],
   "source": [
    "#To summarize the numerical data\n",
    "\n",
    "data.describe()"
   ]
  },
  {
   "cell_type": "code",
   "execution_count": 21,
   "id": "e87cee9b",
   "metadata": {},
   "outputs": [
    {
     "data": {
      "text/html": [
       "<div>\n",
       "<style scoped>\n",
       "    .dataframe tbody tr th:only-of-type {\n",
       "        vertical-align: middle;\n",
       "    }\n",
       "\n",
       "    .dataframe tbody tr th {\n",
       "        vertical-align: top;\n",
       "    }\n",
       "\n",
       "    .dataframe thead th {\n",
       "        text-align: right;\n",
       "    }\n",
       "</style>\n",
       "<table border=\"1\" class=\"dataframe\">\n",
       "  <thead>\n",
       "    <tr style=\"text-align: right;\">\n",
       "      <th></th>\n",
       "      <th>Gender</th>\n",
       "      <th>Cancer_Stage</th>\n",
       "      <th>Treatment_Type</th>\n",
       "      <th>Smoking_Status</th>\n",
       "      <th>Response</th>\n",
       "    </tr>\n",
       "  </thead>\n",
       "  <tbody>\n",
       "    <tr>\n",
       "      <th>count</th>\n",
       "      <td>2700</td>\n",
       "      <td>3000</td>\n",
       "      <td>3000</td>\n",
       "      <td>3000</td>\n",
       "      <td>3000</td>\n",
       "    </tr>\n",
       "    <tr>\n",
       "      <th>unique</th>\n",
       "      <td>2</td>\n",
       "      <td>3</td>\n",
       "      <td>2</td>\n",
       "      <td>4</td>\n",
       "      <td>2</td>\n",
       "    </tr>\n",
       "    <tr>\n",
       "      <th>top</th>\n",
       "      <td>Female</td>\n",
       "      <td>Stage III</td>\n",
       "      <td>Chemotherapy</td>\n",
       "      <td>Current</td>\n",
       "      <td>Non-Responder</td>\n",
       "    </tr>\n",
       "    <tr>\n",
       "      <th>freq</th>\n",
       "      <td>1380</td>\n",
       "      <td>1023</td>\n",
       "      <td>1517</td>\n",
       "      <td>919</td>\n",
       "      <td>1521</td>\n",
       "    </tr>\n",
       "  </tbody>\n",
       "</table>\n",
       "</div>"
      ],
      "text/plain": [
       "        Gender Cancer_Stage Treatment_Type Smoking_Status       Response\n",
       "count     2700         3000           3000           3000           3000\n",
       "unique       2            3              2              4              2\n",
       "top     Female    Stage III   Chemotherapy        Current  Non-Responder\n",
       "freq      1380         1023           1517            919           1521"
      ]
     },
     "execution_count": 21,
     "metadata": {},
     "output_type": "execute_result"
    }
   ],
   "source": [
    "data.describe(include='string')"
   ]
  },
  {
   "cell_type": "markdown",
   "id": "4ae728a5",
   "metadata": {},
   "source": [
    "# Detection of Outliers"
   ]
  },
  {
   "cell_type": "code",
   "execution_count": 22,
   "id": "0ef23192",
   "metadata": {},
   "outputs": [
    {
     "data": {
      "image/png": "[encoded data removed]",
      "text/plain": [
       "<Figure size 432x288 with 1 Axes>"
      ]
     },
     "metadata": {
      "needs_background": "light"
     },
     "output_type": "display_data"
    }
   ],
   "source": [
    "#To check normality of data\n",
    "\n",
    "import matplotlib.pyplot as plt\n",
    "\n",
    "plt.hist(data['Age'], bins=10, edgecolor='black')\n",
    "plt.title('Histogram of Age')\n",
    "plt.xlabel('Values')\n",
    "plt.ylabel('Frequency')\n",
    "plt.show()"
   ]
  },
  {
   "cell_type": "markdown",
   "id": "4f350126",
   "metadata": {},
   "source": [
    "Since age is not normally distributed, using methods like the Z-score may not be appropriate. Instead, the Interquartile Range (IQR) method is a robust approach for detecting outliers, especially with skewed data."
   ]
  },
  {
   "cell_type": "code",
   "execution_count": 23,
   "id": "3d94f067",
   "metadata": {},
   "outputs": [
    {
     "name": "stdout",
     "output_type": "stream",
     "text": [
      "52.0 79.0 27.0\n"
     ]
    }
   ],
   "source": [
    "#To calculate quartiles and IQR\n",
    "\n",
    "Q1 = data['Age'].quantile(0.25)\n",
    "Q3 = data['Age'].quantile(0.75)\n",
    "IQR = Q3 - Q1\n",
    "\n",
    "print(Q1,Q3,IQR)"
   ]
  },
  {
   "cell_type": "code",
   "execution_count": 24,
   "id": "27e95c05",
   "metadata": {},
   "outputs": [
    {
     "name": "stdout",
     "output_type": "stream",
     "text": [
      "11.5 119.5\n"
     ]
    }
   ],
   "source": [
    "# Step 2: Define outlier boundaries\n",
    "lower_bound = Q1 - 1.5 * IQR\n",
    "upper_bound = Q3 + 1.5 * IQR\n",
    "\n",
    "print(lower_bound, upper_bound)"
   ]
  },
  {
   "cell_type": "code",
   "execution_count": 25,
   "id": "8593d5f7",
   "metadata": {},
   "outputs": [
    {
     "name": "stdout",
     "output_type": "stream",
     "text": [
      "No outliers detected in Age.\n"
     ]
    }
   ],
   "source": [
    "#Identify outliers\n",
    "outliers = data[(data['Age'] < lower_bound) | (data['Age'] > upper_bound)]\n",
    "\n",
    "# Display outliers\n",
    "if not outliers.empty:\n",
    "    print(\"Outliers in Age:\")\n",
    "    print(outliers)\n",
    "else:\n",
    "    print(\"No outliers detected in Age.\")"
   ]
  },
  {
   "cell_type": "markdown",
   "id": "3a8792a0",
   "metadata": {},
   "source": [
    "Even though a box plot might not show obvious outliers based on statistical methods (like IQR), certain age values in the 117-year-old range may still be considered outliers from a clinical perspective because they fall outside of a typical age range for lung cancer patients.Capping the Age field to a maximum of 95 or 100 reflects a more realistic and medically appropriate range, based on what is commonly observed in this type of dataset."
   ]
  },
  {
   "cell_type": "code",
   "execution_count": 26,
   "id": "5801d965",
   "metadata": {},
   "outputs": [],
   "source": [
    "# Cap the age to a maximum value of 95 or 100\n",
    "data['Age'] = np.where(data['Age'] > 95, 95, data['Age'])"
   ]
  },
  {
   "cell_type": "code",
   "execution_count": 27,
   "id": "0715e32b",
   "metadata": {},
   "outputs": [
    {
     "data": {
      "image/png": "[encoded data removed]",
      "text/plain": [
       "<Figure size 432x288 with 1 Axes>"
      ]
     },
     "metadata": {
      "needs_background": "light"
     },
     "output_type": "display_data"
    },
    {
     "data": {
      "image/png": "[encoded data removed]",
      "text/plain": [
       "<Figure size 432x288 with 1 Axes>"
      ]
     },
     "metadata": {
      "needs_background": "light"
     },
     "output_type": "display_data"
    }
   ],
   "source": [
    "import matplotlib.pyplot as plt\n",
    "import seaborn as sns\n",
    "\n",
    "# Plot age distribution after capping\n",
    "sns.boxplot(x=data['Age'])\n",
    "plt.title('Age Distribution After Capping')\n",
    "plt.show()\n",
    "\n",
    "sns.histplot(data['Age'], kde=True)\n",
    "plt.title('Age Distribution Histogram After Capping')\n",
    "plt.show()"
   ]
  },
  {
   "cell_type": "markdown",
   "id": "24fda24e",
   "metadata": {},
   "source": [
    "The age data was capped at 95 years, as values above this threshold were deemed unrealistic in the context of the dataset. "
   ]
  },
  {
   "cell_type": "code",
   "execution_count": 28,
   "id": "55e0d020",
   "metadata": {},
   "outputs": [
    {
     "data": {
      "image/png": "[encoded data removed]",
      "text/plain": [
       "<Figure size 432x288 with 1 Axes>"
      ]
     },
     "metadata": {
      "needs_background": "light"
     },
     "output_type": "display_data"
    }
   ],
   "source": [
    "#To check normality of data, PD-L1_Level\n",
    "\n",
    "import matplotlib.pyplot as plt\n",
    "\n",
    "plt.hist(data['PD-L1_Level'], bins=10, edgecolor='black')\n",
    "plt.title('Histogram of PD-L1_Level')\n",
    "plt.xlabel('Values')\n",
    "plt.ylabel('Frequency')\n",
    "plt.show()"
   ]
  },
  {
   "cell_type": "code",
   "execution_count": 29,
   "id": "151c9c38",
   "metadata": {},
   "outputs": [
    {
     "data": {
      "image/png": "[encoded data removed]",
      "text/plain": [
       "<Figure size 432x288 with 1 Axes>"
      ]
     },
     "metadata": {
      "needs_background": "light"
     },
     "output_type": "display_data"
    }
   ],
   "source": [
    "import matplotlib.pyplot as plt\n",
    "\n",
    "plt.boxplot(data['PD-L1_Level'])\n",
    "plt.title('Box Plot of PD-L1_Level')\n",
    "plt.ylabel('PD-L1_Level')\n",
    "plt.show()\n"
   ]
  },
  {
   "cell_type": "markdown",
   "id": "84a30693",
   "metadata": {},
   "source": [
    "Here PD-L1_Level field has no any outliers."
   ]
  },
  {
   "cell_type": "code",
   "execution_count": 30,
   "id": "ecc73fbb",
   "metadata": {},
   "outputs": [
    {
     "data": {
      "image/png": "[encoded data removed]",
      "text/plain": [
       "<Figure size 432x288 with 1 Axes>"
      ]
     },
     "metadata": {
      "needs_background": "light"
     },
     "output_type": "display_data"
    }
   ],
   "source": [
    "#To check normality of data EGFR_Mutation_Count\n",
    "\n",
    "import matplotlib.pyplot as plt\n",
    "\n",
    "plt.hist(data['EGFR_Mutation_Count'], bins=10, edgecolor='black')\n",
    "plt.title('Histogram of EGFR_Mutation_Count')\n",
    "plt.xlabel('Values')\n",
    "plt.ylabel('Frequency')\n",
    "plt.show()"
   ]
  },
  {
   "cell_type": "code",
   "execution_count": 31,
   "id": "661a9c92",
   "metadata": {},
   "outputs": [
    {
     "data": {
      "image/png": "[encoded data removed]",
      "text/plain": [
       "<Figure size 432x288 with 1 Axes>"
      ]
     },
     "metadata": {
      "needs_background": "light"
     },
     "output_type": "display_data"
    }
   ],
   "source": [
    "import matplotlib.pyplot as plt\n",
    "\n",
    "plt.boxplot(data['EGFR_Mutation_Count'])\n",
    "plt.title('Box Plot of EGFR_Mutation_Count')\n",
    "plt.ylabel('EGFR_Mutation_Count')\n",
    "plt.show()"
   ]
  },
  {
   "cell_type": "markdown",
   "id": "241852b0",
   "metadata": {},
   "source": [
    "No any outliers detected in EGFR_Mutation_Count."
   ]
  },
  {
   "cell_type": "code",
   "execution_count": 32,
   "id": "085c63e0",
   "metadata": {},
   "outputs": [
    {
     "data": {
      "image/png": "[encoded data removed]",
      "text/plain": [
       "<Figure size 432x288 with 1 Axes>"
      ]
     },
     "metadata": {
      "needs_background": "light"
     },
     "output_type": "display_data"
    }
   ],
   "source": [
    "#To check normality of data Tumor_Size\n",
    "\n",
    "import matplotlib.pyplot as plt\n",
    "\n",
    "plt.hist(data['Tumor_Size'], bins=10, edgecolor='black')\n",
    "plt.title('Histogram of Tumor_Size')\n",
    "plt.xlabel('Values')\n",
    "plt.ylabel('Frequency')\n",
    "plt.show()"
   ]
  },
  {
   "cell_type": "code",
   "execution_count": 33,
   "id": "c9b18dd5",
   "metadata": {},
   "outputs": [
    {
     "ename": "SyntaxError",
     "evalue": "invalid syntax (3026165849.py, line 1)",
     "output_type": "error",
     "traceback": [
      "\u001b[1;36m  Input \u001b[1;32mIn [33]\u001b[1;36m\u001b[0m\n\u001b[1;33m    It is observed that the values are positively skewed.\u001b[0m\n\u001b[1;37m                   ^\u001b[0m\n\u001b[1;31mSyntaxError\u001b[0m\u001b[1;31m:\u001b[0m invalid syntax\n"
     ]
    }
   ],
   "source": [
    "It is observed that the values are positively skewed."
   ]
  },
  {
   "cell_type": "code",
   "execution_count": 47,
   "id": "e3132fef",
   "metadata": {},
   "outputs": [
    {
     "data": {
      "image/png": "[encoded data removed]",
      "text/plain": [
       "<Figure size 432x288 with 1 Axes>"
      ]
     },
     "metadata": {
      "needs_background": "light"
     },
     "output_type": "display_data"
    }
   ],
   "source": [
    "\n",
    "plt.boxplot(data['Tumor_Size'])\n",
    "plt.title('Box Plot of Tumor_Size')\n",
    "plt.ylabel('Tumor_Size')\n",
    "plt.show()"
   ]
  },
  {
   "cell_type": "markdown",
   "id": "4aa08e89",
   "metadata": {},
   "source": [
    "Here their are outliers detected and as from the histogram it is positively skewed data.For reference, in NSCLC, tumors greater than 10 cm are usually considered large and might correspond to later stages (III or IV) of cancer, or could be a rare case.Stage IV cancers (advanced) may involve tumors that are larger than 5 cm, and in some rare cases, the tumor can grow larger than 10 cm.So we cap the values above 10cm."
   ]
  },
  {
   "cell_type": "code",
   "execution_count": 52,
   "id": "06d4dc90",
   "metadata": {},
   "outputs": [],
   "source": [
    "#Capping the tumor size\n",
    "\n",
    "data['Tumor_Size'] = np.where(data['Tumor_Size'] > 10, 10, data['Tumor_Size'])\n"
   ]
  },
  {
   "cell_type": "code",
   "execution_count": 55,
   "id": "0facf96a",
   "metadata": {},
   "outputs": [
    {
     "data": {
      "image/png": "[encoded data removed]",
      "text/plain": [
       "<Figure size 432x288 with 1 Axes>"
      ]
     },
     "metadata": {
      "needs_background": "light"
     },
     "output_type": "display_data"
    }
   ],
   "source": [
    "\n",
    "# Plot age distribution after capping\n",
    "sns.boxplot(x=data['Tumor_Size'])\n",
    "plt.title('Tumor_Size Distribution After Capping')\n",
    "plt.show()\n"
   ]
  },
  {
   "cell_type": "code",
   "execution_count": null,
   "id": "5a6625df",
   "metadata": {},
   "outputs": [],
   "source": []
  }
 ],
 "metadata": {
  "kernelspec": {
   "display_name": "base",
   "language": "python",
   "name": "python3"
  },
  "language_info": {
   "codemirror_mode": {
    "name": "ipython",
    "version": 3
   },
   "file_extension": ".py",
   "mimetype": "text/x-python",
   "name": "python",
   "nbconvert_exporter": "python",
   "pygments_lexer": "ipython3",
   "version": "3.9.12"
  }
 },
 "nbformat": 4,
 "nbformat_minor": 5
}
