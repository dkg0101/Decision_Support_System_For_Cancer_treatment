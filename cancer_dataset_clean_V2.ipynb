{
 "cells": [
  {
   "cell_type": "code",
   "execution_count": 76,
   "id": "264418a8",
   "metadata": {},
   "outputs": [],
   "source": [
    "import pandas as pd\n",
    "import numpy as np"
   ]
  },
  {
   "cell_type": "code",
   "execution_count": 77,
   "id": "3ee07dbf",
   "metadata": {},
   "outputs": [
    {
     "data": {
      "text/html": [
       "<div>\n",
       "<style scoped>\n",
       "    .dataframe tbody tr th:only-of-type {\n",
       "        vertical-align: middle;\n",
       "    }\n",
       "\n",
       "    .dataframe tbody tr th {\n",
       "        vertical-align: top;\n",
       "    }\n",
       "\n",
       "    .dataframe thead th {\n",
       "        text-align: right;\n",
       "    }\n",
       "</style>\n",
       "<table border=\"1\" class=\"dataframe\">\n",
       "  <thead>\n",
       "    <tr style=\"text-align: right;\">\n",
       "      <th></th>\n",
       "      <th>Patient_ID</th>\n",
       "      <th>Age</th>\n",
       "      <th>Gender</th>\n",
       "      <th>Cancer_Stage</th>\n",
       "      <th>PD-L1_Level</th>\n",
       "      <th>EGFR_Mutation_Count</th>\n",
       "      <th>Tumor_Size</th>\n",
       "      <th>Treatment_Type</th>\n",
       "      <th>Smoking_Status</th>\n",
       "      <th>Response</th>\n",
       "      <th>KRAS_Mutation_Status</th>\n",
       "      <th>ALK_Rearrangement_Status</th>\n",
       "      <th>Tumor_Mutation_Burden</th>\n",
       "      <th>BMI</th>\n",
       "      <th>Comorbidities</th>\n",
       "      <th>CT_Scan_Analysis</th>\n",
       "    </tr>\n",
       "  </thead>\n",
       "  <tbody>\n",
       "    <tr>\n",
       "      <th>0</th>\n",
       "      <td>1</td>\n",
       "      <td>78</td>\n",
       "      <td>Female</td>\n",
       "      <td>Stage II</td>\n",
       "      <td>47.423760</td>\n",
       "      <td>3.0</td>\n",
       "      <td>6.953573</td>\n",
       "      <td>Immunotherapy</td>\n",
       "      <td>Never</td>\n",
       "      <td>Responder</td>\n",
       "      <td>Negative</td>\n",
       "      <td>Negative</td>\n",
       "      <td>10.791772</td>\n",
       "      <td>28.420121</td>\n",
       "      <td>No</td>\n",
       "      <td>High Density</td>\n",
       "    </tr>\n",
       "    <tr>\n",
       "      <th>1</th>\n",
       "      <td>2</td>\n",
       "      <td>68</td>\n",
       "      <td>Female</td>\n",
       "      <td>Stage IV</td>\n",
       "      <td>75.304014</td>\n",
       "      <td>6.0</td>\n",
       "      <td>6.127155</td>\n",
       "      <td>Immunotherapy</td>\n",
       "      <td>Current</td>\n",
       "      <td>Responder</td>\n",
       "      <td>Positive</td>\n",
       "      <td>Negative</td>\n",
       "      <td>7.267335</td>\n",
       "      <td>22.696887</td>\n",
       "      <td>Yes</td>\n",
       "      <td>High Density</td>\n",
       "    </tr>\n",
       "    <tr>\n",
       "      <th>2</th>\n",
       "      <td>3</td>\n",
       "      <td>54</td>\n",
       "      <td>Male</td>\n",
       "      <td>Stage IV</td>\n",
       "      <td>11.390051</td>\n",
       "      <td>12.0</td>\n",
       "      <td>5.661204</td>\n",
       "      <td>Immunotherapy</td>\n",
       "      <td>Former</td>\n",
       "      <td>Non-Responder</td>\n",
       "      <td>Negative</td>\n",
       "      <td>Negative</td>\n",
       "      <td>7.846686</td>\n",
       "      <td>NaN</td>\n",
       "      <td>Yes</td>\n",
       "      <td>Low Density</td>\n",
       "    </tr>\n",
       "    <tr>\n",
       "      <th>3</th>\n",
       "      <td>4</td>\n",
       "      <td>82</td>\n",
       "      <td>Male</td>\n",
       "      <td>Stage IV</td>\n",
       "      <td>39.051954</td>\n",
       "      <td>6.0</td>\n",
       "      <td>3.411632</td>\n",
       "      <td>Immunotherapy</td>\n",
       "      <td>Never</td>\n",
       "      <td>Non-Responder</td>\n",
       "      <td>Negative</td>\n",
       "      <td>Negative</td>\n",
       "      <td>15.400674</td>\n",
       "      <td>26.342270</td>\n",
       "      <td>No</td>\n",
       "      <td>Low Density</td>\n",
       "    </tr>\n",
       "    <tr>\n",
       "      <th>4</th>\n",
       "      <td>5</td>\n",
       "      <td>47</td>\n",
       "      <td>Female</td>\n",
       "      <td>Stage IV</td>\n",
       "      <td>NaN</td>\n",
       "      <td>4.0</td>\n",
       "      <td>3.720008</td>\n",
       "      <td>Chemotherapy</td>\n",
       "      <td>Current</td>\n",
       "      <td>Responder</td>\n",
       "      <td>Negative</td>\n",
       "      <td>Negative</td>\n",
       "      <td>11.063563</td>\n",
       "      <td>16.891864</td>\n",
       "      <td>No</td>\n",
       "      <td>High Density</td>\n",
       "    </tr>\n",
       "    <tr>\n",
       "      <th>5</th>\n",
       "      <td>6</td>\n",
       "      <td>60</td>\n",
       "      <td>Male</td>\n",
       "      <td>Stage III</td>\n",
       "      <td>43.840645</td>\n",
       "      <td>0.0</td>\n",
       "      <td>4.434363</td>\n",
       "      <td>Chemotherapy</td>\n",
       "      <td>Former</td>\n",
       "      <td>Non-Responder</td>\n",
       "      <td>Positive</td>\n",
       "      <td>Negative</td>\n",
       "      <td>10.570024</td>\n",
       "      <td>27.999062</td>\n",
       "      <td>Yes</td>\n",
       "      <td>Low Density</td>\n",
       "    </tr>\n",
       "    <tr>\n",
       "      <th>6</th>\n",
       "      <td>7</td>\n",
       "      <td>78</td>\n",
       "      <td>Female</td>\n",
       "      <td>Stage IV</td>\n",
       "      <td>39.274810</td>\n",
       "      <td>6.0</td>\n",
       "      <td>5.485134</td>\n",
       "      <td>Immunotherapy</td>\n",
       "      <td>Current</td>\n",
       "      <td>Non-Responder</td>\n",
       "      <td>Positive</td>\n",
       "      <td>Negative</td>\n",
       "      <td>3.671009</td>\n",
       "      <td>25.214077</td>\n",
       "      <td>No</td>\n",
       "      <td>Moderate Density</td>\n",
       "    </tr>\n",
       "    <tr>\n",
       "      <th>7</th>\n",
       "      <td>8</td>\n",
       "      <td>58</td>\n",
       "      <td>Female</td>\n",
       "      <td>Stage IV</td>\n",
       "      <td>57.291090</td>\n",
       "      <td>3.0</td>\n",
       "      <td>4.982361</td>\n",
       "      <td>Immunotherapy</td>\n",
       "      <td>Former</td>\n",
       "      <td>Non-Responder</td>\n",
       "      <td>Negative</td>\n",
       "      <td>Positive</td>\n",
       "      <td>16.102816</td>\n",
       "      <td>26.758384</td>\n",
       "      <td>Yes</td>\n",
       "      <td>Moderate Density</td>\n",
       "    </tr>\n",
       "    <tr>\n",
       "      <th>8</th>\n",
       "      <td>9</td>\n",
       "      <td>62</td>\n",
       "      <td>Male</td>\n",
       "      <td>Stage III</td>\n",
       "      <td>25.717511</td>\n",
       "      <td>2.0</td>\n",
       "      <td>2.315146</td>\n",
       "      <td>Immunotherapy</td>\n",
       "      <td>Current</td>\n",
       "      <td>Non-Responder</td>\n",
       "      <td>Negative</td>\n",
       "      <td>Negative</td>\n",
       "      <td>6.997404</td>\n",
       "      <td>24.498656</td>\n",
       "      <td>No</td>\n",
       "      <td>Moderate Density</td>\n",
       "    </tr>\n",
       "    <tr>\n",
       "      <th>9</th>\n",
       "      <td>10</td>\n",
       "      <td>50</td>\n",
       "      <td>Male</td>\n",
       "      <td>Stage IV</td>\n",
       "      <td>20.527270</td>\n",
       "      <td>4.0</td>\n",
       "      <td>8.677552</td>\n",
       "      <td>Immunotherapy</td>\n",
       "      <td>Never</td>\n",
       "      <td>Non-Responder</td>\n",
       "      <td>Positive</td>\n",
       "      <td>Negative</td>\n",
       "      <td>12.091740</td>\n",
       "      <td>24.721369</td>\n",
       "      <td>Yes</td>\n",
       "      <td>Low Density</td>\n",
       "    </tr>\n",
       "  </tbody>\n",
       "</table>\n",
       "</div>"
      ],
      "text/plain": [
       "   Patient_ID  Age  Gender Cancer_Stage  PD-L1_Level  EGFR_Mutation_Count  \\\n",
       "0           1   78  Female     Stage II    47.423760                  3.0   \n",
       "1           2   68  Female     Stage IV    75.304014                  6.0   \n",
       "2           3   54    Male     Stage IV    11.390051                 12.0   \n",
       "3           4   82    Male     Stage IV    39.051954                  6.0   \n",
       "4           5   47  Female     Stage IV          NaN                  4.0   \n",
       "5           6   60    Male    Stage III    43.840645                  0.0   \n",
       "6           7   78  Female     Stage IV    39.274810                  6.0   \n",
       "7           8   58  Female     Stage IV    57.291090                  3.0   \n",
       "8           9   62    Male    Stage III    25.717511                  2.0   \n",
       "9          10   50    Male     Stage IV    20.527270                  4.0   \n",
       "\n",
       "   Tumor_Size Treatment_Type Smoking_Status       Response  \\\n",
       "0    6.953573  Immunotherapy          Never      Responder   \n",
       "1    6.127155  Immunotherapy        Current      Responder   \n",
       "2    5.661204  Immunotherapy         Former  Non-Responder   \n",
       "3    3.411632  Immunotherapy          Never  Non-Responder   \n",
       "4    3.720008   Chemotherapy        Current      Responder   \n",
       "5    4.434363   Chemotherapy         Former  Non-Responder   \n",
       "6    5.485134  Immunotherapy        Current  Non-Responder   \n",
       "7    4.982361  Immunotherapy         Former  Non-Responder   \n",
       "8    2.315146  Immunotherapy        Current  Non-Responder   \n",
       "9    8.677552  Immunotherapy          Never  Non-Responder   \n",
       "\n",
       "  KRAS_Mutation_Status ALK_Rearrangement_Status  Tumor_Mutation_Burden  \\\n",
       "0             Negative                 Negative              10.791772   \n",
       "1             Positive                 Negative               7.267335   \n",
       "2             Negative                 Negative               7.846686   \n",
       "3             Negative                 Negative              15.400674   \n",
       "4             Negative                 Negative              11.063563   \n",
       "5             Positive                 Negative              10.570024   \n",
       "6             Positive                 Negative               3.671009   \n",
       "7             Negative                 Positive              16.102816   \n",
       "8             Negative                 Negative               6.997404   \n",
       "9             Positive                 Negative              12.091740   \n",
       "\n",
       "         BMI Comorbidities  CT_Scan_Analysis  \n",
       "0  28.420121            No      High Density  \n",
       "1  22.696887           Yes      High Density  \n",
       "2        NaN           Yes       Low Density  \n",
       "3  26.342270            No       Low Density  \n",
       "4  16.891864            No      High Density  \n",
       "5  27.999062           Yes       Low Density  \n",
       "6  25.214077            No  Moderate Density  \n",
       "7  26.758384           Yes  Moderate Density  \n",
       "8  24.498656            No  Moderate Density  \n",
       "9  24.721369           Yes       Low Density  "
      ]
     },
     "execution_count": 77,
     "metadata": {},
     "output_type": "execute_result"
    }
   ],
   "source": [
    "#Import dataset\n",
    "\n",
    "data= pd.read_excel(\"C:/Users/ravik/Downloads/lung_cancer_keytruda_data_updated.xlsx\")\n",
    "data.head(10)"
   ]
  },
  {
   "cell_type": "code",
   "execution_count": null,
   "id": "f10afb96",
   "metadata": {},
   "outputs": [],
   "source": []
  },
  {
   "cell_type": "markdown",
   "id": "0002bb84",
   "metadata": {},
   "source": [
    "# Inspect data Structure"
   ]
  },
  {
   "cell_type": "code",
   "execution_count": 3,
   "id": "a1a1850f",
   "metadata": {},
   "outputs": [
    {
     "data": {
      "text/plain": [
       "(3000, 16)"
      ]
     },
     "execution_count": 3,
     "metadata": {},
     "output_type": "execute_result"
    }
   ],
   "source": [
    "#Check the shape of data\n",
    "data.shape"
   ]
  },
  {
   "cell_type": "markdown",
   "id": "9a149b19",
   "metadata": {},
   "source": [
    "The dataset consists of 3000 rows and 10 columns."
   ]
  },
  {
   "cell_type": "code",
   "execution_count": 4,
   "id": "e2135f50",
   "metadata": {},
   "outputs": [
    {
     "data": {
      "text/plain": [
       "Patient_ID                    int64\n",
       "Age                           int64\n",
       "Gender                       object\n",
       "Cancer_Stage                 object\n",
       "PD-L1_Level                 float64\n",
       "EGFR_Mutation_Count         float64\n",
       "Tumor_Size                  float64\n",
       "Treatment_Type               object\n",
       "Smoking_Status               object\n",
       "Response                     object\n",
       "KRAS_Mutation_Status         object\n",
       "ALK_Rearrangement_Status     object\n",
       "Tumor_Mutation_Burden       float64\n",
       "BMI                         float64\n",
       "Comorbidities                object\n",
       "CT_Scan_Analysis             object\n",
       "dtype: object"
      ]
     },
     "execution_count": 4,
     "metadata": {},
     "output_type": "execute_result"
    }
   ],
   "source": [
    "#Column names and data types\n",
    "data.dtypes"
   ]
  },
  {
   "cell_type": "code",
   "execution_count": 5,
   "id": "c1edee30",
   "metadata": {},
   "outputs": [],
   "source": [
    "# Convert the text columns to the string data type\n",
    "# data['Gender'] = data['Gender'].astype(\"string\")\n",
    "# data['Cancer_Stage']= data['Cancer_Stage'].astype(\"string\")\n",
    "# data['Treatment_Type']=data['Treatment_Type'].astype(\"string\")\n",
    "# data['Smoking_Status']=data['Smoking_Status'].astype(\"string\")\n",
    "# data['Response']=data['Response'].astype(\"string\")"
   ]
  },
  {
   "cell_type": "code",
   "execution_count": 6,
   "id": "2e2cb38b",
   "metadata": {},
   "outputs": [
    {
     "data": {
      "text/plain": [
       "Patient_ID                    int64\n",
       "Age                           int64\n",
       "Gender                       object\n",
       "Cancer_Stage                 object\n",
       "PD-L1_Level                 float64\n",
       "EGFR_Mutation_Count         float64\n",
       "Tumor_Size                  float64\n",
       "Treatment_Type               object\n",
       "Smoking_Status               object\n",
       "Response                     object\n",
       "KRAS_Mutation_Status         object\n",
       "ALK_Rearrangement_Status     object\n",
       "Tumor_Mutation_Burden       float64\n",
       "BMI                         float64\n",
       "Comorbidities                object\n",
       "CT_Scan_Analysis             object\n",
       "dtype: object"
      ]
     },
     "execution_count": 6,
     "metadata": {},
     "output_type": "execute_result"
    }
   ],
   "source": [
    "data.dtypes\n"
   ]
  },
  {
   "cell_type": "code",
   "execution_count": 82,
   "id": "ff097929",
   "metadata": {},
   "outputs": [],
   "source": [
    "#Round decimals in Tumor_Size to 1 decimal\n",
    "data['Tumor_Size']=data['Tumor_Size'].round(1)\n",
    "data['PD-L1_Level']=data['PD-L1_Level'].round(1)\n"
   ]
  },
  {
   "cell_type": "code",
   "execution_count": 83,
   "id": "90ab7845",
   "metadata": {},
   "outputs": [
    {
     "data": {
      "text/html": [
       "<div>\n",
       "<style scoped>\n",
       "    .dataframe tbody tr th:only-of-type {\n",
       "        vertical-align: middle;\n",
       "    }\n",
       "\n",
       "    .dataframe tbody tr th {\n",
       "        vertical-align: top;\n",
       "    }\n",
       "\n",
       "    .dataframe thead th {\n",
       "        text-align: right;\n",
       "    }\n",
       "</style>\n",
       "<table border=\"1\" class=\"dataframe\">\n",
       "  <thead>\n",
       "    <tr style=\"text-align: right;\">\n",
       "      <th></th>\n",
       "      <th>Patient_ID</th>\n",
       "      <th>Age</th>\n",
       "      <th>Gender</th>\n",
       "      <th>Cancer_Stage</th>\n",
       "      <th>PD-L1_Level</th>\n",
       "      <th>EGFR_Mutation_Count</th>\n",
       "      <th>Tumor_Size</th>\n",
       "      <th>Treatment_Type</th>\n",
       "      <th>Smoking_Status</th>\n",
       "      <th>Response</th>\n",
       "      <th>KRAS_Mutation_Status</th>\n",
       "      <th>ALK_Rearrangement_Status</th>\n",
       "      <th>Tumor_Mutation_Burden</th>\n",
       "      <th>BMI</th>\n",
       "      <th>Comorbidities</th>\n",
       "      <th>CT_Scan_Analysis</th>\n",
       "    </tr>\n",
       "  </thead>\n",
       "  <tbody>\n",
       "    <tr>\n",
       "      <th>0</th>\n",
       "      <td>1</td>\n",
       "      <td>78</td>\n",
       "      <td>Female</td>\n",
       "      <td>Stage II</td>\n",
       "      <td>50.0</td>\n",
       "      <td>3.0</td>\n",
       "      <td>7.0</td>\n",
       "      <td>Immunotherapy</td>\n",
       "      <td>Never</td>\n",
       "      <td>Responder</td>\n",
       "      <td>Negative</td>\n",
       "      <td>Negative</td>\n",
       "      <td>10.791772</td>\n",
       "      <td>28.420121</td>\n",
       "      <td>No</td>\n",
       "      <td>High Density</td>\n",
       "    </tr>\n",
       "    <tr>\n",
       "      <th>1</th>\n",
       "      <td>2</td>\n",
       "      <td>68</td>\n",
       "      <td>Female</td>\n",
       "      <td>Stage IV</td>\n",
       "      <td>80.0</td>\n",
       "      <td>6.0</td>\n",
       "      <td>6.1</td>\n",
       "      <td>Immunotherapy</td>\n",
       "      <td>Current</td>\n",
       "      <td>Responder</td>\n",
       "      <td>Positive</td>\n",
       "      <td>Negative</td>\n",
       "      <td>7.267335</td>\n",
       "      <td>22.696887</td>\n",
       "      <td>Yes</td>\n",
       "      <td>High Density</td>\n",
       "    </tr>\n",
       "    <tr>\n",
       "      <th>2</th>\n",
       "      <td>3</td>\n",
       "      <td>54</td>\n",
       "      <td>Male</td>\n",
       "      <td>Stage IV</td>\n",
       "      <td>10.0</td>\n",
       "      <td>12.0</td>\n",
       "      <td>5.7</td>\n",
       "      <td>Immunotherapy</td>\n",
       "      <td>Former</td>\n",
       "      <td>Non-Responder</td>\n",
       "      <td>Negative</td>\n",
       "      <td>Negative</td>\n",
       "      <td>7.846686</td>\n",
       "      <td>NaN</td>\n",
       "      <td>Yes</td>\n",
       "      <td>Low Density</td>\n",
       "    </tr>\n",
       "    <tr>\n",
       "      <th>3</th>\n",
       "      <td>4</td>\n",
       "      <td>82</td>\n",
       "      <td>Male</td>\n",
       "      <td>Stage IV</td>\n",
       "      <td>40.0</td>\n",
       "      <td>6.0</td>\n",
       "      <td>3.4</td>\n",
       "      <td>Immunotherapy</td>\n",
       "      <td>Never</td>\n",
       "      <td>Non-Responder</td>\n",
       "      <td>Negative</td>\n",
       "      <td>Negative</td>\n",
       "      <td>15.400674</td>\n",
       "      <td>26.342270</td>\n",
       "      <td>No</td>\n",
       "      <td>Low Density</td>\n",
       "    </tr>\n",
       "    <tr>\n",
       "      <th>4</th>\n",
       "      <td>5</td>\n",
       "      <td>47</td>\n",
       "      <td>Female</td>\n",
       "      <td>Stage IV</td>\n",
       "      <td>NaN</td>\n",
       "      <td>4.0</td>\n",
       "      <td>3.7</td>\n",
       "      <td>Chemotherapy</td>\n",
       "      <td>Current</td>\n",
       "      <td>Responder</td>\n",
       "      <td>Negative</td>\n",
       "      <td>Negative</td>\n",
       "      <td>11.063563</td>\n",
       "      <td>16.891864</td>\n",
       "      <td>No</td>\n",
       "      <td>High Density</td>\n",
       "    </tr>\n",
       "  </tbody>\n",
       "</table>\n",
       "</div>"
      ],
      "text/plain": [
       "   Patient_ID  Age  Gender Cancer_Stage  PD-L1_Level  EGFR_Mutation_Count  \\\n",
       "0           1   78  Female     Stage II         50.0                  3.0   \n",
       "1           2   68  Female     Stage IV         80.0                  6.0   \n",
       "2           3   54    Male     Stage IV         10.0                 12.0   \n",
       "3           4   82    Male     Stage IV         40.0                  6.0   \n",
       "4           5   47  Female     Stage IV          NaN                  4.0   \n",
       "\n",
       "   Tumor_Size Treatment_Type Smoking_Status       Response  \\\n",
       "0         7.0  Immunotherapy          Never      Responder   \n",
       "1         6.1  Immunotherapy        Current      Responder   \n",
       "2         5.7  Immunotherapy         Former  Non-Responder   \n",
       "3         3.4  Immunotherapy          Never  Non-Responder   \n",
       "4         3.7   Chemotherapy        Current      Responder   \n",
       "\n",
       "  KRAS_Mutation_Status ALK_Rearrangement_Status  Tumor_Mutation_Burden  \\\n",
       "0             Negative                 Negative              10.791772   \n",
       "1             Positive                 Negative               7.267335   \n",
       "2             Negative                 Negative               7.846686   \n",
       "3             Negative                 Negative              15.400674   \n",
       "4             Negative                 Negative              11.063563   \n",
       "\n",
       "         BMI Comorbidities CT_Scan_Analysis  \n",
       "0  28.420121            No     High Density  \n",
       "1  22.696887           Yes     High Density  \n",
       "2        NaN           Yes      Low Density  \n",
       "3  26.342270            No      Low Density  \n",
       "4  16.891864            No     High Density  "
      ]
     },
     "execution_count": 83,
     "metadata": {},
     "output_type": "execute_result"
    }
   ],
   "source": [
    "data.head(5)"
   ]
  },
  {
   "cell_type": "code",
   "execution_count": 9,
   "id": "7ea05dda",
   "metadata": {},
   "outputs": [
    {
     "name": "stdout",
     "output_type": "stream",
     "text": [
      "<class 'pandas.core.frame.DataFrame'>\n",
      "RangeIndex: 3000 entries, 0 to 2999\n",
      "Data columns (total 16 columns):\n",
      " #   Column                    Non-Null Count  Dtype  \n",
      "---  ------                    --------------  -----  \n",
      " 0   Patient_ID                3000 non-null   int64  \n",
      " 1   Age                       3000 non-null   int64  \n",
      " 2   Gender                    3000 non-null   object \n",
      " 3   Cancer_Stage              3000 non-null   object \n",
      " 4   PD-L1_Level               2700 non-null   float64\n",
      " 5   EGFR_Mutation_Count       2700 non-null   float64\n",
      " 6   Tumor_Size                2700 non-null   float64\n",
      " 7   Treatment_Type            3000 non-null   object \n",
      " 8   Smoking_Status            3000 non-null   object \n",
      " 9   Response                  3000 non-null   object \n",
      " 10  KRAS_Mutation_Status      3000 non-null   object \n",
      " 11  ALK_Rearrangement_Status  3000 non-null   object \n",
      " 12  Tumor_Mutation_Burden     2700 non-null   float64\n",
      " 13  BMI                       2700 non-null   float64\n",
      " 14  Comorbidities             3000 non-null   object \n",
      " 15  CT_Scan_Analysis          3000 non-null   object \n",
      "dtypes: float64(5), int64(2), object(9)\n",
      "memory usage: 375.1+ KB\n"
     ]
    }
   ],
   "source": [
    "#To get summary of the data\n",
    "data.info()"
   ]
  },
  {
   "cell_type": "markdown",
   "id": "e3af3d3f",
   "metadata": {},
   "source": [
    "# Check For Missing Values"
   ]
  },
  {
   "cell_type": "code",
   "execution_count": 84,
   "id": "94b34636",
   "metadata": {},
   "outputs": [
    {
     "data": {
      "text/plain": [
       "Patient_ID                    0\n",
       "Age                           0\n",
       "Gender                        0\n",
       "Cancer_Stage                  0\n",
       "PD-L1_Level                 300\n",
       "EGFR_Mutation_Count         300\n",
       "Tumor_Size                  300\n",
       "Treatment_Type                0\n",
       "Smoking_Status                0\n",
       "Response                      0\n",
       "KRAS_Mutation_Status          0\n",
       "ALK_Rearrangement_Status      0\n",
       "Tumor_Mutation_Burden       300\n",
       "BMI                         300\n",
       "Comorbidities                 0\n",
       "CT_Scan_Analysis              0\n",
       "dtype: int64"
      ]
     },
     "execution_count": 84,
     "metadata": {},
     "output_type": "execute_result"
    }
   ],
   "source": [
    "#To count missing values in each column\n",
    "data.isnull().sum()\n"
   ]
  },
  {
   "cell_type": "code",
   "execution_count": 85,
   "id": "ae214bd0",
   "metadata": {},
   "outputs": [
    {
     "data": {
      "text/plain": [
       "Patient_ID                   0.0\n",
       "Age                          0.0\n",
       "Gender                       0.0\n",
       "Cancer_Stage                 0.0\n",
       "PD-L1_Level                 10.0\n",
       "EGFR_Mutation_Count         10.0\n",
       "Tumor_Size                  10.0\n",
       "Treatment_Type               0.0\n",
       "Smoking_Status               0.0\n",
       "Response                     0.0\n",
       "KRAS_Mutation_Status         0.0\n",
       "ALK_Rearrangement_Status     0.0\n",
       "Tumor_Mutation_Burden       10.0\n",
       "BMI                         10.0\n",
       "Comorbidities                0.0\n",
       "CT_Scan_Analysis             0.0\n",
       "dtype: float64"
      ]
     },
     "execution_count": 85,
     "metadata": {},
     "output_type": "execute_result"
    }
   ],
   "source": [
    "# Calculate the percentage of missing values for each column\n",
    "missing_percentage = (data.isnull().mean() * 100).round(2)\n",
    "missing_percentage"
   ]
  },
  {
   "cell_type": "markdown",
   "id": "e1a8be0b",
   "metadata": {},
   "source": [
    "Here the columns Gender and Smoking_Status have 10% missing values and are important features, we can handle the missing values by filling them with appropriate values."
   ]
  },
  {
   "cell_type": "code",
   "execution_count": 86,
   "id": "cc45c248",
   "metadata": {},
   "outputs": [
    {
     "data": {
      "text/plain": [
       "array(['Female', 'Male'], dtype=object)"
      ]
     },
     "execution_count": 86,
     "metadata": {},
     "output_type": "execute_result"
    }
   ],
   "source": [
    "data.Gender.unique()"
   ]
  },
  {
   "cell_type": "code",
   "execution_count": 87,
   "id": "615a2e85",
   "metadata": {},
   "outputs": [
    {
     "data": {
      "text/plain": [
       "Male      1538\n",
       "Female    1462\n",
       "Name: Gender, dtype: int64"
      ]
     },
     "execution_count": 87,
     "metadata": {},
     "output_type": "execute_result"
    }
   ],
   "source": [
    "data.Gender.value_counts()"
   ]
  },
  {
   "cell_type": "code",
   "execution_count": 88,
   "id": "065df89a",
   "metadata": {},
   "outputs": [
    {
     "data": {
      "text/plain": [
       "Index(['Patient_ID', 'Age', 'Gender', 'Cancer_Stage', 'PD-L1_Level',\n",
       "       'EGFR_Mutation_Count', 'Tumor_Size', 'Treatment_Type', 'Smoking_Status',\n",
       "       'Response', 'KRAS_Mutation_Status', 'ALK_Rearrangement_Status',\n",
       "       'Tumor_Mutation_Burden', 'BMI', 'Comorbidities', 'CT_Scan_Analysis'],\n",
       "      dtype='object')"
      ]
     },
     "execution_count": 88,
     "metadata": {},
     "output_type": "execute_result"
    }
   ],
   "source": [
    "#Fill missing values in Gender by Unknown as there’s no identifiable pattern,\n",
    "# data['Gender'] = data['Gender'].fillna(data['Gender'].mode()[0])\n",
    "data.columns"
   ]
  },
  {
   "cell_type": "code",
   "execution_count": 89,
   "id": "3f74eaf4",
   "metadata": {},
   "outputs": [],
   "source": [
    "data['Tumor_Size'] = data['Tumor_Size'].fillna(data['Tumor_Size'].mean())\n",
    "data['PD-L1_Level'] = data['PD-L1_Level'].fillna(data['PD-L1_Level'].mean())\n",
    "data['EGFR_Mutation_Count'] = data['EGFR_Mutation_Count'].fillna(data['EGFR_Mutation_Count'].mean())\n",
    "data['Tumor_Mutation_Burden'] = data['Tumor_Mutation_Burden'].fillna(data['Tumor_Mutation_Burden'].mean())\n",
    "data['BMI'] = data['BMI'].fillna(data['BMI'].mean())\n"
   ]
  },
  {
   "cell_type": "code",
   "execution_count": 90,
   "id": "3ae2a7f2",
   "metadata": {},
   "outputs": [
    {
     "data": {
      "text/plain": [
       "Former     1231\n",
       "Never       890\n",
       "Current     879\n",
       "Name: Smoking_Status, dtype: int64"
      ]
     },
     "execution_count": 90,
     "metadata": {},
     "output_type": "execute_result"
    }
   ],
   "source": [
    "data['Smoking_Status'].value_counts()"
   ]
  },
  {
   "cell_type": "code",
   "execution_count": 91,
   "id": "658dc77d",
   "metadata": {},
   "outputs": [
    {
     "data": {
      "text/html": [
       "<div>\n",
       "<style scoped>\n",
       "    .dataframe tbody tr th:only-of-type {\n",
       "        vertical-align: middle;\n",
       "    }\n",
       "\n",
       "    .dataframe tbody tr th {\n",
       "        vertical-align: top;\n",
       "    }\n",
       "\n",
       "    .dataframe thead th {\n",
       "        text-align: right;\n",
       "    }\n",
       "</style>\n",
       "<table border=\"1\" class=\"dataframe\">\n",
       "  <thead>\n",
       "    <tr style=\"text-align: right;\">\n",
       "      <th></th>\n",
       "      <th>Patient_ID</th>\n",
       "      <th>Age</th>\n",
       "      <th>Gender</th>\n",
       "      <th>Cancer_Stage</th>\n",
       "      <th>PD-L1_Level</th>\n",
       "      <th>EGFR_Mutation_Count</th>\n",
       "      <th>Tumor_Size</th>\n",
       "      <th>Treatment_Type</th>\n",
       "      <th>Smoking_Status</th>\n",
       "      <th>Response</th>\n",
       "      <th>KRAS_Mutation_Status</th>\n",
       "      <th>ALK_Rearrangement_Status</th>\n",
       "      <th>Tumor_Mutation_Burden</th>\n",
       "      <th>BMI</th>\n",
       "      <th>Comorbidities</th>\n",
       "      <th>CT_Scan_Analysis</th>\n",
       "    </tr>\n",
       "  </thead>\n",
       "  <tbody>\n",
       "    <tr>\n",
       "      <th>0</th>\n",
       "      <td>1</td>\n",
       "      <td>78</td>\n",
       "      <td>Female</td>\n",
       "      <td>Stage II</td>\n",
       "      <td>50.000000</td>\n",
       "      <td>3.0</td>\n",
       "      <td>7.0</td>\n",
       "      <td>Immunotherapy</td>\n",
       "      <td>Never</td>\n",
       "      <td>Responder</td>\n",
       "      <td>Negative</td>\n",
       "      <td>Negative</td>\n",
       "      <td>10.791772</td>\n",
       "      <td>28.420121</td>\n",
       "      <td>No</td>\n",
       "      <td>High Density</td>\n",
       "    </tr>\n",
       "    <tr>\n",
       "      <th>1</th>\n",
       "      <td>2</td>\n",
       "      <td>68</td>\n",
       "      <td>Female</td>\n",
       "      <td>Stage IV</td>\n",
       "      <td>80.000000</td>\n",
       "      <td>6.0</td>\n",
       "      <td>6.1</td>\n",
       "      <td>Immunotherapy</td>\n",
       "      <td>Current</td>\n",
       "      <td>Responder</td>\n",
       "      <td>Positive</td>\n",
       "      <td>Negative</td>\n",
       "      <td>7.267335</td>\n",
       "      <td>22.696887</td>\n",
       "      <td>Yes</td>\n",
       "      <td>High Density</td>\n",
       "    </tr>\n",
       "    <tr>\n",
       "      <th>2</th>\n",
       "      <td>3</td>\n",
       "      <td>54</td>\n",
       "      <td>Male</td>\n",
       "      <td>Stage IV</td>\n",
       "      <td>10.000000</td>\n",
       "      <td>12.0</td>\n",
       "      <td>5.7</td>\n",
       "      <td>Immunotherapy</td>\n",
       "      <td>Former</td>\n",
       "      <td>Non-Responder</td>\n",
       "      <td>Negative</td>\n",
       "      <td>Negative</td>\n",
       "      <td>7.846686</td>\n",
       "      <td>24.961872</td>\n",
       "      <td>Yes</td>\n",
       "      <td>Low Density</td>\n",
       "    </tr>\n",
       "    <tr>\n",
       "      <th>3</th>\n",
       "      <td>4</td>\n",
       "      <td>82</td>\n",
       "      <td>Male</td>\n",
       "      <td>Stage IV</td>\n",
       "      <td>40.000000</td>\n",
       "      <td>6.0</td>\n",
       "      <td>3.4</td>\n",
       "      <td>Immunotherapy</td>\n",
       "      <td>Never</td>\n",
       "      <td>Non-Responder</td>\n",
       "      <td>Negative</td>\n",
       "      <td>Negative</td>\n",
       "      <td>15.400674</td>\n",
       "      <td>26.342270</td>\n",
       "      <td>No</td>\n",
       "      <td>Low Density</td>\n",
       "    </tr>\n",
       "    <tr>\n",
       "      <th>4</th>\n",
       "      <td>5</td>\n",
       "      <td>47</td>\n",
       "      <td>Female</td>\n",
       "      <td>Stage IV</td>\n",
       "      <td>52.374074</td>\n",
       "      <td>4.0</td>\n",
       "      <td>3.7</td>\n",
       "      <td>Chemotherapy</td>\n",
       "      <td>Current</td>\n",
       "      <td>Responder</td>\n",
       "      <td>Negative</td>\n",
       "      <td>Negative</td>\n",
       "      <td>11.063563</td>\n",
       "      <td>16.891864</td>\n",
       "      <td>No</td>\n",
       "      <td>High Density</td>\n",
       "    </tr>\n",
       "  </tbody>\n",
       "</table>\n",
       "</div>"
      ],
      "text/plain": [
       "   Patient_ID  Age  Gender Cancer_Stage  PD-L1_Level  EGFR_Mutation_Count  \\\n",
       "0           1   78  Female     Stage II    50.000000                  3.0   \n",
       "1           2   68  Female     Stage IV    80.000000                  6.0   \n",
       "2           3   54    Male     Stage IV    10.000000                 12.0   \n",
       "3           4   82    Male     Stage IV    40.000000                  6.0   \n",
       "4           5   47  Female     Stage IV    52.374074                  4.0   \n",
       "\n",
       "   Tumor_Size Treatment_Type Smoking_Status       Response  \\\n",
       "0         7.0  Immunotherapy          Never      Responder   \n",
       "1         6.1  Immunotherapy        Current      Responder   \n",
       "2         5.7  Immunotherapy         Former  Non-Responder   \n",
       "3         3.4  Immunotherapy          Never  Non-Responder   \n",
       "4         3.7   Chemotherapy        Current      Responder   \n",
       "\n",
       "  KRAS_Mutation_Status ALK_Rearrangement_Status  Tumor_Mutation_Burden  \\\n",
       "0             Negative                 Negative              10.791772   \n",
       "1             Positive                 Negative               7.267335   \n",
       "2             Negative                 Negative               7.846686   \n",
       "3             Negative                 Negative              15.400674   \n",
       "4             Negative                 Negative              11.063563   \n",
       "\n",
       "         BMI Comorbidities CT_Scan_Analysis  \n",
       "0  28.420121            No     High Density  \n",
       "1  22.696887           Yes     High Density  \n",
       "2  24.961872           Yes      Low Density  \n",
       "3  26.342270            No      Low Density  \n",
       "4  16.891864            No     High Density  "
      ]
     },
     "execution_count": 91,
     "metadata": {},
     "output_type": "execute_result"
    }
   ],
   "source": [
    "data.head()"
   ]
  },
  {
   "cell_type": "code",
   "execution_count": 92,
   "id": "f474c6ee",
   "metadata": {},
   "outputs": [
    {
     "data": {
      "text/plain": [
       "Patient_ID                  0\n",
       "Age                         0\n",
       "Gender                      0\n",
       "Cancer_Stage                0\n",
       "PD-L1_Level                 0\n",
       "EGFR_Mutation_Count         0\n",
       "Tumor_Size                  0\n",
       "Treatment_Type              0\n",
       "Smoking_Status              0\n",
       "Response                    0\n",
       "KRAS_Mutation_Status        0\n",
       "ALK_Rearrangement_Status    0\n",
       "Tumor_Mutation_Burden       0\n",
       "BMI                         0\n",
       "Comorbidities               0\n",
       "CT_Scan_Analysis            0\n",
       "dtype: int64"
      ]
     },
     "execution_count": 92,
     "metadata": {},
     "output_type": "execute_result"
    }
   ],
   "source": [
    "data.isna().sum()"
   ]
  },
  {
   "cell_type": "code",
   "execution_count": 93,
   "id": "0505a90a",
   "metadata": {},
   "outputs": [],
   "source": [
    "#Fill missing values in Smoking_Status by \"Not Specified\" as the data was not provided\n",
    "\n",
    "# data['Smoking_Status']= data['Smoking_Status'].fillna('Not Specified')"
   ]
  },
  {
   "cell_type": "code",
   "execution_count": 94,
   "id": "14fbc24f",
   "metadata": {},
   "outputs": [],
   "source": [
    "#To check the count of missing values after filling it\n",
    "\n",
    "# data.isnull().sum()"
   ]
  },
  {
   "cell_type": "markdown",
   "id": "645cf1c5",
   "metadata": {},
   "source": [
    "Now there are no any missing values present in the dataset. "
   ]
  },
  {
   "cell_type": "code",
   "execution_count": 95,
   "id": "8154d1ab",
   "metadata": {},
   "outputs": [
    {
     "data": {
      "text/plain": [
       "0"
      ]
     },
     "execution_count": 95,
     "metadata": {},
     "output_type": "execute_result"
    }
   ],
   "source": [
    "#To check duplicate values\n",
    "\n",
    "duplicates= data.duplicated().sum()\n",
    "duplicates"
   ]
  },
  {
   "cell_type": "markdown",
   "id": "348c40d5",
   "metadata": {},
   "source": [
    "There are no any duplicate values in the dataset."
   ]
  },
  {
   "cell_type": "markdown",
   "id": "2e36b8c9",
   "metadata": {},
   "source": [
    "# Summarize the data"
   ]
  },
  {
   "cell_type": "code",
   "execution_count": 96,
   "id": "a46ccff5",
   "metadata": {},
   "outputs": [
    {
     "data": {
      "text/html": [
       "<div>\n",
       "<style scoped>\n",
       "    .dataframe tbody tr th:only-of-type {\n",
       "        vertical-align: middle;\n",
       "    }\n",
       "\n",
       "    .dataframe tbody tr th {\n",
       "        vertical-align: top;\n",
       "    }\n",
       "\n",
       "    .dataframe thead th {\n",
       "        text-align: right;\n",
       "    }\n",
       "</style>\n",
       "<table border=\"1\" class=\"dataframe\">\n",
       "  <thead>\n",
       "    <tr style=\"text-align: right;\">\n",
       "      <th></th>\n",
       "      <th>Patient_ID</th>\n",
       "      <th>Age</th>\n",
       "      <th>PD-L1_Level</th>\n",
       "      <th>EGFR_Mutation_Count</th>\n",
       "      <th>Tumor_Size</th>\n",
       "      <th>Tumor_Mutation_Burden</th>\n",
       "      <th>BMI</th>\n",
       "    </tr>\n",
       "  </thead>\n",
       "  <tbody>\n",
       "    <tr>\n",
       "      <th>count</th>\n",
       "      <td>3000.000000</td>\n",
       "      <td>3000.000000</td>\n",
       "      <td>3000.000000</td>\n",
       "      <td>3000.000000</td>\n",
       "      <td>3000.000000</td>\n",
       "      <td>3000.000000</td>\n",
       "      <td>3000.000000</td>\n",
       "    </tr>\n",
       "    <tr>\n",
       "      <th>mean</th>\n",
       "      <td>1500.500000</td>\n",
       "      <td>62.088667</td>\n",
       "      <td>52.374074</td>\n",
       "      <td>5.300741</td>\n",
       "      <td>5.408593</td>\n",
       "      <td>11.575777</td>\n",
       "      <td>24.961872</td>\n",
       "    </tr>\n",
       "    <tr>\n",
       "      <th>std</th>\n",
       "      <td>866.169729</td>\n",
       "      <td>12.911121</td>\n",
       "      <td>19.343012</td>\n",
       "      <td>2.133882</td>\n",
       "      <td>2.744282</td>\n",
       "      <td>4.956291</td>\n",
       "      <td>3.859236</td>\n",
       "    </tr>\n",
       "    <tr>\n",
       "      <th>min</th>\n",
       "      <td>1.000000</td>\n",
       "      <td>40.000000</td>\n",
       "      <td>-10.000000</td>\n",
       "      <td>0.000000</td>\n",
       "      <td>-0.900000</td>\n",
       "      <td>-2.272277</td>\n",
       "      <td>11.429975</td>\n",
       "    </tr>\n",
       "    <tr>\n",
       "      <th>25%</th>\n",
       "      <td>750.750000</td>\n",
       "      <td>51.000000</td>\n",
       "      <td>40.000000</td>\n",
       "      <td>4.000000</td>\n",
       "      <td>3.400000</td>\n",
       "      <td>8.364166</td>\n",
       "      <td>22.610736</td>\n",
       "    </tr>\n",
       "    <tr>\n",
       "      <th>50%</th>\n",
       "      <td>1500.500000</td>\n",
       "      <td>62.000000</td>\n",
       "      <td>52.374074</td>\n",
       "      <td>5.000000</td>\n",
       "      <td>5.408593</td>\n",
       "      <td>11.575777</td>\n",
       "      <td>24.961872</td>\n",
       "    </tr>\n",
       "    <tr>\n",
       "      <th>75%</th>\n",
       "      <td>2250.250000</td>\n",
       "      <td>73.000000</td>\n",
       "      <td>60.000000</td>\n",
       "      <td>6.000000</td>\n",
       "      <td>7.400000</td>\n",
       "      <td>14.871592</td>\n",
       "      <td>27.289110</td>\n",
       "    </tr>\n",
       "    <tr>\n",
       "      <th>max</th>\n",
       "      <td>3000.000000</td>\n",
       "      <td>84.000000</td>\n",
       "      <td>110.000000</td>\n",
       "      <td>16.000000</td>\n",
       "      <td>12.200000</td>\n",
       "      <td>26.886223</td>\n",
       "      <td>39.662732</td>\n",
       "    </tr>\n",
       "  </tbody>\n",
       "</table>\n",
       "</div>"
      ],
      "text/plain": [
       "        Patient_ID          Age  PD-L1_Level  EGFR_Mutation_Count  \\\n",
       "count  3000.000000  3000.000000  3000.000000          3000.000000   \n",
       "mean   1500.500000    62.088667    52.374074             5.300741   \n",
       "std     866.169729    12.911121    19.343012             2.133882   \n",
       "min       1.000000    40.000000   -10.000000             0.000000   \n",
       "25%     750.750000    51.000000    40.000000             4.000000   \n",
       "50%    1500.500000    62.000000    52.374074             5.000000   \n",
       "75%    2250.250000    73.000000    60.000000             6.000000   \n",
       "max    3000.000000    84.000000   110.000000            16.000000   \n",
       "\n",
       "        Tumor_Size  Tumor_Mutation_Burden          BMI  \n",
       "count  3000.000000            3000.000000  3000.000000  \n",
       "mean      5.408593              11.575777    24.961872  \n",
       "std       2.744282               4.956291     3.859236  \n",
       "min      -0.900000              -2.272277    11.429975  \n",
       "25%       3.400000               8.364166    22.610736  \n",
       "50%       5.408593              11.575777    24.961872  \n",
       "75%       7.400000              14.871592    27.289110  \n",
       "max      12.200000              26.886223    39.662732  "
      ]
     },
     "execution_count": 96,
     "metadata": {},
     "output_type": "execute_result"
    }
   ],
   "source": [
    "#To summarize the numerical data\n",
    "\n",
    "data.describe()"
   ]
  },
  {
   "cell_type": "code",
   "execution_count": 102,
   "id": "deccd3d3",
   "metadata": {},
   "outputs": [],
   "source": [
    "# Removeing negative values\n",
    "\n",
    "data['PD-L1_Level'] = np.where(data['PD-L1_Level'] > 100, 100, data['PD-L1_Level'])\n",
    "data['PD-L1_Level'] = np.where(data['PD-L1_Level'] < 10, 10, data['PD-L1_Level'])\n",
    "\n",
    "\n",
    "data['Tumor_Size'] = np.where(data['Tumor_Size'] > 10, 10, data['Tumor_Size'])\n",
    "data['Tumor_Size'] = np.where(data['Tumor_Size'] < 2, 2, data['Tumor_Size'])\n",
    "\n",
    "\n",
    "data['Tumor_Mutation_Burden'] = np.where(data['Tumor_Mutation_Burden'] > 20, 20, data['Tumor_Mutation_Burden'])\n",
    "data['Tumor_Mutation_Burden'] = np.where(data['Tumor_Mutation_Burden'] < 5, 5, data['Tumor_Mutation_Burden'])"
   ]
  },
  {
   "cell_type": "code",
   "execution_count": 103,
   "id": "9ca8fc62",
   "metadata": {},
   "outputs": [
    {
     "data": {
      "text/html": [
       "<div>\n",
       "<style scoped>\n",
       "    .dataframe tbody tr th:only-of-type {\n",
       "        vertical-align: middle;\n",
       "    }\n",
       "\n",
       "    .dataframe tbody tr th {\n",
       "        vertical-align: top;\n",
       "    }\n",
       "\n",
       "    .dataframe thead th {\n",
       "        text-align: right;\n",
       "    }\n",
       "</style>\n",
       "<table border=\"1\" class=\"dataframe\">\n",
       "  <thead>\n",
       "    <tr style=\"text-align: right;\">\n",
       "      <th></th>\n",
       "      <th>Patient_ID</th>\n",
       "      <th>Age</th>\n",
       "      <th>PD-L1_Level</th>\n",
       "      <th>EGFR_Mutation_Count</th>\n",
       "      <th>Tumor_Size</th>\n",
       "      <th>Tumor_Mutation_Burden</th>\n",
       "      <th>BMI</th>\n",
       "    </tr>\n",
       "  </thead>\n",
       "  <tbody>\n",
       "    <tr>\n",
       "      <th>count</th>\n",
       "      <td>3000.000000</td>\n",
       "      <td>3000.000000</td>\n",
       "      <td>3000.000000</td>\n",
       "      <td>3000.000000</td>\n",
       "      <td>3000.000000</td>\n",
       "      <td>3000.000000</td>\n",
       "      <td>3000.000000</td>\n",
       "    </tr>\n",
       "    <tr>\n",
       "      <th>mean</th>\n",
       "      <td>1500.500000</td>\n",
       "      <td>62.088667</td>\n",
       "      <td>52.437407</td>\n",
       "      <td>5.300741</td>\n",
       "      <td>5.502093</td>\n",
       "      <td>11.705419</td>\n",
       "      <td>24.961872</td>\n",
       "    </tr>\n",
       "    <tr>\n",
       "      <th>std</th>\n",
       "      <td>866.169729</td>\n",
       "      <td>12.911121</td>\n",
       "      <td>19.058080</td>\n",
       "      <td>2.133882</td>\n",
       "      <td>2.474426</td>\n",
       "      <td>4.357038</td>\n",
       "      <td>3.859236</td>\n",
       "    </tr>\n",
       "    <tr>\n",
       "      <th>min</th>\n",
       "      <td>1.000000</td>\n",
       "      <td>40.000000</td>\n",
       "      <td>10.000000</td>\n",
       "      <td>0.000000</td>\n",
       "      <td>2.000000</td>\n",
       "      <td>5.000000</td>\n",
       "      <td>11.429975</td>\n",
       "    </tr>\n",
       "    <tr>\n",
       "      <th>25%</th>\n",
       "      <td>750.750000</td>\n",
       "      <td>51.000000</td>\n",
       "      <td>40.000000</td>\n",
       "      <td>4.000000</td>\n",
       "      <td>3.400000</td>\n",
       "      <td>8.364166</td>\n",
       "      <td>22.610736</td>\n",
       "    </tr>\n",
       "    <tr>\n",
       "      <th>50%</th>\n",
       "      <td>1500.500000</td>\n",
       "      <td>62.000000</td>\n",
       "      <td>52.374074</td>\n",
       "      <td>5.000000</td>\n",
       "      <td>5.408593</td>\n",
       "      <td>11.575777</td>\n",
       "      <td>24.961872</td>\n",
       "    </tr>\n",
       "    <tr>\n",
       "      <th>75%</th>\n",
       "      <td>2250.250000</td>\n",
       "      <td>73.000000</td>\n",
       "      <td>60.000000</td>\n",
       "      <td>6.000000</td>\n",
       "      <td>7.400000</td>\n",
       "      <td>14.871592</td>\n",
       "      <td>27.289110</td>\n",
       "    </tr>\n",
       "    <tr>\n",
       "      <th>max</th>\n",
       "      <td>3000.000000</td>\n",
       "      <td>84.000000</td>\n",
       "      <td>100.000000</td>\n",
       "      <td>16.000000</td>\n",
       "      <td>10.000000</td>\n",
       "      <td>20.000000</td>\n",
       "      <td>39.662732</td>\n",
       "    </tr>\n",
       "  </tbody>\n",
       "</table>\n",
       "</div>"
      ],
      "text/plain": [
       "        Patient_ID          Age  PD-L1_Level  EGFR_Mutation_Count  \\\n",
       "count  3000.000000  3000.000000  3000.000000          3000.000000   \n",
       "mean   1500.500000    62.088667    52.437407             5.300741   \n",
       "std     866.169729    12.911121    19.058080             2.133882   \n",
       "min       1.000000    40.000000    10.000000             0.000000   \n",
       "25%     750.750000    51.000000    40.000000             4.000000   \n",
       "50%    1500.500000    62.000000    52.374074             5.000000   \n",
       "75%    2250.250000    73.000000    60.000000             6.000000   \n",
       "max    3000.000000    84.000000   100.000000            16.000000   \n",
       "\n",
       "        Tumor_Size  Tumor_Mutation_Burden          BMI  \n",
       "count  3000.000000            3000.000000  3000.000000  \n",
       "mean      5.502093              11.705419    24.961872  \n",
       "std       2.474426               4.357038     3.859236  \n",
       "min       2.000000               5.000000    11.429975  \n",
       "25%       3.400000               8.364166    22.610736  \n",
       "50%       5.408593              11.575777    24.961872  \n",
       "75%       7.400000              14.871592    27.289110  \n",
       "max      10.000000              20.000000    39.662732  "
      ]
     },
     "execution_count": 103,
     "metadata": {},
     "output_type": "execute_result"
    }
   ],
   "source": [
    "data.describe()"
   ]
  },
  {
   "cell_type": "code",
   "execution_count": 22,
   "id": "e87cee9b",
   "metadata": {},
   "outputs": [],
   "source": [
    "# data.describe(include='string')"
   ]
  },
  {
   "cell_type": "markdown",
   "id": "4ae728a5",
   "metadata": {},
   "source": [
    "# Detection of Outliers"
   ]
  },
  {
   "cell_type": "code",
   "execution_count": 104,
   "id": "0ef23192",
   "metadata": {},
   "outputs": [
    {
     "data": {
      "image/png": "[encoded data removed]",
      "text/plain": [
       "<Figure size 432x288 with 1 Axes>"
      ]
     },
     "metadata": {
      "needs_background": "light"
     },
     "output_type": "display_data"
    }
   ],
   "source": [
    "#To check normality of data\n",
    "\n",
    "import matplotlib.pyplot as plt\n",
    "\n",
    "plt.hist(data['Age'], bins=10, edgecolor='black')\n",
    "plt.title('Histogram of Age')\n",
    "plt.xlabel('Values')\n",
    "plt.ylabel('Frequency')\n",
    "\n",
    "plt.show()"
   ]
  },
  {
   "cell_type": "markdown",
   "id": "4f350126",
   "metadata": {},
   "source": [
    "Since age is not normally distributed, using methods like the Z-score may not be appropriate. Instead, the Interquartile Range (IQR) method is a robust approach for detecting outliers, especially with skewed data."
   ]
  },
  {
   "cell_type": "code",
   "execution_count": 105,
   "id": "3d94f067",
   "metadata": {},
   "outputs": [
    {
     "name": "stdout",
     "output_type": "stream",
     "text": [
      "51.0 73.0 22.0\n"
     ]
    }
   ],
   "source": [
    "#To calculate quartiles and IQR\n",
    "\n",
    "Q1 = data['Age'].quantile(0.25)\n",
    "Q3 = data['Age'].quantile(0.75)\n",
    "IQR = Q3 - Q1\n",
    "\n",
    "print(Q1,Q3,IQR)"
   ]
  },
  {
   "cell_type": "code",
   "execution_count": 106,
   "id": "27e95c05",
   "metadata": {},
   "outputs": [
    {
     "name": "stdout",
     "output_type": "stream",
     "text": [
      "18.0 106.0\n"
     ]
    }
   ],
   "source": [
    "# Step 2: Define outlier boundaries\n",
    "lower_bound = Q1 - 1.5 * IQR\n",
    "upper_bound = Q3 + 1.5 * IQR\n",
    "\n",
    "print(lower_bound, upper_bound)"
   ]
  },
  {
   "cell_type": "code",
   "execution_count": 107,
   "id": "8593d5f7",
   "metadata": {},
   "outputs": [
    {
     "name": "stdout",
     "output_type": "stream",
     "text": [
      "No outliers detected in Age.\n"
     ]
    }
   ],
   "source": [
    "#Identify outliers\n",
    "outliers = data[(data['Age'] < lower_bound) | (data['Age'] > upper_bound)]\n",
    "\n",
    "# Display outliers\n",
    "if not outliers.empty:\n",
    "    print(\"Outliers in Age:\")\n",
    "    print(outliers)\n",
    "else:\n",
    "    print(\"No outliers detected in Age.\")"
   ]
  },
  {
   "cell_type": "markdown",
   "id": "3a8792a0",
   "metadata": {},
   "source": [
    "Even though a box plot might not show obvious outliers based on statistical methods (like IQR), certain age values in the 117-year-old range may still be considered outliers from a clinical perspective because they fall outside of a typical age range for lung cancer patients.Capping the Age field to a maximum of 95 or 100 reflects a more realistic and medically appropriate range, based on what is commonly observed in this type of dataset."
   ]
  },
  {
   "cell_type": "code",
   "execution_count": 108,
   "id": "5801d965",
   "metadata": {},
   "outputs": [],
   "source": [
    "# Cap the age to a maximum value of 95 or 100\n",
    "data['Age'] = np.where(data['Age'] > 95, 95, data['Age'])"
   ]
  },
  {
   "cell_type": "code",
   "execution_count": 109,
   "id": "0715e32b",
   "metadata": {},
   "outputs": [
    {
     "data": {
      "image/png": "[encoded data removed]",
      "text/plain": [
       "<Figure size 432x288 with 1 Axes>"
      ]
     },
     "metadata": {
      "needs_background": "light"
     },
     "output_type": "display_data"
    },
    {
     "data": {
      "image/png": "[encoded data removed]",
      "text/plain": [
       "<Figure size 432x288 with 1 Axes>"
      ]
     },
     "metadata": {
      "needs_background": "light"
     },
     "output_type": "display_data"
    }
   ],
   "source": [
    "import matplotlib.pyplot as plt\n",
    "import seaborn as sns\n",
    "\n",
    "# Plot age distribution after capping\n",
    "sns.boxplot(x=data['Age'])\n",
    "plt.title('Age Distribution After Capping')\n",
    "plt.show()\n",
    "\n",
    "sns.histplot(data['Age'], kde=True)\n",
    "plt.title('Age Distribution Histogram After Capping')\n",
    "plt.show()"
   ]
  },
  {
   "cell_type": "markdown",
   "id": "24fda24e",
   "metadata": {},
   "source": [
    "The age data was capped at 95 years, as values above this threshold were deemed unrealistic in the context of the dataset. "
   ]
  },
  {
   "cell_type": "code",
   "execution_count": 110,
   "id": "55e0d020",
   "metadata": {},
   "outputs": [
    {
     "data": {
      "image/png": "[encoded data removed]",
      "text/plain": [
       "<Figure size 432x288 with 1 Axes>"
      ]
     },
     "metadata": {
      "needs_background": "light"
     },
     "output_type": "display_data"
    }
   ],
   "source": [
    "#To check normality of data, PD-L1_Level\n",
    "\n",
    "import matplotlib.pyplot as plt\n",
    "\n",
    "plt.hist(data['PD-L1_Level'], bins=10, edgecolor='black')\n",
    "plt.title('Histogram of PD-L1_Level')\n",
    "plt.xlabel('Values')\n",
    "plt.ylabel('Frequency')\n",
    "plt.show()"
   ]
  },
  {
   "cell_type": "code",
   "execution_count": 112,
   "id": "151c9c38",
   "metadata": {},
   "outputs": [
    {
     "data": {
      "image/png": "[encoded data removed]",
      "text/plain": [
       "<Figure size 432x288 with 1 Axes>"
      ]
     },
     "metadata": {
      "needs_background": "light"
     },
     "output_type": "display_data"
    }
   ],
   "source": [
    "import matplotlib.pyplot as plt\n",
    "\n",
    "plt.boxplot(data['PD-L1_Level'])\n",
    "plt.title('Box Plot of PD-L1_Level')\n",
    "plt.ylabel('PD-L1_Level')\n",
    "plt.show()\n"
   ]
  },
  {
   "cell_type": "markdown",
   "id": "84a30693",
   "metadata": {},
   "source": [
    "#Here PD-L1_Level field has no any outliers."
   ]
  },
  {
   "cell_type": "code",
   "execution_count": 114,
   "id": "ecc73fbb",
   "metadata": {},
   "outputs": [
    {
     "data": {
      "image/png": "[encoded data removed]",
      "text/plain": [
       "<Figure size 432x288 with 1 Axes>"
      ]
     },
     "metadata": {
      "needs_background": "light"
     },
     "output_type": "display_data"
    }
   ],
   "source": [
    "#To check normality of data EGFR_Mutation_Count\n",
    "\n",
    "import matplotlib.pyplot as plt\n",
    "\n",
    "plt.hist(data['EGFR_Mutation_Count'], bins=10, edgecolor='black')\n",
    "plt.title('Histogram of EGFR_Mutation_Count')\n",
    "plt.xlabel('Values')\n",
    "plt.ylabel('Frequency')\n",
    "plt.show()"
   ]
  },
  {
   "cell_type": "code",
   "execution_count": 116,
   "id": "661a9c92",
   "metadata": {},
   "outputs": [
    {
     "data": {
      "image/png": "[encoded data removed]",
      "text/plain": [
       "<Figure size 432x288 with 1 Axes>"
      ]
     },
     "metadata": {
      "needs_background": "light"
     },
     "output_type": "display_data"
    }
   ],
   "source": [
    "import matplotlib.pyplot as plt\n",
    "\n",
    "plt.boxplot(data['EGFR_Mutation_Count'])\n",
    "plt.title('Box Plot of EGFR_Mutation_Count')\n",
    "plt.ylabel('EGFR_Mutation_Count')\n",
    "plt.show()"
   ]
  },
  {
   "cell_type": "code",
   "execution_count": 117,
   "id": "8330f5d2",
   "metadata": {},
   "outputs": [],
   "source": [
    "# remove outlier by using capping method\n",
    "\n",
    "data['EGFR_Mutation_Count'] = np.where(data['EGFR_Mutation_Count'] > 5, 5, data['EGFR_Mutation_Count'])\n",
    "data['EGFR_Mutation_Count'] = np.where(data['EGFR_Mutation_Count'] < 2, 2, data['EGFR_Mutation_Count'])"
   ]
  },
  {
   "cell_type": "code",
   "execution_count": 118,
   "id": "87e056fd",
   "metadata": {},
   "outputs": [
    {
     "data": {
      "image/png": "[encoded data removed]",
      "text/plain": [
       "<Figure size 432x288 with 1 Axes>"
      ]
     },
     "metadata": {
      "needs_background": "light"
     },
     "output_type": "display_data"
    }
   ],
   "source": [
    "import matplotlib.pyplot as plt\n",
    "\n",
    "plt.boxplot(data['EGFR_Mutation_Count'])\n",
    "plt.title('Box Plot of EGFR_Mutation_Count')\n",
    "plt.ylabel('EGFR_Mutation_Count')\n",
    "plt.show()"
   ]
  },
  {
   "cell_type": "code",
   "execution_count": 119,
   "id": "26829548",
   "metadata": {},
   "outputs": [
    {
     "data": {
      "image/png": "[encoded data removed]",
      "text/plain": [
       "<Figure size 432x288 with 1 Axes>"
      ]
     },
     "metadata": {
      "needs_background": "light"
     },
     "output_type": "display_data"
    }
   ],
   "source": [
    "import matplotlib.pyplot as plt\n",
    "\n",
    "plt.hist(data['EGFR_Mutation_Count'], bins=10, edgecolor='black')\n",
    "plt.title('Histogram of EGFR_Mutation_Count')\n",
    "plt.xlabel('Values')\n",
    "plt.ylabel('Frequency')\n",
    "plt.show()"
   ]
  },
  {
   "cell_type": "code",
   "execution_count": null,
   "id": "09f6acd9",
   "metadata": {},
   "outputs": [],
   "source": []
  },
  {
   "cell_type": "code",
   "execution_count": null,
   "id": "8e876608",
   "metadata": {},
   "outputs": [],
   "source": []
  },
  {
   "cell_type": "markdown",
   "id": "241852b0",
   "metadata": {},
   "source": [
    "No any outliers detected in EGFR_Mutation_Count."
   ]
  },
  {
   "cell_type": "code",
   "execution_count": 120,
   "id": "085c63e0",
   "metadata": {},
   "outputs": [
    {
     "data": {
      "image/png": "[encoded data removed]",
      "text/plain": [
       "<Figure size 432x288 with 1 Axes>"
      ]
     },
     "metadata": {
      "needs_background": "light"
     },
     "output_type": "display_data"
    }
   ],
   "source": [
    "#To check normality of data Tumor_Size\n",
    "\n",
    "import matplotlib.pyplot as plt\n",
    "\n",
    "plt.hist(data['Tumor_Size'], bins=10, edgecolor='black')\n",
    "plt.title('Histogram of Tumor_Size')\n",
    "plt.xlabel('Values')\n",
    "plt.ylabel('Frequency')\n",
    "plt.show()"
   ]
  },
  {
   "cell_type": "markdown",
   "id": "6bfdb6d2",
   "metadata": {},
   "source": [
    "It is observed that the values are positively skewed."
   ]
  },
  {
   "cell_type": "code",
   "execution_count": 121,
   "id": "e3132fef",
   "metadata": {},
   "outputs": [
    {
     "data": {
      "image/png": "[encoded data removed]",
      "text/plain": [
       "<Figure size 432x288 with 1 Axes>"
      ]
     },
     "metadata": {
      "needs_background": "light"
     },
     "output_type": "display_data"
    }
   ],
   "source": [
    "\n",
    "plt.boxplot(data['Tumor_Size'])\n",
    "plt.title('Box Plot of Tumor_Size')\n",
    "plt.ylabel('Tumor_Size')\n",
    "plt.show()"
   ]
  },
  {
   "cell_type": "markdown",
   "id": "4aa08e89",
   "metadata": {},
   "source": [
    "Here their are outliers detected and as from the histogram it is positively skewed data.For reference, in NSCLC, tumors greater than 10 cm are usually considered large and might correspond to later stages (III or IV) of cancer, or could be a rare case.Stage IV cancers (advanced) may involve tumors that are larger than 5 cm, and in some rare cases, the tumor can grow larger than 10 cm.So we cap the values above 10cm."
   ]
  },
  {
   "cell_type": "code",
   "execution_count": 35,
   "id": "06d4dc90",
   "metadata": {},
   "outputs": [],
   "source": [
    "#Capping the tumor size\n",
    "\n",
    "# data['Tumor_Size'] = np.where(data['Tumor_Size'] > 10, 10, data['Tumor_Size'])\n"
   ]
  },
  {
   "cell_type": "code",
   "execution_count": 122,
   "id": "0facf96a",
   "metadata": {},
   "outputs": [
    {
     "data": {
      "image/png": "[encoded data removed]",
      "text/plain": [
       "<Figure size 432x288 with 1 Axes>"
      ]
     },
     "metadata": {
      "needs_background": "light"
     },
     "output_type": "display_data"
    }
   ],
   "source": [
    "\n",
    "# Plot age distribution after capping\n",
    "sns.boxplot(x=data['Tumor_Size'])\n",
    "plt.title('Tumor_Size Distribution After Capping')\n",
    "plt.show()\n"
   ]
  },
  {
   "cell_type": "code",
   "execution_count": 123,
   "id": "cb238d88",
   "metadata": {},
   "outputs": [
    {
     "data": {
      "image/png": "[encoded data removed]",
      "text/plain": [
       "<Figure size 432x288 with 1 Axes>"
      ]
     },
     "metadata": {
      "needs_background": "light"
     },
     "output_type": "display_data"
    }
   ],
   "source": [
    "import matplotlib.pyplot as plt\n",
    "\n",
    "plt.hist(data['Tumor_Mutation_Burden'], bins=10, edgecolor='black')\n",
    "plt.title('Histogram of Tumor_Mutation_Burden')\n",
    "plt.xlabel('Values')\n",
    "plt.ylabel('Frequency')\n",
    "plt.show()"
   ]
  },
  {
   "cell_type": "code",
   "execution_count": 124,
   "id": "f8822933",
   "metadata": {},
   "outputs": [
    {
     "data": {
      "image/png": "[encoded data removed]",
      "text/plain": [
       "<Figure size 432x288 with 1 Axes>"
      ]
     },
     "metadata": {
      "needs_background": "light"
     },
     "output_type": "display_data"
    }
   ],
   "source": [
    "import matplotlib.pyplot as plt\n",
    "\n",
    "plt.boxplot(data['Tumor_Mutation_Burden'])\n",
    "plt.title('Box Plot of Tumor_Mutation_Burden')\n",
    "plt.ylabel('Tumor_Mutation_Burden')\n",
    "plt.show()\n"
   ]
  },
  {
   "cell_type": "code",
   "execution_count": 73,
   "id": "d526e25e",
   "metadata": {},
   "outputs": [],
   "source": [
    "\n",
    "# data['Tumor_Mutation_Burden'] = np.where(data['Tumor_Mutation_Burden'] > 20, 20, data['Tumor_Mutation_Burden'])\n"
   ]
  },
  {
   "cell_type": "code",
   "execution_count": 126,
   "id": "057f8158",
   "metadata": {},
   "outputs": [
    {
     "data": {
      "image/png": "[encoded data removed]",
      "text/plain": [
       "<Figure size 432x288 with 1 Axes>"
      ]
     },
     "metadata": {
      "needs_background": "light"
     },
     "output_type": "display_data"
    }
   ],
   "source": [
    "\n",
    "plt.boxplot(data['BMI'])\n",
    "plt.title('Box Plot of BMI')\n",
    "plt.ylabel('BMI')\n",
    "plt.show()"
   ]
  },
  {
   "cell_type": "code",
   "execution_count": 127,
   "id": "7c1d6b07",
   "metadata": {},
   "outputs": [],
   "source": [
    "# Assuming data['BMI'] already exists and you want to cap it\n",
    "data['BMI'] = np.where(data['BMI'] > 30, 30, data['BMI'])  # Cap BMI at 40\n",
    "data['BMI'] = np.where(data['BMI'] < 18.5, 18.5, data['BMI'])  # Cap BMI at 18.5\n"
   ]
  },
  {
   "cell_type": "code",
   "execution_count": 128,
   "id": "3375e94a",
   "metadata": {},
   "outputs": [
    {
     "data": {
      "image/png": "[encoded data removed]",
      "text/plain": [
       "<Figure size 432x288 with 1 Axes>"
      ]
     },
     "metadata": {
      "needs_background": "light"
     },
     "output_type": "display_data"
    }
   ],
   "source": [
    "\n",
    "plt.boxplot(data['BMI'])\n",
    "plt.title('Box Plot of BMI after capping')\n",
    "plt.ylabel('BMI')\n",
    "plt.show()"
   ]
  },
  {
   "cell_type": "markdown",
   "id": "cde51b12",
   "metadata": {},
   "source": [
    "# Univariate Analysis"
   ]
  },
  {
   "cell_type": "code",
   "execution_count": 129,
   "id": "7b863c15",
   "metadata": {},
   "outputs": [
    {
     "data": {
      "image/png": "[encoded data removed]",
      "text/plain": [
       "<Figure size 432x288 with 1 Axes>"
      ]
     },
     "metadata": {
      "needs_background": "light"
     },
     "output_type": "display_data"
    }
   ],
   "source": [
    "import seaborn as sns\n",
    "import matplotlib.pyplot as plt\n",
    "\n",
    "# Histogram for Tumor Size after capping.\n",
    "sns.histplot(data['Tumor_Size'], kde=True)\n",
    "plt.title('Tumor Size Distribution After Capping')\n",
    "plt.show()\n",
    "\n"
   ]
  },
  {
   "cell_type": "markdown",
   "id": "c908925f",
   "metadata": {},
   "source": [
    "After capping, the distribution of Tumor_Size remains right-skewed,  indicating that the majority of tumor sizes are smaller with a few extreme large tumor sizes. . This skewness can affect the logistic regression model, potentially leading to biased or less reliable predictions. Transforming Tumor_Size using a suitable transformation and standardizing it can make the data more symmetric and improve model performance."
   ]
  },
  {
   "cell_type": "code",
   "execution_count": 130,
   "id": "cc08a897",
   "metadata": {},
   "outputs": [
    {
     "data": {
      "image/png": "[encoded data removed]",
      "text/plain": [
       "<Figure size 432x288 with 1 Axes>"
      ]
     },
     "metadata": {
      "needs_background": "light"
     },
     "output_type": "display_data"
    }
   ],
   "source": [
    "import scipy.stats as stats\n",
    "import matplotlib.pyplot as plt\n",
    "\n",
    "# Q-Q plot for PD-L1 Level\n",
    "stats.probplot(data['PD-L1_Level'], dist=\"norm\", plot=plt)\n",
    "plt.title(\"Q-Q Plot of PD-L1 Level\")\n",
    "plt.show()\n"
   ]
  },
  {
   "cell_type": "markdown",
   "id": "1d57207f",
   "metadata": {},
   "source": [
    "The Q-Q plot is indicating right skewness in the variable, which can impact logistic regression by introducing bias and reducing model interpretability. To address this,need to apply a log or power transformation to reduce skewness, followed by standardization to ensure consistent scaling. This will help meet logistic regression assumptions, improving the model's accuracy and interpretability."
   ]
  },
  {
   "cell_type": "code",
   "execution_count": 131,
   "id": "49217c7a",
   "metadata": {},
   "outputs": [
    {
     "data": {
      "image/png": "[encoded data removed]",
      "text/plain": [
       "<Figure size 432x288 with 1 Axes>"
      ]
     },
     "metadata": {
      "needs_background": "light"
     },
     "output_type": "display_data"
    }
   ],
   "source": [
    "import scipy.stats as stats\n",
    "import matplotlib.pyplot as plt\n",
    "\n",
    "# Q-Q plot for PD-L1 Level\n",
    "stats.probplot(data['Age'], dist=\"norm\", plot=plt)\n",
    "plt.title(\"Q-Q Plot of Age\")\n",
    "plt.show()\n"
   ]
  },
  {
   "cell_type": "markdown",
   "id": "f0875c3c",
   "metadata": {},
   "source": [
    "The distribution of Age remains right-skewed, with most individuals being younger and fewer individuals in the older age groups. This skewness can negatively impact the logistic regression model, potentially causing biased predictions or underrepresentation of older individuals. Applying a transformation (such as a logarithmic or square root transformation) and standardizing the data can help normalize the distribution and improve model performance."
   ]
  },
  {
   "cell_type": "code",
   "execution_count": 132,
   "id": "e7f56bb6",
   "metadata": {},
   "outputs": [
    {
     "data": {
      "image/png": "[encoded data removed]",
      "text/plain": [
       "<Figure size 432x288 with 1 Axes>"
      ]
     },
     "metadata": {
      "needs_background": "light"
     },
     "output_type": "display_data"
    }
   ],
   "source": [
    "import scipy.stats as stats\n",
    "import matplotlib.pyplot as plt\n",
    "\n",
    "# Q-Q plot for EGFR_Mutation_Count\n",
    "stats.probplot(data['EGFR_Mutation_Count'], dist=\"norm\", plot=plt)\n",
    "plt.title('Q-Q Plot for EGFR_Mutation_Count')\n",
    "plt.show()\n"
   ]
  },
  {
   "cell_type": "code",
   "execution_count": null,
   "id": "eb872622",
   "metadata": {},
   "outputs": [],
   "source": []
  },
  {
   "cell_type": "markdown",
   "id": "308d4304",
   "metadata": {},
   "source": [
    "The distribution of EGFR Mutation Count is also right-skewed, with the majority of individuals having low mutation counts and a few having a higher mutation count. This skewness may lead to potential issues in the logistic regression model, as the data may not represent the full spectrum of mutation counts properly. A transformation such as a logarithmic transformation can make the data more symmetric, reducing the effect of outliers and enhancing model predictions."
   ]
  },
  {
   "cell_type": "code",
   "execution_count": 133,
   "id": "0da72b19",
   "metadata": {},
   "outputs": [
    {
     "name": "stdout",
     "output_type": "stream",
     "text": [
      "Shapiro-Wilk Test for Age: Statistic = 0.9552900195121765, P-value = 2.1440828879902393e-29\n",
      "Shapiro-Wilk Test for Tumor Size: Statistic = 0.943334698677063, P-value = 1.7951278390570428e-32\n",
      "Shapiro-Wilk Test for EGFR Mutation Count: Statistic = 0.6646566987037659, P-value = 0.0\n"
     ]
    }
   ],
   "source": [
    "from scipy.stats import shapiro\n",
    "\n",
    "# Shapiro-Wilk Test for Normality on Age, PD_L1_Level, Tumor_Size, and EGFR_Mutation_Count\n",
    "stat_age, p_value_age = shapiro(data['Age'])\n",
    "\n",
    "stat_tumorsize, p_value_tumorsize = shapiro(data['Tumor_Size'])\n",
    "stat_egfr, p_value_egfr = shapiro(data['EGFR_Mutation_Count'])\n",
    "\n",
    "# Output the results\n",
    "print(f\"Shapiro-Wilk Test for Age: Statistic = {stat_age}, P-value = {p_value_age}\")\n",
    "\n",
    "print(f\"Shapiro-Wilk Test for Tumor Size: Statistic = {stat_tumorsize}, P-value = {p_value_tumorsize}\")\n",
    "print(f\"Shapiro-Wilk Test for EGFR Mutation Count: Statistic = {stat_egfr}, P-value = {p_value_egfr}\")\n"
   ]
  },
  {
   "cell_type": "code",
   "execution_count": 134,
   "id": "9f841f86",
   "metadata": {},
   "outputs": [
    {
     "name": "stdout",
     "output_type": "stream",
     "text": [
      "Male      1538\n",
      "Female    1462\n",
      "Name: Gender, dtype: int64\n",
      "Stage IV     1190\n",
      "Stage III    1037\n",
      "Stage II      773\n",
      "Name: Cancer_Stage, dtype: int64\n"
     ]
    },
    {
     "data": {
      "image/png": "[encoded data removed]",
      "text/plain": [
       "<Figure size 432x288 with 1 Axes>"
      ]
     },
     "metadata": {
      "needs_background": "light"
     },
     "output_type": "display_data"
    },
    {
     "data": {
      "image/png": "[encoded data removed]",
      "text/plain": [
       "<Figure size 432x288 with 1 Axes>"
      ]
     },
     "metadata": {
      "needs_background": "light"
     },
     "output_type": "display_data"
    }
   ],
   "source": [
    "# Frequency count for categorical features\n",
    "print(data['Gender'].value_counts())\n",
    "print(data['Cancer_Stage'].value_counts())\n",
    "\n",
    "# Bar Plot for Cancer Stage\n",
    "sns.countplot(data=data, x='Gender')\n",
    "plt.title(\"Gender Distribution\")\n",
    "plt.show()\n",
    "\n",
    "\n",
    "\n",
    "# Bar Plot for Cancer Stage\n",
    "sns.countplot(data=data, x='Cancer_Stage')\n",
    "plt.title(\"Cancer Stage Distribution\")\n",
    "plt.show()\n"
   ]
  },
  {
   "cell_type": "markdown",
   "id": "f3bb64bc",
   "metadata": {},
   "source": [
    "Gender: \n",
    "The Gender distribution shows a balanced dataset, with 1680 females and 1320 males. There is no significant imbalance between the categories, which is good for logistic regression, as it ensures that the model doesn't favor one category over the other. It can be be encoded into a binary form (e.g., Female = 0, Male = 1) for logistic regression, ensuring the model interprets it correctly."
   ]
  },
  {
   "cell_type": "markdown",
   "id": "b8028892",
   "metadata": {},
   "source": [
    "Cancer Stage: \n",
    "    The Cancer Stage distribution shows relatively balanced categories across Stage II, III, and IV, with Stage III being slightly more frequent. This balance is generally positive for logistic regression as no category is overly dominant. Need to be properly encoded (e.g., one-hot encoding or ordinal encoding) to ensure the logistic regression model correctly interprets the categories.\n"
   ]
  },
  {
   "cell_type": "code",
   "execution_count": 135,
   "id": "bb10b137",
   "metadata": {},
   "outputs": [
    {
     "name": "stdout",
     "output_type": "stream",
     "text": [
      "Former     1231\n",
      "Never       890\n",
      "Current     879\n",
      "Name: Smoking_Status, dtype: int64\n",
      "Chemotherapy     1519\n",
      "Immunotherapy    1481\n",
      "Name: Treatment_Type, dtype: int64\n"
     ]
    },
    {
     "data": {
      "image/png": "[encoded data removed]",
      "text/plain": [
       "<Figure size 432x288 with 1 Axes>"
      ]
     },
     "metadata": {
      "needs_background": "light"
     },
     "output_type": "display_data"
    },
    {
     "data": {
      "image/png": "[encoded data removed]",
      "text/plain": [
       "<Figure size 432x288 with 1 Axes>"
      ]
     },
     "metadata": {
      "needs_background": "light"
     },
     "output_type": "display_data"
    }
   ],
   "source": [
    "# Frequency count for categorical features\n",
    "print(data['Smoking_Status'].value_counts())\n",
    "\n",
    "print(data['Treatment_Type'].value_counts())\n",
    "\n",
    "# Bar Plot for Smoking Status\n",
    "sns.countplot(data=data, x='Smoking_Status')\n",
    "plt.title(\"Smoking Status Distribution\")\n",
    "plt.show()\n",
    "\n",
    "sns.countplot(data=data, x='Treatment_Type')\n",
    "plt.title(\"Treatment_Type Distribution\")\n",
    "plt.show()"
   ]
  },
  {
   "cell_type": "markdown",
   "id": "31db8d48",
   "metadata": {},
   "source": [
    "Smoking Status:\n",
    "    The Smoking Status distribution is slightly imbalanced, with Not Specified being less frequent, but overall, the categories (Current, Former, Never) are relatively balanced. This distribution may require attention to avoid the \"Not Specified\" category from becoming an issue during modeling."
   ]
  },
  {
   "cell_type": "markdown",
   "id": "eda99dc6",
   "metadata": {},
   "source": [
    "Treatment Type: The Treatment_Type distribution is balanced with almost equal counts of Chemotherapy (1517) and Immunotherapy (1483). This is positive for logistic regression as no treatment type will dominate the model’s learning process, helping to avoid biased predictions."
   ]
  },
  {
   "cell_type": "code",
   "execution_count": 136,
   "id": "543a1e13",
   "metadata": {},
   "outputs": [
    {
     "data": {
      "text/plain": [
       "Index(['Patient_ID', 'Age', 'Gender', 'Cancer_Stage', 'PD-L1_Level',\n",
       "       'EGFR_Mutation_Count', 'Tumor_Size', 'Treatment_Type', 'Smoking_Status',\n",
       "       'Response', 'KRAS_Mutation_Status', 'ALK_Rearrangement_Status',\n",
       "       'Tumor_Mutation_Burden', 'BMI', 'Comorbidities', 'CT_Scan_Analysis'],\n",
       "      dtype='object')"
      ]
     },
     "execution_count": 136,
     "metadata": {},
     "output_type": "execute_result"
    }
   ],
   "source": [
    "data.columns"
   ]
  },
  {
   "cell_type": "markdown",
   "id": "ad9c142f",
   "metadata": {},
   "source": [
    "# Bivariate Analysis"
   ]
  },
  {
   "cell_type": "code",
   "execution_count": 137,
   "id": "7e9773ac",
   "metadata": {},
   "outputs": [
    {
     "data": {
      "image/png": "[encoded data removed]",
      "text/plain": [
       "<Figure size 432x288 with 2 Axes>"
      ]
     },
     "metadata": {
      "needs_background": "light"
     },
     "output_type": "display_data"
    }
   ],
   "source": [
    "\n",
    "# Correlation matrix for numerical features\n",
    "corr_matrix = data[['Age', 'Tumor_Size', 'PD-L1_Level', 'EGFR_Mutation_Count', \"Tumor_Mutation_Burden\", \"BMI\"]].corr()\n",
    "sns.heatmap(corr_matrix, annot=True, cmap='coolwarm')\n",
    "plt.title(\"Correlation Matrix\")\n",
    "plt.show()\n"
   ]
  },
  {
   "cell_type": "markdown",
   "id": "996b2c1f",
   "metadata": {},
   "source": [
    "The correlation between Age, Tumor Size, PD-L1 Level, and EGFR Mutation Count is very weak, meaning these variables don't strongly influence each other. This is good for logistic regression as it reduces the risk of multicollinearity, allowing each feature to contribute independently to the model."
   ]
  },
  {
   "cell_type": "code",
   "execution_count": 138,
   "id": "84849621",
   "metadata": {},
   "outputs": [
    {
     "data": {
      "image/png": "[encoded data removed]",
      "text/plain": [
       "<Figure size 432x288 with 1 Axes>"
      ]
     },
     "metadata": {
      "needs_background": "light"
     },
     "output_type": "display_data"
    },
    {
     "data": {
      "image/png": "[encoded data removed]",
      "text/plain": [
       "<Figure size 432x288 with 1 Axes>"
      ]
     },
     "metadata": {
      "needs_background": "light"
     },
     "output_type": "display_data"
    },
    {
     "data": {
      "image/png": "[encoded data removed]",
      "text/plain": [
       "<Figure size 432x288 with 1 Axes>"
      ]
     },
     "metadata": {
      "needs_background": "light"
     },
     "output_type": "display_data"
    },
    {
     "data": {
      "image/png": "[encoded data removed]",
      "text/plain": [
       "<Figure size 432x288 with 1 Axes>"
      ]
     },
     "metadata": {
      "needs_background": "light"
     },
     "output_type": "display_data"
    }
   ],
   "source": [
    "# For Treatment_Type vs Response\n",
    "sns.countplot(data=data, x='Cancer_Stage', hue='Response')\n",
    "plt.title(\"Cancer Stage vs Response\")\n",
    "plt.show()\n",
    "\n",
    "# For Treatment_Type vs Response\n",
    "sns.countplot(data=data, x='Treatment_Type', hue='Response')\n",
    "plt.title(\"Treatment Type vs Response\")\n",
    "plt.show()\n",
    "\n",
    "# For Smoking_Status vs Response\n",
    "sns.countplot(data=data, x='Smoking_Status', hue='Response')\n",
    "plt.title(\"Smoking Status vs Response\")\n",
    "plt.show()\n",
    "\n",
    "# For Gender vs Response\n",
    "sns.countplot(data=data, x='Gender', hue='Response')\n",
    "plt.title(\"Gender vs Response\")\n",
    "plt.show()\n"
   ]
  },
  {
   "cell_type": "markdown",
   "id": "7068991e",
   "metadata": {},
   "source": [
    "Smoking Status vs Response:\n",
    "    Smoking Status may not be a strong standalone predictor of response, as the distribution of responses is fairly even across the different smoking categories. However, it could still provide some predictive value when combined with other factors such as Cancer Stage or Tumor Size in the logistic regression model."
   ]
  },
  {
   "cell_type": "markdown",
   "id": "882c9478",
   "metadata": {},
   "source": [
    "Gender vs Resoponse:\n",
    "slightly better response rate in females compared to males, although the overall difference in response rates is not drastic. While Gender appears to have some potential impact on the response, it may not be the most powerful standalone predictor in a logistic regression model. It could be more informative when combined with other variables like Cancer Stage, Tumor Size, or Treatment Type for more accurate predictions."
   ]
  },
  {
   "cell_type": "code",
   "execution_count": 140,
   "id": "3f6b3b6b",
   "metadata": {},
   "outputs": [
    {
     "data": {
      "text/html": [
       "<div>\n",
       "<style scoped>\n",
       "    .dataframe tbody tr th:only-of-type {\n",
       "        vertical-align: middle;\n",
       "    }\n",
       "\n",
       "    .dataframe tbody tr th {\n",
       "        vertical-align: top;\n",
       "    }\n",
       "\n",
       "    .dataframe thead th {\n",
       "        text-align: right;\n",
       "    }\n",
       "</style>\n",
       "<table border=\"1\" class=\"dataframe\">\n",
       "  <thead>\n",
       "    <tr style=\"text-align: right;\">\n",
       "      <th></th>\n",
       "      <th>Patient_ID</th>\n",
       "      <th>Age</th>\n",
       "      <th>Gender</th>\n",
       "      <th>Cancer_Stage</th>\n",
       "      <th>PD-L1_Level</th>\n",
       "      <th>EGFR_Mutation_Count</th>\n",
       "      <th>Tumor_Size</th>\n",
       "      <th>Treatment_Type</th>\n",
       "      <th>Smoking_Status</th>\n",
       "      <th>Response</th>\n",
       "      <th>KRAS_Mutation_Status</th>\n",
       "      <th>ALK_Rearrangement_Status</th>\n",
       "      <th>Tumor_Mutation_Burden</th>\n",
       "      <th>BMI</th>\n",
       "      <th>Comorbidities</th>\n",
       "      <th>CT_Scan_Analysis</th>\n",
       "    </tr>\n",
       "  </thead>\n",
       "  <tbody>\n",
       "    <tr>\n",
       "      <th>0</th>\n",
       "      <td>1</td>\n",
       "      <td>78</td>\n",
       "      <td>Female</td>\n",
       "      <td>Stage II</td>\n",
       "      <td>50.0</td>\n",
       "      <td>3.0</td>\n",
       "      <td>7.0</td>\n",
       "      <td>Immunotherapy</td>\n",
       "      <td>Never</td>\n",
       "      <td>Responder</td>\n",
       "      <td>Negative</td>\n",
       "      <td>Negative</td>\n",
       "      <td>10.791772</td>\n",
       "      <td>28.420121</td>\n",
       "      <td>No</td>\n",
       "      <td>High Density</td>\n",
       "    </tr>\n",
       "  </tbody>\n",
       "</table>\n",
       "</div>"
      ],
      "text/plain": [
       "   Patient_ID  Age  Gender Cancer_Stage  PD-L1_Level  EGFR_Mutation_Count  \\\n",
       "0           1   78  Female     Stage II         50.0                  3.0   \n",
       "\n",
       "   Tumor_Size Treatment_Type Smoking_Status   Response KRAS_Mutation_Status  \\\n",
       "0         7.0  Immunotherapy          Never  Responder             Negative   \n",
       "\n",
       "  ALK_Rearrangement_Status  Tumor_Mutation_Burden        BMI Comorbidities  \\\n",
       "0                 Negative              10.791772  28.420121            No   \n",
       "\n",
       "  CT_Scan_Analysis  \n",
       "0     High Density  "
      ]
     },
     "execution_count": 140,
     "metadata": {},
     "output_type": "execute_result"
    }
   ],
   "source": [
    "data.head(1)"
   ]
  },
  {
   "cell_type": "markdown",
   "id": "aed5d87c",
   "metadata": {},
   "source": [
    "# Feature Engineering"
   ]
  },
  {
   "cell_type": "code",
   "execution_count": 141,
   "id": "de7e9d2c",
   "metadata": {},
   "outputs": [
    {
     "data": {
      "text/html": [
       "<div>\n",
       "<style scoped>\n",
       "    .dataframe tbody tr th:only-of-type {\n",
       "        vertical-align: middle;\n",
       "    }\n",
       "\n",
       "    .dataframe tbody tr th {\n",
       "        vertical-align: top;\n",
       "    }\n",
       "\n",
       "    .dataframe thead th {\n",
       "        text-align: right;\n",
       "    }\n",
       "</style>\n",
       "<table border=\"1\" class=\"dataframe\">\n",
       "  <thead>\n",
       "    <tr style=\"text-align: right;\">\n",
       "      <th></th>\n",
       "      <th>Patient_ID</th>\n",
       "      <th>Age</th>\n",
       "      <th>Gender</th>\n",
       "      <th>Cancer_Stage</th>\n",
       "      <th>PD-L1_Level</th>\n",
       "      <th>EGFR_Mutation_Count</th>\n",
       "      <th>Tumor_Size</th>\n",
       "      <th>Treatment_Type</th>\n",
       "      <th>Smoking_Status</th>\n",
       "      <th>Response</th>\n",
       "      <th>KRAS_Mutation_Status</th>\n",
       "      <th>ALK_Rearrangement_Status</th>\n",
       "      <th>Tumor_Mutation_Burden</th>\n",
       "      <th>BMI</th>\n",
       "      <th>Comorbidities</th>\n",
       "      <th>CT_Scan_Analysis</th>\n",
       "    </tr>\n",
       "  </thead>\n",
       "  <tbody>\n",
       "    <tr>\n",
       "      <th>0</th>\n",
       "      <td>1</td>\n",
       "      <td>0.863636</td>\n",
       "      <td>Female</td>\n",
       "      <td>Stage II</td>\n",
       "      <td>0.444444</td>\n",
       "      <td>0.333333</td>\n",
       "      <td>0.6250</td>\n",
       "      <td>Immunotherapy</td>\n",
       "      <td>Never</td>\n",
       "      <td>Responder</td>\n",
       "      <td>Negative</td>\n",
       "      <td>Negative</td>\n",
       "      <td>0.386118</td>\n",
       "      <td>0.862619</td>\n",
       "      <td>No</td>\n",
       "      <td>High Density</td>\n",
       "    </tr>\n",
       "    <tr>\n",
       "      <th>1</th>\n",
       "      <td>2</td>\n",
       "      <td>0.636364</td>\n",
       "      <td>Female</td>\n",
       "      <td>Stage IV</td>\n",
       "      <td>0.777778</td>\n",
       "      <td>1.000000</td>\n",
       "      <td>0.5125</td>\n",
       "      <td>Immunotherapy</td>\n",
       "      <td>Current</td>\n",
       "      <td>Responder</td>\n",
       "      <td>Positive</td>\n",
       "      <td>Negative</td>\n",
       "      <td>0.151156</td>\n",
       "      <td>0.364947</td>\n",
       "      <td>Yes</td>\n",
       "      <td>High Density</td>\n",
       "    </tr>\n",
       "    <tr>\n",
       "      <th>2</th>\n",
       "      <td>3</td>\n",
       "      <td>0.318182</td>\n",
       "      <td>Male</td>\n",
       "      <td>Stage IV</td>\n",
       "      <td>0.000000</td>\n",
       "      <td>1.000000</td>\n",
       "      <td>0.4625</td>\n",
       "      <td>Immunotherapy</td>\n",
       "      <td>Former</td>\n",
       "      <td>Non-Responder</td>\n",
       "      <td>Negative</td>\n",
       "      <td>Negative</td>\n",
       "      <td>0.189779</td>\n",
       "      <td>0.561902</td>\n",
       "      <td>Yes</td>\n",
       "      <td>Low Density</td>\n",
       "    </tr>\n",
       "    <tr>\n",
       "      <th>3</th>\n",
       "      <td>4</td>\n",
       "      <td>0.954545</td>\n",
       "      <td>Male</td>\n",
       "      <td>Stage IV</td>\n",
       "      <td>0.333333</td>\n",
       "      <td>1.000000</td>\n",
       "      <td>0.1750</td>\n",
       "      <td>Immunotherapy</td>\n",
       "      <td>Never</td>\n",
       "      <td>Non-Responder</td>\n",
       "      <td>Negative</td>\n",
       "      <td>Negative</td>\n",
       "      <td>0.693378</td>\n",
       "      <td>0.681937</td>\n",
       "      <td>No</td>\n",
       "      <td>Low Density</td>\n",
       "    </tr>\n",
       "    <tr>\n",
       "      <th>4</th>\n",
       "      <td>5</td>\n",
       "      <td>0.159091</td>\n",
       "      <td>Female</td>\n",
       "      <td>Stage IV</td>\n",
       "      <td>0.470823</td>\n",
       "      <td>0.666667</td>\n",
       "      <td>0.2125</td>\n",
       "      <td>Chemotherapy</td>\n",
       "      <td>Current</td>\n",
       "      <td>Responder</td>\n",
       "      <td>Negative</td>\n",
       "      <td>Negative</td>\n",
       "      <td>0.404238</td>\n",
       "      <td>0.000000</td>\n",
       "      <td>No</td>\n",
       "      <td>High Density</td>\n",
       "    </tr>\n",
       "  </tbody>\n",
       "</table>\n",
       "</div>"
      ],
      "text/plain": [
       "   Patient_ID       Age  Gender Cancer_Stage  PD-L1_Level  \\\n",
       "0           1  0.863636  Female     Stage II     0.444444   \n",
       "1           2  0.636364  Female     Stage IV     0.777778   \n",
       "2           3  0.318182    Male     Stage IV     0.000000   \n",
       "3           4  0.954545    Male     Stage IV     0.333333   \n",
       "4           5  0.159091  Female     Stage IV     0.470823   \n",
       "\n",
       "   EGFR_Mutation_Count  Tumor_Size Treatment_Type Smoking_Status  \\\n",
       "0             0.333333      0.6250  Immunotherapy          Never   \n",
       "1             1.000000      0.5125  Immunotherapy        Current   \n",
       "2             1.000000      0.4625  Immunotherapy         Former   \n",
       "3             1.000000      0.1750  Immunotherapy          Never   \n",
       "4             0.666667      0.2125   Chemotherapy        Current   \n",
       "\n",
       "        Response KRAS_Mutation_Status ALK_Rearrangement_Status  \\\n",
       "0      Responder             Negative                 Negative   \n",
       "1      Responder             Positive                 Negative   \n",
       "2  Non-Responder             Negative                 Negative   \n",
       "3  Non-Responder             Negative                 Negative   \n",
       "4      Responder             Negative                 Negative   \n",
       "\n",
       "   Tumor_Mutation_Burden       BMI Comorbidities CT_Scan_Analysis  \n",
       "0               0.386118  0.862619            No     High Density  \n",
       "1               0.151156  0.364947           Yes     High Density  \n",
       "2               0.189779  0.561902           Yes      Low Density  \n",
       "3               0.693378  0.681937            No      Low Density  \n",
       "4               0.404238  0.000000            No     High Density  "
      ]
     },
     "execution_count": 141,
     "metadata": {},
     "output_type": "execute_result"
    }
   ],
   "source": [
    "#import MinMaxScalar\n",
    "from sklearn.preprocessing import MinMaxScaler\n",
    "\n",
    "# seprate numerical columns\n",
    "numerical_columns = [\"Age\", \"PD-L1_Level\", \"EGFR_Mutation_Count\", \"Tumor_Size\",\"Tumor_Mutation_Burden\", \"BMI\", ]\n",
    "\n",
    "scaler = MinMaxScaler()\n",
    "\n",
    "# Apply MinMaxScaler\n",
    "data[numerical_columns] = scaler.fit_transform(data[numerical_columns])\n",
    "\n",
    "data.head()\n"
   ]
  },
  {
   "cell_type": "code",
   "execution_count": 160,
   "id": "226bb84d",
   "metadata": {},
   "outputs": [
    {
     "data": {
      "image/png": "[encoded data removed]",
      "text/plain": [
       "<Figure size 432x288 with 1 Axes>"
      ]
     },
     "metadata": {
      "needs_background": "light"
     },
     "output_type": "display_data"
    }
   ],
   "source": [
    "# QQ Plot after normalization\n",
    "\n",
    "#stats.probplot(data['EGFR_Mutation_Count'], dist=\"norm\", plot=plt)\n",
    "#plt.title('Q-Q Plot for EGFR_Mutation_Count')\n",
    "#plt.show()\n",
    "\n",
    "sns.histplot(data['EGFR_Mutation_Count'], kde=True)\n",
    "plt.title('EGFR_Mutation_Count Dist plot')\n",
    "plt.show()\n"
   ]
  },
  {
   "cell_type": "code",
   "execution_count": null,
   "id": "827c702f",
   "metadata": {},
   "outputs": [],
   "source": []
  },
  {
   "cell_type": "code",
   "execution_count": null,
   "id": "e9800dc5",
   "metadata": {},
   "outputs": [],
   "source": []
  },
  {
   "cell_type": "markdown",
   "id": "f3276fdc",
   "metadata": {},
   "source": [
    "Min-Max scaling was applied to normalize the values of numerical features, bringing them into a range of 0 to 1. This transformation helps ensure that each feature contributes equally to the model                               \n",
    "Min-Max scaling preserves the relative distribution of values within a feature, making it ideal for cases where you want to retain the relationships between values without introducing negative numbers or changing the data distribution's shape."
   ]
  },
  {
   "cell_type": "markdown",
   "id": "0d5e2b36",
   "metadata": {},
   "source": [
    "# One Hot Encoding"
   ]
  },
  {
   "cell_type": "code",
   "execution_count": 142,
   "id": "3f5eaeab",
   "metadata": {},
   "outputs": [
    {
     "data": {
      "text/html": [
       "<div>\n",
       "<style scoped>\n",
       "    .dataframe tbody tr th:only-of-type {\n",
       "        vertical-align: middle;\n",
       "    }\n",
       "\n",
       "    .dataframe tbody tr th {\n",
       "        vertical-align: top;\n",
       "    }\n",
       "\n",
       "    .dataframe thead th {\n",
       "        text-align: right;\n",
       "    }\n",
       "</style>\n",
       "<table border=\"1\" class=\"dataframe\">\n",
       "  <thead>\n",
       "    <tr style=\"text-align: right;\">\n",
       "      <th></th>\n",
       "      <th>Patient_ID</th>\n",
       "      <th>Age</th>\n",
       "      <th>Cancer_Stage</th>\n",
       "      <th>PD-L1_Level</th>\n",
       "      <th>EGFR_Mutation_Count</th>\n",
       "      <th>Tumor_Size</th>\n",
       "      <th>Response</th>\n",
       "      <th>Tumor_Mutation_Burden</th>\n",
       "      <th>BMI</th>\n",
       "      <th>CT_Scan_Analysis</th>\n",
       "      <th>Gender_Male</th>\n",
       "      <th>Treatment_Type_Immunotherapy</th>\n",
       "      <th>Smoking_Status_Former</th>\n",
       "      <th>Smoking_Status_Never</th>\n",
       "      <th>KRAS_Mutation_Status_Positive</th>\n",
       "      <th>ALK_Rearrangement_Status_Positive</th>\n",
       "      <th>Comorbidities_Yes</th>\n",
       "    </tr>\n",
       "  </thead>\n",
       "  <tbody>\n",
       "    <tr>\n",
       "      <th>0</th>\n",
       "      <td>1</td>\n",
       "      <td>0.863636</td>\n",
       "      <td>Stage II</td>\n",
       "      <td>0.444444</td>\n",
       "      <td>0.333333</td>\n",
       "      <td>0.6250</td>\n",
       "      <td>Responder</td>\n",
       "      <td>0.386118</td>\n",
       "      <td>0.862619</td>\n",
       "      <td>High Density</td>\n",
       "      <td>0</td>\n",
       "      <td>1</td>\n",
       "      <td>0</td>\n",
       "      <td>1</td>\n",
       "      <td>0</td>\n",
       "      <td>0</td>\n",
       "      <td>0</td>\n",
       "    </tr>\n",
       "    <tr>\n",
       "      <th>1</th>\n",
       "      <td>2</td>\n",
       "      <td>0.636364</td>\n",
       "      <td>Stage IV</td>\n",
       "      <td>0.777778</td>\n",
       "      <td>1.000000</td>\n",
       "      <td>0.5125</td>\n",
       "      <td>Responder</td>\n",
       "      <td>0.151156</td>\n",
       "      <td>0.364947</td>\n",
       "      <td>High Density</td>\n",
       "      <td>0</td>\n",
       "      <td>1</td>\n",
       "      <td>0</td>\n",
       "      <td>0</td>\n",
       "      <td>1</td>\n",
       "      <td>0</td>\n",
       "      <td>1</td>\n",
       "    </tr>\n",
       "    <tr>\n",
       "      <th>2</th>\n",
       "      <td>3</td>\n",
       "      <td>0.318182</td>\n",
       "      <td>Stage IV</td>\n",
       "      <td>0.000000</td>\n",
       "      <td>1.000000</td>\n",
       "      <td>0.4625</td>\n",
       "      <td>Non-Responder</td>\n",
       "      <td>0.189779</td>\n",
       "      <td>0.561902</td>\n",
       "      <td>Low Density</td>\n",
       "      <td>1</td>\n",
       "      <td>1</td>\n",
       "      <td>1</td>\n",
       "      <td>0</td>\n",
       "      <td>0</td>\n",
       "      <td>0</td>\n",
       "      <td>1</td>\n",
       "    </tr>\n",
       "    <tr>\n",
       "      <th>3</th>\n",
       "      <td>4</td>\n",
       "      <td>0.954545</td>\n",
       "      <td>Stage IV</td>\n",
       "      <td>0.333333</td>\n",
       "      <td>1.000000</td>\n",
       "      <td>0.1750</td>\n",
       "      <td>Non-Responder</td>\n",
       "      <td>0.693378</td>\n",
       "      <td>0.681937</td>\n",
       "      <td>Low Density</td>\n",
       "      <td>1</td>\n",
       "      <td>1</td>\n",
       "      <td>0</td>\n",
       "      <td>1</td>\n",
       "      <td>0</td>\n",
       "      <td>0</td>\n",
       "      <td>0</td>\n",
       "    </tr>\n",
       "    <tr>\n",
       "      <th>4</th>\n",
       "      <td>5</td>\n",
       "      <td>0.159091</td>\n",
       "      <td>Stage IV</td>\n",
       "      <td>0.470823</td>\n",
       "      <td>0.666667</td>\n",
       "      <td>0.2125</td>\n",
       "      <td>Responder</td>\n",
       "      <td>0.404238</td>\n",
       "      <td>0.000000</td>\n",
       "      <td>High Density</td>\n",
       "      <td>0</td>\n",
       "      <td>0</td>\n",
       "      <td>0</td>\n",
       "      <td>0</td>\n",
       "      <td>0</td>\n",
       "      <td>0</td>\n",
       "      <td>0</td>\n",
       "    </tr>\n",
       "  </tbody>\n",
       "</table>\n",
       "</div>"
      ],
      "text/plain": [
       "   Patient_ID       Age Cancer_Stage  PD-L1_Level  EGFR_Mutation_Count  \\\n",
       "0           1  0.863636     Stage II     0.444444             0.333333   \n",
       "1           2  0.636364     Stage IV     0.777778             1.000000   \n",
       "2           3  0.318182     Stage IV     0.000000             1.000000   \n",
       "3           4  0.954545     Stage IV     0.333333             1.000000   \n",
       "4           5  0.159091     Stage IV     0.470823             0.666667   \n",
       "\n",
       "   Tumor_Size       Response  Tumor_Mutation_Burden       BMI  \\\n",
       "0      0.6250      Responder               0.386118  0.862619   \n",
       "1      0.5125      Responder               0.151156  0.364947   \n",
       "2      0.4625  Non-Responder               0.189779  0.561902   \n",
       "3      0.1750  Non-Responder               0.693378  0.681937   \n",
       "4      0.2125      Responder               0.404238  0.000000   \n",
       "\n",
       "  CT_Scan_Analysis  Gender_Male  Treatment_Type_Immunotherapy  \\\n",
       "0     High Density            0                             1   \n",
       "1     High Density            0                             1   \n",
       "2      Low Density            1                             1   \n",
       "3      Low Density            1                             1   \n",
       "4     High Density            0                             0   \n",
       "\n",
       "   Smoking_Status_Former  Smoking_Status_Never  KRAS_Mutation_Status_Positive  \\\n",
       "0                      0                     1                              0   \n",
       "1                      0                     0                              1   \n",
       "2                      1                     0                              0   \n",
       "3                      0                     1                              0   \n",
       "4                      0                     0                              0   \n",
       "\n",
       "   ALK_Rearrangement_Status_Positive  Comorbidities_Yes  \n",
       "0                                  0                  0  \n",
       "1                                  0                  1  \n",
       "2                                  0                  1  \n",
       "3                                  0                  0  \n",
       "4                                  0                  0  "
      ]
     },
     "execution_count": 142,
     "metadata": {},
     "output_type": "execute_result"
    }
   ],
   "source": [
    "\n",
    "data1 = pd.get_dummies(data, columns=['Gender', 'Treatment_Type', 'Smoking_Status',\"KRAS_Mutation_Status\", \"ALK_Rearrangement_Status\", \"Comorbidities\" ], drop_first=True)\n",
    "data1.head()\n"
   ]
  },
  {
   "cell_type": "markdown",
   "id": "97a84e37",
   "metadata": {},
   "source": [
    "In the code above, one-hot encoding is applied to columns like Gender, Treatment_Type, and Smoking_Status because these columns are nominal, meaning their categories represent distinct groups without any meaningful order."
   ]
  },
  {
   "cell_type": "markdown",
   "id": "18f707bc",
   "metadata": {},
   "source": [
    "# Label Encoding - Using Maping"
   ]
  },
  {
   "cell_type": "code",
   "execution_count": 143,
   "id": "0bf63dbf",
   "metadata": {},
   "outputs": [
    {
     "data": {
      "text/plain": [
       "array(['Stage II', 'Stage IV', 'Stage III'], dtype=object)"
      ]
     },
     "execution_count": 143,
     "metadata": {},
     "output_type": "execute_result"
    }
   ],
   "source": [
    "data1['Cancer_Stage'].unique()"
   ]
  },
  {
   "cell_type": "code",
   "execution_count": 144,
   "id": "062be3ad",
   "metadata": {},
   "outputs": [
    {
     "data": {
      "text/plain": [
       "array(['High Density', 'Low Density', 'Moderate Density'], dtype=object)"
      ]
     },
     "execution_count": 144,
     "metadata": {},
     "output_type": "execute_result"
    }
   ],
   "source": [
    "data1['CT_Scan_Analysis'].unique()"
   ]
  },
  {
   "cell_type": "code",
   "execution_count": 145,
   "id": "2f03c115",
   "metadata": {},
   "outputs": [
    {
     "data": {
      "text/html": [
       "<div>\n",
       "<style scoped>\n",
       "    .dataframe tbody tr th:only-of-type {\n",
       "        vertical-align: middle;\n",
       "    }\n",
       "\n",
       "    .dataframe tbody tr th {\n",
       "        vertical-align: top;\n",
       "    }\n",
       "\n",
       "    .dataframe thead th {\n",
       "        text-align: right;\n",
       "    }\n",
       "</style>\n",
       "<table border=\"1\" class=\"dataframe\">\n",
       "  <thead>\n",
       "    <tr style=\"text-align: right;\">\n",
       "      <th></th>\n",
       "      <th>Patient_ID</th>\n",
       "      <th>Age</th>\n",
       "      <th>Cancer_Stage</th>\n",
       "      <th>PD-L1_Level</th>\n",
       "      <th>EGFR_Mutation_Count</th>\n",
       "      <th>Tumor_Size</th>\n",
       "      <th>Response</th>\n",
       "      <th>Tumor_Mutation_Burden</th>\n",
       "      <th>BMI</th>\n",
       "      <th>CT_Scan_Analysis</th>\n",
       "      <th>Gender_Male</th>\n",
       "      <th>Treatment_Type_Immunotherapy</th>\n",
       "      <th>Smoking_Status_Former</th>\n",
       "      <th>Smoking_Status_Never</th>\n",
       "      <th>KRAS_Mutation_Status_Positive</th>\n",
       "      <th>ALK_Rearrangement_Status_Positive</th>\n",
       "      <th>Comorbidities_Yes</th>\n",
       "    </tr>\n",
       "  </thead>\n",
       "  <tbody>\n",
       "    <tr>\n",
       "      <th>0</th>\n",
       "      <td>1</td>\n",
       "      <td>0.863636</td>\n",
       "      <td>0</td>\n",
       "      <td>0.444444</td>\n",
       "      <td>0.333333</td>\n",
       "      <td>0.6250</td>\n",
       "      <td>Responder</td>\n",
       "      <td>0.386118</td>\n",
       "      <td>0.862619</td>\n",
       "      <td>High Density</td>\n",
       "      <td>0</td>\n",
       "      <td>1</td>\n",
       "      <td>0</td>\n",
       "      <td>1</td>\n",
       "      <td>0</td>\n",
       "      <td>0</td>\n",
       "      <td>0</td>\n",
       "    </tr>\n",
       "    <tr>\n",
       "      <th>1</th>\n",
       "      <td>2</td>\n",
       "      <td>0.636364</td>\n",
       "      <td>2</td>\n",
       "      <td>0.777778</td>\n",
       "      <td>1.000000</td>\n",
       "      <td>0.5125</td>\n",
       "      <td>Responder</td>\n",
       "      <td>0.151156</td>\n",
       "      <td>0.364947</td>\n",
       "      <td>High Density</td>\n",
       "      <td>0</td>\n",
       "      <td>1</td>\n",
       "      <td>0</td>\n",
       "      <td>0</td>\n",
       "      <td>1</td>\n",
       "      <td>0</td>\n",
       "      <td>1</td>\n",
       "    </tr>\n",
       "  </tbody>\n",
       "</table>\n",
       "</div>"
      ],
      "text/plain": [
       "   Patient_ID       Age  Cancer_Stage  PD-L1_Level  EGFR_Mutation_Count  \\\n",
       "0           1  0.863636             0     0.444444             0.333333   \n",
       "1           2  0.636364             2     0.777778             1.000000   \n",
       "\n",
       "   Tumor_Size   Response  Tumor_Mutation_Burden       BMI CT_Scan_Analysis  \\\n",
       "0      0.6250  Responder               0.386118  0.862619     High Density   \n",
       "1      0.5125  Responder               0.151156  0.364947     High Density   \n",
       "\n",
       "   Gender_Male  Treatment_Type_Immunotherapy  Smoking_Status_Former  \\\n",
       "0            0                             1                      0   \n",
       "1            0                             1                      0   \n",
       "\n",
       "   Smoking_Status_Never  KRAS_Mutation_Status_Positive  \\\n",
       "0                     1                              0   \n",
       "1                     0                              1   \n",
       "\n",
       "   ALK_Rearrangement_Status_Positive  Comorbidities_Yes  \n",
       "0                                  0                  0  \n",
       "1                                  0                  1  "
      ]
     },
     "execution_count": 145,
     "metadata": {},
     "output_type": "execute_result"
    }
   ],
   "source": [
    "# By using maping function\n",
    "\n",
    "data1['Cancer_Stage'] = data1[\"Cancer_Stage\"].map({'Stage II':0,'Stage III':1, 'Stage IV':2})\n",
    "data1.head(2)"
   ]
  },
  {
   "cell_type": "code",
   "execution_count": 146,
   "id": "d92ae85f",
   "metadata": {},
   "outputs": [
    {
     "data": {
      "text/html": [
       "<div>\n",
       "<style scoped>\n",
       "    .dataframe tbody tr th:only-of-type {\n",
       "        vertical-align: middle;\n",
       "    }\n",
       "\n",
       "    .dataframe tbody tr th {\n",
       "        vertical-align: top;\n",
       "    }\n",
       "\n",
       "    .dataframe thead th {\n",
       "        text-align: right;\n",
       "    }\n",
       "</style>\n",
       "<table border=\"1\" class=\"dataframe\">\n",
       "  <thead>\n",
       "    <tr style=\"text-align: right;\">\n",
       "      <th></th>\n",
       "      <th>Patient_ID</th>\n",
       "      <th>Age</th>\n",
       "      <th>Cancer_Stage</th>\n",
       "      <th>PD-L1_Level</th>\n",
       "      <th>EGFR_Mutation_Count</th>\n",
       "      <th>Tumor_Size</th>\n",
       "      <th>Response</th>\n",
       "      <th>Tumor_Mutation_Burden</th>\n",
       "      <th>BMI</th>\n",
       "      <th>CT_Scan_Analysis</th>\n",
       "      <th>Gender_Male</th>\n",
       "      <th>Treatment_Type_Immunotherapy</th>\n",
       "      <th>Smoking_Status_Former</th>\n",
       "      <th>Smoking_Status_Never</th>\n",
       "      <th>KRAS_Mutation_Status_Positive</th>\n",
       "      <th>ALK_Rearrangement_Status_Positive</th>\n",
       "      <th>Comorbidities_Yes</th>\n",
       "    </tr>\n",
       "  </thead>\n",
       "  <tbody>\n",
       "    <tr>\n",
       "      <th>0</th>\n",
       "      <td>1</td>\n",
       "      <td>0.863636</td>\n",
       "      <td>0</td>\n",
       "      <td>0.444444</td>\n",
       "      <td>0.333333</td>\n",
       "      <td>0.6250</td>\n",
       "      <td>Responder</td>\n",
       "      <td>0.386118</td>\n",
       "      <td>0.862619</td>\n",
       "      <td>2</td>\n",
       "      <td>0</td>\n",
       "      <td>1</td>\n",
       "      <td>0</td>\n",
       "      <td>1</td>\n",
       "      <td>0</td>\n",
       "      <td>0</td>\n",
       "      <td>0</td>\n",
       "    </tr>\n",
       "    <tr>\n",
       "      <th>1</th>\n",
       "      <td>2</td>\n",
       "      <td>0.636364</td>\n",
       "      <td>2</td>\n",
       "      <td>0.777778</td>\n",
       "      <td>1.000000</td>\n",
       "      <td>0.5125</td>\n",
       "      <td>Responder</td>\n",
       "      <td>0.151156</td>\n",
       "      <td>0.364947</td>\n",
       "      <td>2</td>\n",
       "      <td>0</td>\n",
       "      <td>1</td>\n",
       "      <td>0</td>\n",
       "      <td>0</td>\n",
       "      <td>1</td>\n",
       "      <td>0</td>\n",
       "      <td>1</td>\n",
       "    </tr>\n",
       "  </tbody>\n",
       "</table>\n",
       "</div>"
      ],
      "text/plain": [
       "   Patient_ID       Age  Cancer_Stage  PD-L1_Level  EGFR_Mutation_Count  \\\n",
       "0           1  0.863636             0     0.444444             0.333333   \n",
       "1           2  0.636364             2     0.777778             1.000000   \n",
       "\n",
       "   Tumor_Size   Response  Tumor_Mutation_Burden       BMI  CT_Scan_Analysis  \\\n",
       "0      0.6250  Responder               0.386118  0.862619                 2   \n",
       "1      0.5125  Responder               0.151156  0.364947                 2   \n",
       "\n",
       "   Gender_Male  Treatment_Type_Immunotherapy  Smoking_Status_Former  \\\n",
       "0            0                             1                      0   \n",
       "1            0                             1                      0   \n",
       "\n",
       "   Smoking_Status_Never  KRAS_Mutation_Status_Positive  \\\n",
       "0                     1                              0   \n",
       "1                     0                              1   \n",
       "\n",
       "   ALK_Rearrangement_Status_Positive  Comorbidities_Yes  \n",
       "0                                  0                  0  \n",
       "1                                  0                  1  "
      ]
     },
     "execution_count": 146,
     "metadata": {},
     "output_type": "execute_result"
    }
   ],
   "source": [
    "# By using maping function\n",
    "\n",
    "data1['CT_Scan_Analysis'] = data1[\"CT_Scan_Analysis\"].map({'Low Density':0,'Moderate Density':1, 'High Density':2})\n",
    "data1.head(2)"
   ]
  },
  {
   "cell_type": "markdown",
   "id": "c9d40aae",
   "metadata": {},
   "source": [
    "To perform label encoding on the Cancer_Stage column using the map function, we can map each stage to a meaningful ordinal value. Since Cancer_Stage is ordinal, encoding it in sequence (e.g., Stage I = 0, Stage II = 1, Stage III = 2) will maintain the meaningful order."
   ]
  },
  {
   "cell_type": "code",
   "execution_count": 147,
   "id": "df6a3c2b",
   "metadata": {},
   "outputs": [],
   "source": [
    "# Import LabelEncoder\n",
    "\n",
    "from sklearn.preprocessing import LabelEncoder\n",
    "\n",
    "Encoder = LabelEncoder()"
   ]
  },
  {
   "cell_type": "code",
   "execution_count": 148,
   "id": "b2f02e0a",
   "metadata": {},
   "outputs": [
    {
     "data": {
      "text/html": [
       "<div>\n",
       "<style scoped>\n",
       "    .dataframe tbody tr th:only-of-type {\n",
       "        vertical-align: middle;\n",
       "    }\n",
       "\n",
       "    .dataframe tbody tr th {\n",
       "        vertical-align: top;\n",
       "    }\n",
       "\n",
       "    .dataframe thead th {\n",
       "        text-align: right;\n",
       "    }\n",
       "</style>\n",
       "<table border=\"1\" class=\"dataframe\">\n",
       "  <thead>\n",
       "    <tr style=\"text-align: right;\">\n",
       "      <th></th>\n",
       "      <th>Patient_ID</th>\n",
       "      <th>Age</th>\n",
       "      <th>Cancer_Stage</th>\n",
       "      <th>PD-L1_Level</th>\n",
       "      <th>EGFR_Mutation_Count</th>\n",
       "      <th>Tumor_Size</th>\n",
       "      <th>Response</th>\n",
       "      <th>Tumor_Mutation_Burden</th>\n",
       "      <th>BMI</th>\n",
       "      <th>CT_Scan_Analysis</th>\n",
       "      <th>Gender_Male</th>\n",
       "      <th>Treatment_Type_Immunotherapy</th>\n",
       "      <th>Smoking_Status_Former</th>\n",
       "      <th>Smoking_Status_Never</th>\n",
       "      <th>KRAS_Mutation_Status_Positive</th>\n",
       "      <th>ALK_Rearrangement_Status_Positive</th>\n",
       "      <th>Comorbidities_Yes</th>\n",
       "    </tr>\n",
       "  </thead>\n",
       "  <tbody>\n",
       "    <tr>\n",
       "      <th>0</th>\n",
       "      <td>1</td>\n",
       "      <td>0.863636</td>\n",
       "      <td>0</td>\n",
       "      <td>0.444444</td>\n",
       "      <td>0.333333</td>\n",
       "      <td>0.6250</td>\n",
       "      <td>1</td>\n",
       "      <td>0.386118</td>\n",
       "      <td>0.862619</td>\n",
       "      <td>2</td>\n",
       "      <td>0</td>\n",
       "      <td>1</td>\n",
       "      <td>0</td>\n",
       "      <td>1</td>\n",
       "      <td>0</td>\n",
       "      <td>0</td>\n",
       "      <td>0</td>\n",
       "    </tr>\n",
       "    <tr>\n",
       "      <th>1</th>\n",
       "      <td>2</td>\n",
       "      <td>0.636364</td>\n",
       "      <td>2</td>\n",
       "      <td>0.777778</td>\n",
       "      <td>1.000000</td>\n",
       "      <td>0.5125</td>\n",
       "      <td>1</td>\n",
       "      <td>0.151156</td>\n",
       "      <td>0.364947</td>\n",
       "      <td>2</td>\n",
       "      <td>0</td>\n",
       "      <td>1</td>\n",
       "      <td>0</td>\n",
       "      <td>0</td>\n",
       "      <td>1</td>\n",
       "      <td>0</td>\n",
       "      <td>1</td>\n",
       "    </tr>\n",
       "    <tr>\n",
       "      <th>2</th>\n",
       "      <td>3</td>\n",
       "      <td>0.318182</td>\n",
       "      <td>2</td>\n",
       "      <td>0.000000</td>\n",
       "      <td>1.000000</td>\n",
       "      <td>0.4625</td>\n",
       "      <td>0</td>\n",
       "      <td>0.189779</td>\n",
       "      <td>0.561902</td>\n",
       "      <td>0</td>\n",
       "      <td>1</td>\n",
       "      <td>1</td>\n",
       "      <td>1</td>\n",
       "      <td>0</td>\n",
       "      <td>0</td>\n",
       "      <td>0</td>\n",
       "      <td>1</td>\n",
       "    </tr>\n",
       "    <tr>\n",
       "      <th>3</th>\n",
       "      <td>4</td>\n",
       "      <td>0.954545</td>\n",
       "      <td>2</td>\n",
       "      <td>0.333333</td>\n",
       "      <td>1.000000</td>\n",
       "      <td>0.1750</td>\n",
       "      <td>0</td>\n",
       "      <td>0.693378</td>\n",
       "      <td>0.681937</td>\n",
       "      <td>0</td>\n",
       "      <td>1</td>\n",
       "      <td>1</td>\n",
       "      <td>0</td>\n",
       "      <td>1</td>\n",
       "      <td>0</td>\n",
       "      <td>0</td>\n",
       "      <td>0</td>\n",
       "    </tr>\n",
       "    <tr>\n",
       "      <th>4</th>\n",
       "      <td>5</td>\n",
       "      <td>0.159091</td>\n",
       "      <td>2</td>\n",
       "      <td>0.470823</td>\n",
       "      <td>0.666667</td>\n",
       "      <td>0.2125</td>\n",
       "      <td>1</td>\n",
       "      <td>0.404238</td>\n",
       "      <td>0.000000</td>\n",
       "      <td>2</td>\n",
       "      <td>0</td>\n",
       "      <td>0</td>\n",
       "      <td>0</td>\n",
       "      <td>0</td>\n",
       "      <td>0</td>\n",
       "      <td>0</td>\n",
       "      <td>0</td>\n",
       "    </tr>\n",
       "  </tbody>\n",
       "</table>\n",
       "</div>"
      ],
      "text/plain": [
       "   Patient_ID       Age  Cancer_Stage  PD-L1_Level  EGFR_Mutation_Count  \\\n",
       "0           1  0.863636             0     0.444444             0.333333   \n",
       "1           2  0.636364             2     0.777778             1.000000   \n",
       "2           3  0.318182             2     0.000000             1.000000   \n",
       "3           4  0.954545             2     0.333333             1.000000   \n",
       "4           5  0.159091             2     0.470823             0.666667   \n",
       "\n",
       "   Tumor_Size  Response  Tumor_Mutation_Burden       BMI  CT_Scan_Analysis  \\\n",
       "0      0.6250         1               0.386118  0.862619                 2   \n",
       "1      0.5125         1               0.151156  0.364947                 2   \n",
       "2      0.4625         0               0.189779  0.561902                 0   \n",
       "3      0.1750         0               0.693378  0.681937                 0   \n",
       "4      0.2125         1               0.404238  0.000000                 2   \n",
       "\n",
       "   Gender_Male  Treatment_Type_Immunotherapy  Smoking_Status_Former  \\\n",
       "0            0                             1                      0   \n",
       "1            0                             1                      0   \n",
       "2            1                             1                      1   \n",
       "3            1                             1                      0   \n",
       "4            0                             0                      0   \n",
       "\n",
       "   Smoking_Status_Never  KRAS_Mutation_Status_Positive  \\\n",
       "0                     1                              0   \n",
       "1                     0                              1   \n",
       "2                     0                              0   \n",
       "3                     1                              0   \n",
       "4                     0                              0   \n",
       "\n",
       "   ALK_Rearrangement_Status_Positive  Comorbidities_Yes  \n",
       "0                                  0                  0  \n",
       "1                                  0                  1  \n",
       "2                                  0                  1  \n",
       "3                                  0                  0  \n",
       "4                                  0                  0  "
      ]
     },
     "execution_count": 148,
     "metadata": {},
     "output_type": "execute_result"
    }
   ],
   "source": [
    "# Convert the target column into numerical\n",
    "\n",
    "data1['Response'] = Encoder.fit_transform(data1['Response'])\n",
    "data1.head()"
   ]
  },
  {
   "cell_type": "code",
   "execution_count": 149,
   "id": "5816123c",
   "metadata": {},
   "outputs": [
    {
     "data": {
      "text/html": [
       "<div>\n",
       "<style scoped>\n",
       "    .dataframe tbody tr th:only-of-type {\n",
       "        vertical-align: middle;\n",
       "    }\n",
       "\n",
       "    .dataframe tbody tr th {\n",
       "        vertical-align: top;\n",
       "    }\n",
       "\n",
       "    .dataframe thead th {\n",
       "        text-align: right;\n",
       "    }\n",
       "</style>\n",
       "<table border=\"1\" class=\"dataframe\">\n",
       "  <thead>\n",
       "    <tr style=\"text-align: right;\">\n",
       "      <th></th>\n",
       "      <th>Patient_ID</th>\n",
       "      <th>Age</th>\n",
       "      <th>Cancer_Stage</th>\n",
       "      <th>PD-L1_Level</th>\n",
       "      <th>EGFR_Mutation_Count</th>\n",
       "      <th>Tumor_Size</th>\n",
       "      <th>Tumor_Mutation_Burden</th>\n",
       "      <th>BMI</th>\n",
       "      <th>CT_Scan_Analysis</th>\n",
       "      <th>Gender_Male</th>\n",
       "      <th>Treatment_Type_Immunotherapy</th>\n",
       "      <th>Smoking_Status_Former</th>\n",
       "      <th>Smoking_Status_Never</th>\n",
       "      <th>KRAS_Mutation_Status_Positive</th>\n",
       "      <th>ALK_Rearrangement_Status_Positive</th>\n",
       "      <th>Comorbidities_Yes</th>\n",
       "      <th>Response</th>\n",
       "    </tr>\n",
       "  </thead>\n",
       "  <tbody>\n",
       "    <tr>\n",
       "      <th>0</th>\n",
       "      <td>1</td>\n",
       "      <td>0.863636</td>\n",
       "      <td>0</td>\n",
       "      <td>0.444444</td>\n",
       "      <td>0.333333</td>\n",
       "      <td>0.6250</td>\n",
       "      <td>0.386118</td>\n",
       "      <td>0.862619</td>\n",
       "      <td>2</td>\n",
       "      <td>0</td>\n",
       "      <td>1</td>\n",
       "      <td>0</td>\n",
       "      <td>1</td>\n",
       "      <td>0</td>\n",
       "      <td>0</td>\n",
       "      <td>0</td>\n",
       "      <td>1</td>\n",
       "    </tr>\n",
       "    <tr>\n",
       "      <th>1</th>\n",
       "      <td>2</td>\n",
       "      <td>0.636364</td>\n",
       "      <td>2</td>\n",
       "      <td>0.777778</td>\n",
       "      <td>1.000000</td>\n",
       "      <td>0.5125</td>\n",
       "      <td>0.151156</td>\n",
       "      <td>0.364947</td>\n",
       "      <td>2</td>\n",
       "      <td>0</td>\n",
       "      <td>1</td>\n",
       "      <td>0</td>\n",
       "      <td>0</td>\n",
       "      <td>1</td>\n",
       "      <td>0</td>\n",
       "      <td>1</td>\n",
       "      <td>1</td>\n",
       "    </tr>\n",
       "    <tr>\n",
       "      <th>2</th>\n",
       "      <td>3</td>\n",
       "      <td>0.318182</td>\n",
       "      <td>2</td>\n",
       "      <td>0.000000</td>\n",
       "      <td>1.000000</td>\n",
       "      <td>0.4625</td>\n",
       "      <td>0.189779</td>\n",
       "      <td>0.561902</td>\n",
       "      <td>0</td>\n",
       "      <td>1</td>\n",
       "      <td>1</td>\n",
       "      <td>1</td>\n",
       "      <td>0</td>\n",
       "      <td>0</td>\n",
       "      <td>0</td>\n",
       "      <td>1</td>\n",
       "      <td>0</td>\n",
       "    </tr>\n",
       "    <tr>\n",
       "      <th>3</th>\n",
       "      <td>4</td>\n",
       "      <td>0.954545</td>\n",
       "      <td>2</td>\n",
       "      <td>0.333333</td>\n",
       "      <td>1.000000</td>\n",
       "      <td>0.1750</td>\n",
       "      <td>0.693378</td>\n",
       "      <td>0.681937</td>\n",
       "      <td>0</td>\n",
       "      <td>1</td>\n",
       "      <td>1</td>\n",
       "      <td>0</td>\n",
       "      <td>1</td>\n",
       "      <td>0</td>\n",
       "      <td>0</td>\n",
       "      <td>0</td>\n",
       "      <td>0</td>\n",
       "    </tr>\n",
       "    <tr>\n",
       "      <th>4</th>\n",
       "      <td>5</td>\n",
       "      <td>0.159091</td>\n",
       "      <td>2</td>\n",
       "      <td>0.470823</td>\n",
       "      <td>0.666667</td>\n",
       "      <td>0.2125</td>\n",
       "      <td>0.404238</td>\n",
       "      <td>0.000000</td>\n",
       "      <td>2</td>\n",
       "      <td>0</td>\n",
       "      <td>0</td>\n",
       "      <td>0</td>\n",
       "      <td>0</td>\n",
       "      <td>0</td>\n",
       "      <td>0</td>\n",
       "      <td>0</td>\n",
       "      <td>1</td>\n",
       "    </tr>\n",
       "  </tbody>\n",
       "</table>\n",
       "</div>"
      ],
      "text/plain": [
       "   Patient_ID       Age  Cancer_Stage  PD-L1_Level  EGFR_Mutation_Count  \\\n",
       "0           1  0.863636             0     0.444444             0.333333   \n",
       "1           2  0.636364             2     0.777778             1.000000   \n",
       "2           3  0.318182             2     0.000000             1.000000   \n",
       "3           4  0.954545             2     0.333333             1.000000   \n",
       "4           5  0.159091             2     0.470823             0.666667   \n",
       "\n",
       "   Tumor_Size  Tumor_Mutation_Burden       BMI  CT_Scan_Analysis  Gender_Male  \\\n",
       "0      0.6250               0.386118  0.862619                 2            0   \n",
       "1      0.5125               0.151156  0.364947                 2            0   \n",
       "2      0.4625               0.189779  0.561902                 0            1   \n",
       "3      0.1750               0.693378  0.681937                 0            1   \n",
       "4      0.2125               0.404238  0.000000                 2            0   \n",
       "\n",
       "   Treatment_Type_Immunotherapy  Smoking_Status_Former  Smoking_Status_Never  \\\n",
       "0                             1                      0                     1   \n",
       "1                             1                      0                     0   \n",
       "2                             1                      1                     0   \n",
       "3                             1                      0                     1   \n",
       "4                             0                      0                     0   \n",
       "\n",
       "   KRAS_Mutation_Status_Positive  ALK_Rearrangement_Status_Positive  \\\n",
       "0                              0                                  0   \n",
       "1                              1                                  0   \n",
       "2                              0                                  0   \n",
       "3                              0                                  0   \n",
       "4                              0                                  0   \n",
       "\n",
       "   Comorbidities_Yes  Response  \n",
       "0                  0         1  \n",
       "1                  1         1  \n",
       "2                  1         0  \n",
       "3                  0         0  \n",
       "4                  0         1  "
      ]
     },
     "execution_count": 149,
     "metadata": {},
     "output_type": "execute_result"
    }
   ],
   "source": [
    "# Rearrange the target column\n",
    "\n",
    "# Empty list for columns\n",
    "columns = []\n",
    "\n",
    "# adding all columns except \"Response\" col\n",
    "for i in data1.columns:\n",
    "    if i != \"Response\":\n",
    "        columns.append(i)\n",
    "\n",
    "# append response column at the end         \n",
    "columns.append('Response')\n",
    "\n",
    "new_df = data1[columns]\n",
    "\n",
    "new_df.head()"
   ]
  },
  {
   "cell_type": "code",
   "execution_count": 150,
   "id": "5acd7322",
   "metadata": {},
   "outputs": [
    {
     "data": {
      "text/plain": [
       "0.19465227170187077"
      ]
     },
     "execution_count": 150,
     "metadata": {},
     "output_type": "execute_result"
    }
   ],
   "source": [
    "new_df[\"Tumor_Size\"].skew()"
   ]
  },
  {
   "cell_type": "code",
   "execution_count": 151,
   "id": "866f115c",
   "metadata": {},
   "outputs": [
    {
     "data": {
      "image/png": "[encoded data removed]",
      "text/plain": [
       "<Figure size 432x288 with 1 Axes>"
      ]
     },
     "metadata": {
      "needs_background": "light"
     },
     "output_type": "display_data"
    }
   ],
   "source": [
    "import matplotlib.pyplot as plt\n",
    "\n",
    "plt.hist(data['PD-L1_Level'], bins=10, edgecolor='black')\n",
    "plt.title('Histogram of PD-L1_Level')\n",
    "plt.xlabel('Values')\n",
    "plt.ylabel('Frequency')\n",
    "plt.show()"
   ]
  },
  {
   "cell_type": "code",
   "execution_count": 152,
   "id": "77a77f09",
   "metadata": {},
   "outputs": [
    {
     "data": {
      "image/png": "[encoded data removed]",
      "text/plain": [
       "<Figure size 432x288 with 1 Axes>"
      ]
     },
     "metadata": {
      "needs_background": "light"
     },
     "output_type": "display_data"
    }
   ],
   "source": [
    "import matplotlib.pyplot as plt\n",
    "\n",
    "plt.hist(data['PD-L1_Level'], bins=20, edgecolor='black')\n",
    "plt.title('Histogram of PD-L1_Level')\n",
    "plt.xlabel('Values')\n",
    "plt.ylabel('Frequency')\n",
    "plt.show()"
   ]
  },
  {
   "cell_type": "code",
   "execution_count": 153,
   "id": "9aa1580d",
   "metadata": {},
   "outputs": [
    {
     "data": {
      "text/html": [
       "<div>\n",
       "<style scoped>\n",
       "    .dataframe tbody tr th:only-of-type {\n",
       "        vertical-align: middle;\n",
       "    }\n",
       "\n",
       "    .dataframe tbody tr th {\n",
       "        vertical-align: top;\n",
       "    }\n",
       "\n",
       "    .dataframe thead th {\n",
       "        text-align: right;\n",
       "    }\n",
       "</style>\n",
       "<table border=\"1\" class=\"dataframe\">\n",
       "  <thead>\n",
       "    <tr style=\"text-align: right;\">\n",
       "      <th></th>\n",
       "      <th>Patient_ID</th>\n",
       "      <th>Age</th>\n",
       "      <th>Cancer_Stage</th>\n",
       "      <th>PD-L1_Level</th>\n",
       "      <th>EGFR_Mutation_Count</th>\n",
       "      <th>Tumor_Size</th>\n",
       "      <th>Tumor_Mutation_Burden</th>\n",
       "      <th>BMI</th>\n",
       "      <th>CT_Scan_Analysis</th>\n",
       "      <th>Gender_Male</th>\n",
       "      <th>Treatment_Type_Immunotherapy</th>\n",
       "      <th>Smoking_Status_Former</th>\n",
       "      <th>Smoking_Status_Never</th>\n",
       "      <th>KRAS_Mutation_Status_Positive</th>\n",
       "      <th>ALK_Rearrangement_Status_Positive</th>\n",
       "      <th>Comorbidities_Yes</th>\n",
       "      <th>Response</th>\n",
       "    </tr>\n",
       "  </thead>\n",
       "  <tbody>\n",
       "    <tr>\n",
       "      <th>0</th>\n",
       "      <td>1</td>\n",
       "      <td>0.863636</td>\n",
       "      <td>0</td>\n",
       "      <td>0.444444</td>\n",
       "      <td>0.333333</td>\n",
       "      <td>0.6250</td>\n",
       "      <td>0.386118</td>\n",
       "      <td>0.862619</td>\n",
       "      <td>2</td>\n",
       "      <td>0</td>\n",
       "      <td>1</td>\n",
       "      <td>0</td>\n",
       "      <td>1</td>\n",
       "      <td>0</td>\n",
       "      <td>0</td>\n",
       "      <td>0</td>\n",
       "      <td>1</td>\n",
       "    </tr>\n",
       "    <tr>\n",
       "      <th>1</th>\n",
       "      <td>2</td>\n",
       "      <td>0.636364</td>\n",
       "      <td>2</td>\n",
       "      <td>0.777778</td>\n",
       "      <td>1.000000</td>\n",
       "      <td>0.5125</td>\n",
       "      <td>0.151156</td>\n",
       "      <td>0.364947</td>\n",
       "      <td>2</td>\n",
       "      <td>0</td>\n",
       "      <td>1</td>\n",
       "      <td>0</td>\n",
       "      <td>0</td>\n",
       "      <td>1</td>\n",
       "      <td>0</td>\n",
       "      <td>1</td>\n",
       "      <td>1</td>\n",
       "    </tr>\n",
       "    <tr>\n",
       "      <th>2</th>\n",
       "      <td>3</td>\n",
       "      <td>0.318182</td>\n",
       "      <td>2</td>\n",
       "      <td>0.000000</td>\n",
       "      <td>1.000000</td>\n",
       "      <td>0.4625</td>\n",
       "      <td>0.189779</td>\n",
       "      <td>0.561902</td>\n",
       "      <td>0</td>\n",
       "      <td>1</td>\n",
       "      <td>1</td>\n",
       "      <td>1</td>\n",
       "      <td>0</td>\n",
       "      <td>0</td>\n",
       "      <td>0</td>\n",
       "      <td>1</td>\n",
       "      <td>0</td>\n",
       "    </tr>\n",
       "    <tr>\n",
       "      <th>3</th>\n",
       "      <td>4</td>\n",
       "      <td>0.954545</td>\n",
       "      <td>2</td>\n",
       "      <td>0.333333</td>\n",
       "      <td>1.000000</td>\n",
       "      <td>0.1750</td>\n",
       "      <td>0.693378</td>\n",
       "      <td>0.681937</td>\n",
       "      <td>0</td>\n",
       "      <td>1</td>\n",
       "      <td>1</td>\n",
       "      <td>0</td>\n",
       "      <td>1</td>\n",
       "      <td>0</td>\n",
       "      <td>0</td>\n",
       "      <td>0</td>\n",
       "      <td>0</td>\n",
       "    </tr>\n",
       "    <tr>\n",
       "      <th>4</th>\n",
       "      <td>5</td>\n",
       "      <td>0.159091</td>\n",
       "      <td>2</td>\n",
       "      <td>0.470823</td>\n",
       "      <td>0.666667</td>\n",
       "      <td>0.2125</td>\n",
       "      <td>0.404238</td>\n",
       "      <td>0.000000</td>\n",
       "      <td>2</td>\n",
       "      <td>0</td>\n",
       "      <td>0</td>\n",
       "      <td>0</td>\n",
       "      <td>0</td>\n",
       "      <td>0</td>\n",
       "      <td>0</td>\n",
       "      <td>0</td>\n",
       "      <td>1</td>\n",
       "    </tr>\n",
       "  </tbody>\n",
       "</table>\n",
       "</div>"
      ],
      "text/plain": [
       "   Patient_ID       Age  Cancer_Stage  PD-L1_Level  EGFR_Mutation_Count  \\\n",
       "0           1  0.863636             0     0.444444             0.333333   \n",
       "1           2  0.636364             2     0.777778             1.000000   \n",
       "2           3  0.318182             2     0.000000             1.000000   \n",
       "3           4  0.954545             2     0.333333             1.000000   \n",
       "4           5  0.159091             2     0.470823             0.666667   \n",
       "\n",
       "   Tumor_Size  Tumor_Mutation_Burden       BMI  CT_Scan_Analysis  Gender_Male  \\\n",
       "0      0.6250               0.386118  0.862619                 2            0   \n",
       "1      0.5125               0.151156  0.364947                 2            0   \n",
       "2      0.4625               0.189779  0.561902                 0            1   \n",
       "3      0.1750               0.693378  0.681937                 0            1   \n",
       "4      0.2125               0.404238  0.000000                 2            0   \n",
       "\n",
       "   Treatment_Type_Immunotherapy  Smoking_Status_Former  Smoking_Status_Never  \\\n",
       "0                             1                      0                     1   \n",
       "1                             1                      0                     0   \n",
       "2                             1                      1                     0   \n",
       "3                             1                      0                     1   \n",
       "4                             0                      0                     0   \n",
       "\n",
       "   KRAS_Mutation_Status_Positive  ALK_Rearrangement_Status_Positive  \\\n",
       "0                              0                                  0   \n",
       "1                              1                                  0   \n",
       "2                              0                                  0   \n",
       "3                              0                                  0   \n",
       "4                              0                                  0   \n",
       "\n",
       "   Comorbidities_Yes  Response  \n",
       "0                  0         1  \n",
       "1                  1         1  \n",
       "2                  1         0  \n",
       "3                  0         0  \n",
       "4                  0         1  "
      ]
     },
     "execution_count": 153,
     "metadata": {},
     "output_type": "execute_result"
    }
   ],
   "source": [
    "new_df.head()"
   ]
  },
  {
   "cell_type": "code",
   "execution_count": 176,
   "id": "1721bb86",
   "metadata": {},
   "outputs": [],
   "source": [
    "# Splitting data\n",
    "from sklearn.metrics import recall_score, accuracy_score, precision_score, f1_score, classification_report\n",
    "from sklearn.model_selection import train_test_split, GridSearchCV\n",
    "\n",
    "X = new_df.drop(columns=['Patient_ID', 'Response'])\n",
    "y = new_df['Response']\n",
    "X_train, X_test, y_train, y_test = train_test_split(X, y, test_size=0.2, random_state=10)"
   ]
  },
  {
   "cell_type": "code",
   "execution_count": 178,
   "id": "de0bbef0",
   "metadata": {},
   "outputs": [
    {
     "name": "stdout",
     "output_type": "stream",
     "text": [
      "Best Logistic Regression Model: LogisticRegression(C=0.01)\n",
      "Recall for Logistic Regression: 0.8131868131868132\n",
      "Accuracy for Logistic Regression: 0.7683333333333333\n"
     ]
    },
    {
     "name": "stderr",
     "output_type": "stream",
     "text": [
      "C:\\Users\\ravik\\Documents\\anaconda\\lib\\site-packages\\sklearn\\model_selection\\_validation.py:540: FitFailedWarning: \n",
      "80 fits failed out of a total of 160.\n",
      "The score on these train-test partitions for these parameters will be set to nan.\n",
      "If these failures are not expected, you can try to debug them by setting error_score='raise'.\n",
      "\n",
      "Below are more details about the failures:\n",
      "--------------------------------------------------------------------------------\n",
      "80 fits failed with the following error:\n",
      "Traceback (most recent call last):\n",
      "  File \"C:\\Users\\ravik\\Documents\\anaconda\\lib\\site-packages\\sklearn\\model_selection\\_validation.py\", line 888, in _fit_and_score\n",
      "    estimator.fit(X_train, y_train, **fit_params)\n",
      "  File \"C:\\Users\\ravik\\Documents\\anaconda\\lib\\site-packages\\sklearn\\base.py\", line 1473, in wrapper\n",
      "    return fit_method(estimator, *args, **kwargs)\n",
      "  File \"C:\\Users\\ravik\\Documents\\anaconda\\lib\\site-packages\\sklearn\\linear_model\\_logistic.py\", line 1194, in fit\n",
      "    solver = _check_solver(self.solver, self.penalty, self.dual)\n",
      "  File \"C:\\Users\\ravik\\Documents\\anaconda\\lib\\site-packages\\sklearn\\linear_model\\_logistic.py\", line 67, in _check_solver\n",
      "    raise ValueError(\n",
      "ValueError: Solver lbfgs supports only 'l2' or None penalties, got l1 penalty.\n",
      "\n",
      "  warnings.warn(some_fits_failed_message, FitFailedWarning)\n",
      "C:\\Users\\ravik\\Documents\\anaconda\\lib\\site-packages\\sklearn\\model_selection\\_search.py:1103: UserWarning: One or more of the test scores are non-finite: [       nan 0.79344262        nan 0.79344262        nan 0.79344262\n",
      "        nan 0.79344262        nan 0.78688525        nan 0.78688525\n",
      "        nan 0.78688525        nan 0.78688525        nan 0.78852459\n",
      "        nan 0.78852459        nan 0.78852459        nan 0.78852459\n",
      "        nan 0.78606557        nan 0.78606557        nan 0.78606557\n",
      "        nan 0.78606557]\n",
      "  warnings.warn(\n"
     ]
    }
   ],
   "source": [
    "\n",
    "from sklearn.preprocessing import StandardScaler\n",
    "from sklearn.linear_model import LogisticRegression\n",
    "\n",
    "\n",
    "# Define parameter grid for Logistic Regression\n",
    "\n",
    "param_grid_lr = {'C': [0.01, 0.1, 1, 10],\n",
    "                 'penalty': ['l1', 'l2'],\n",
    "                'max_iter':[100, 300,500, 700]}\n",
    "\n",
    "\n",
    "# Grid search for Logistic Regression\n",
    "lr = LogisticRegression()\n",
    "grid_search_lr = GridSearchCV(lr, param_grid_lr, cv=5, scoring='recall', n_jobs=-1)\n",
    "grid_search_lr.fit(X_train, y_train)\n",
    "\n",
    "# Evaluate Logistic Regression model\n",
    "best_model_lr = grid_search_lr.best_estimator_\n",
    "y_pred_lr = best_model_lr.predict(X_test)\n",
    "recall_lr = recall_score(y_test, y_pred_lr)\n",
    "accuracy_lr = accuracy_score(y_test, y_pred_lr)\n",
    "\n",
    "print(\"Best Logistic Regression Model:\", best_model_lr)\n",
    "print(\"Recall for Logistic Regression:\", recall_lr)\n",
    "print(\"Accuracy for Logistic Regression:\", accuracy_lr)\n",
    "\n"
   ]
  },
  {
   "cell_type": "code",
   "execution_count": 164,
   "id": "faca8be8",
   "metadata": {},
   "outputs": [
    {
     "name": "stdout",
     "output_type": "stream",
     "text": [
      "Best XGBoost Model: XGBClassifier(base_score=None, booster=None, callbacks=None,\n",
      "              colsample_bylevel=None, colsample_bynode=None,\n",
      "              colsample_bytree=None, device=None, early_stopping_rounds=None,\n",
      "              enable_categorical=False, eval_metric=None, feature_types=None,\n",
      "              gamma=None, grow_policy=None, importance_type=None,\n",
      "              interaction_constraints=None, learning_rate=0.1, max_bin=None,\n",
      "              max_cat_threshold=None, max_cat_to_onehot=None,\n",
      "              max_delta_step=None, max_depth=3, max_leaves=None,\n",
      "              min_child_weight=None, missing=nan, monotone_constraints=None,\n",
      "              multi_strategy=None, n_estimators=200, n_jobs=None,\n",
      "              num_parallel_tree=None, random_state=42, ...)\n",
      "Recall for XGBoost: 0.7770491803278688\n",
      "Accuracy for XGBoost: 0.8016666666666666\n",
      "Classification Report:\n",
      "               precision    recall  f1-score   support\n",
      "\n",
      "           0       0.78      0.83      0.80       295\n",
      "           1       0.82      0.78      0.80       305\n",
      "\n",
      "    accuracy                           0.80       600\n",
      "   macro avg       0.80      0.80      0.80       600\n",
      "weighted avg       0.80      0.80      0.80       600\n",
      "\n"
     ]
    }
   ],
   "source": [
    "\n",
    "\n",
    "from xgboost import XGBClassifier\n",
    "from sklearn.preprocessing import StandardScaler\n",
    "\n",
    "\n",
    "\n",
    "# Define parameter grid for XGBoost\n",
    "param_grid_xgb = {'n_estimators': [100, 200, 300,500],\n",
    "                  'max_depth': [3, 5, 7,9],\n",
    "                  'learning_rate': [0.01, 0.1, 0.001]}\n",
    "\n",
    "# Grid search for XGBoost\n",
    "xgb = XGBClassifier(random_state=42)\n",
    "grid_search_xgb = GridSearchCV(xgb, param_grid_xgb, cv=5, scoring='recall', n_jobs=-1)\n",
    "grid_search_xgb.fit(X_train, y_train)\n",
    "\n",
    "# Evaluate XGBoost model\n",
    "best_model_xgb = grid_search_xgb.best_estimator_\n",
    "y_pred_xgb = best_model_xgb.predict(X_test\n",
    "                                   )\n",
    "recall_xgb = recall_score(y_test, y_pred_xgb)\n",
    "accuracy_xgb = accuracy_score(y_test, y_pred_xgb)\n",
    "\n",
    "print(\"Best XGBoost Model:\", best_model_xgb)\n",
    "print(\"Recall for XGBoost:\", recall_xgb)\n",
    "print(\"Accuracy for XGBoost:\", accuracy_xgb)\n",
    "print(\"Classification Report:\\n\", classification_report(y_test, y_pred_xgb))\n",
    "\n"
   ]
  },
  {
   "cell_type": "code",
   "execution_count": 177,
   "id": "c69a46d7",
   "metadata": {},
   "outputs": [
    {
     "name": "stdout",
     "output_type": "stream",
     "text": [
      "Best Hyperparameters: {'ccp_alpha': 0, 'criterion': 'gini', 'max_depth': 5, 'min_samples_leaf': 10, 'min_samples_split': 50}\n",
      "Test Accuracy: 0.8066666666666666\n",
      "Classification Report:\n",
      "               precision    recall  f1-score   support\n",
      "\n",
      "           0       0.80      0.85      0.83       327\n",
      "           1       0.81      0.75      0.78       273\n",
      "\n",
      "    accuracy                           0.81       600\n",
      "   macro avg       0.81      0.80      0.80       600\n",
      "weighted avg       0.81      0.81      0.81       600\n",
      "\n"
     ]
    }
   ],
   "source": [
    "from sklearn.tree import DecisionTreeClassifier\n",
    " \n",
    "# Define the model\n",
    "dt_model = DecisionTreeClassifier()\n",
    " \n",
    "# Define hyperparameter grid for tuning\n",
    "param_grid = {\n",
    "    'criterion': ['gini', 'entropy'],            # Measure of split quality\n",
    "    'max_depth': [5, 10, 20],                    # Depth of the tree\n",
    "    'min_samples_split': [50, 70, 100],           # Min samples required to split an internal node\n",
    "    'min_samples_leaf': [10, 20],                 # Min samples required to be a leaf nod\n",
    "    'ccp_alpha': [0, 0.1, 0.3]                      \n",
    "}\n",
    " \n",
    "# Set up GridSearchCV with cross-validation\n",
    "grid_search = GridSearchCV(estimator=dt_model, param_grid=param_grid, cv=5, scoring='accuracy', n_jobs=-1)\n",
    " \n",
    "# Fit the model to the training data\n",
    "grid_search.fit(X_train, y_train)\n",
    " \n",
    "# Get the best model from grid search\n",
    "best_dt_model = grid_search.best_estimator_\n",
    " \n",
    "# Evaluate the model on the test data\n",
    "y_pred = best_dt_model.predict(X_test)\n",
    " \n",
    "# Print out the results of the evaluation\n",
    "print(\"Best Hyperparameters:\", grid_search.best_params_)\n",
    "print(\"Test Accuracy:\", accuracy_score(y_test, y_pred))\n",
    "print(\"Classification Report:\\n\", classification_report(y_test, y_pred))"
   ]
  },
  {
   "cell_type": "code",
   "execution_count": 158,
   "id": "77dcdb7f",
   "metadata": {},
   "outputs": [
    {
     "name": "stdout",
     "output_type": "stream",
     "text": [
      "Best Parameters: {'C': 0.1, 'gamma': 0.01, 'kernel': 'linear'}\n",
      "Best Cross-Validation Score: 0.7816666666666667\n",
      "Test Data Accuracy: 0.795\n",
      "Precision for SVC: 0.7935483870967742\n",
      "recall for SVC: 0.8065573770491803\n",
      "F1 score for SVC: 0.8\n",
      "Classification Report:\n",
      "               precision    recall  f1-score   support\n",
      "\n",
      "           0       0.80      0.78      0.79       295\n",
      "           1       0.79      0.81      0.80       305\n",
      "\n",
      "    accuracy                           0.80       600\n",
      "   macro avg       0.80      0.79      0.79       600\n",
      "weighted avg       0.80      0.80      0.79       600\n",
      "\n"
     ]
    }
   ],
   "source": [
    "\n",
    "from sklearn.svm import SVC\n",
    "\n",
    "# Define parameter grid\n",
    "param_grid = {\n",
    "    'C': [0.1, 1, 10],\n",
    "    'gamma': [0.01, 0.1, 1],\n",
    "    'kernel': ['linear', 'poly', 'rbf', 'sigmoid']  # Corrected typo in 'poly'\n",
    "}\n",
    "\n",
    "# Initialize the SVC model\n",
    "svm_model = SVC()\n",
    "\n",
    "# Set up GridSearchCV\n",
    "grid_search = GridSearchCV(svm_model, param_grid, cv=5, scoring='accuracy')\n",
    "grid_search.fit(X_train, y_train)\n",
    "\n",
    "# Output the best parameters and score from grid search\n",
    "print('Best Parameters:', grid_search.best_params_)\n",
    "print('Best Cross-Validation Score:', grid_search.best_score_)\n",
    "\n",
    "# Use the best model to make predictions on the test set\n",
    "best_model = grid_search.best_estimator_\n",
    "y_pred = best_model.predict(X_test)\n",
    "\n",
    "# Calculate and print accuracy on test data\n",
    "test_data_score = accuracy_score(y_test, y_pred)\n",
    "print('Test Data Accuracy:', test_data_score)\n",
    "\n",
    "precision_svc = precision_score(y_test, y_pred)\n",
    "recall_svc = recall_score(y_test, y_pred)\n",
    "f1_score_svc = f1_score(y_test, y_pred)\n",
    "\n",
    "print(\"Precision for SVC:\", precision_svc)\n",
    "print(\"recall for SVC:\", recall_svc)\n",
    "print(\"F1 score for SVC:\", f1_score_svc)\n",
    "print(\"Classification Report:\\n\", classification_report(y_test, y_pred))\n",
    "\n"
   ]
  },
  {
   "cell_type": "code",
   "execution_count": 166,
   "id": "b6a49d36",
   "metadata": {},
   "outputs": [
    {
     "name": "stdout",
     "output_type": "stream",
     "text": [
      "Random Forest Best Parameters: {'max_depth': 30, 'min_samples_split': 10, 'n_estimators': 50}\n",
      "Random Forest Accuracy: 0.8\n",
      "Random Forest Precision: 0.8200692041522492\n",
      "Random Forest recall: 0.7770491803278688\n",
      "Random Forest f1_score: 0.797979797979798\n",
      "Classification Report:\n",
      "               precision    recall  f1-score   support\n",
      "\n",
      "           0       0.78      0.82      0.80       295\n",
      "           1       0.82      0.78      0.80       305\n",
      "\n",
      "    accuracy                           0.80       600\n",
      "   macro avg       0.80      0.80      0.80       600\n",
      "weighted avg       0.80      0.80      0.80       600\n",
      "\n"
     ]
    }
   ],
   "source": [
    "\n",
    "\n",
    "from sklearn.ensemble import RandomForestClassifier\n",
    "\n",
    "# Random Forest Model\n",
    "random_forest = RandomForestClassifier(oob_score=True,random_state=42)\n",
    "\n",
    "# Define hyperparameters for random forest\n",
    "param_grid_random_forest = {\n",
    "    'n_estimators': [50, 100, 500],\n",
    "    'max_depth': [10, 20, 30],\n",
    "    'min_samples_split': [2, 5, 10, 20]\n",
    "}\n",
    "\n",
    "# Train with GridSearchCV\n",
    "grid_search_random_forest = GridSearchCV(estimator=random_forest, param_grid=param_grid_random_forest, cv=5, scoring='accuracy', n_jobs=-1)\n",
    "grid_search_random_forest.fit(X_train, y_train)\n",
    "\n",
    "# Best model and evaluation\n",
    "best_random_forest = grid_search_random_forest.best_estimator_\n",
    "y_pred_random_forest = best_random_forest.predict(X_test)\n",
    "accuracy_random_forest = accuracy_score(y_test, y_pred_random_forest)\n",
    "precision_rf = precision_score(y_test, y_pred_random_forest)\n",
    "recall_rf = recall_score(y_test, y_pred_random_forest)\n",
    "f1_score_rf = f1_score(y_test, y_pred_random_forest)\n",
    "\n",
    "print(\"Random Forest Best Parameters:\", grid_search_random_forest.best_params_)\n",
    "print(\"Random Forest Accuracy:\", accuracy_random_forest)\n",
    "print(\"Random Forest Precision:\", precision_rf)\n",
    "print(\"Random Forest recall:\", recall_rf)\n",
    "print(\"Random Forest f1_score:\", f1_score_rf)\n",
    "print(\"Classification Report:\\n\", classification_report(y_test, y_pred_random_forest))\n",
    "\n"
   ]
  },
  {
   "cell_type": "code",
   "execution_count": null,
   "id": "519600d1",
   "metadata": {},
   "outputs": [],
   "source": []
  }
 ],
 "metadata": {
  "kernelspec": {
   "display_name": "Python 3 (ipykernel)",
   "language": "python",
   "name": "python3"
  },
  "language_info": {
   "codemirror_mode": {
    "name": "ipython",
    "version": 3
   },
   "file_extension": ".py",
   "mimetype": "text/x-python",
   "name": "python",
   "nbconvert_exporter": "python",
   "pygments_lexer": "ipython3",
   "version": "3.9.12"
  }
 },
 "nbformat": 4,
 "nbformat_minor": 5
}
